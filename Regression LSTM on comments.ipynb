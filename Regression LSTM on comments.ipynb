{
 "cells": [
  {
   "cell_type": "code",
   "execution_count": 1,
   "metadata": {
    "collapsed": true
   },
   "outputs": [],
   "source": [
    "import pandas as pd\n",
    "import numpy as np\n",
    "from sklearn.model_selection import train_test_split\n",
    "from sklearn.metrics import accuracy_score\n",
    "from sklearn.metrics import confusion_matrix\n",
    "from sklearn.model_selection import train_test_split\n",
    "from termcolor import colored"
   ]
  },
  {
   "cell_type": "code",
   "execution_count": 2,
   "metadata": {},
   "outputs": [
    {
     "name": "stderr",
     "output_type": "stream",
     "text": [
      "Using TensorFlow backend.\n"
     ]
    }
   ],
   "source": [
    "from gensim import models\n",
    "model = models.Word2Vec.load('../model/fbcomment.w2v')"
   ]
  },
  {
   "cell_type": "code",
   "execution_count": 3,
   "metadata": {
    "collapsed": true
   },
   "outputs": [],
   "source": [
    "df = pd.read_csv(\"fb_comment_token_annotated.tsv\",encoding='utf-8',sep='\\t')\n",
    "df['token_arr'] = df['token'].apply(lambda x:eval(x))"
   ]
  },
  {
   "cell_type": "code",
   "execution_count": null,
   "metadata": {
    "collapsed": true
   },
   "outputs": [],
   "source": []
  },
  {
   "cell_type": "code",
   "execution_count": 294,
   "metadata": {},
   "outputs": [],
   "source": [
    "comments = df['token_arr'].apply(lambda x: \" \".join(x))\n",
    "labels = df['judgeScore']\n",
    "for i,comment in enumerate(comments):\n",
    "    label = labels[i]\n",
    "    row = ''\n",
    "    row+=\"__label%d__ \"%(int(label))\n",
    "    row+=comment.replace(\"\\n\",\" \")\n",
    "    row+=\"\\n\"\n",
    "    \n",
    "    with open(\"./train2fastText.txt\", \"a\") as myfile:\n",
    "        myfile.write(row)"
   ]
  },
  {
   "cell_type": "code",
   "execution_count": 4,
   "metadata": {},
   "outputs": [
    {
     "name": "stderr",
     "output_type": "stream",
     "text": [
      "/home/users/u5722780406/miniconda3/envs/tf/lib/python3.5/site-packages/ipykernel_launcher.py:2: SettingWithCopyWarning: \n",
      "A value is trying to be set on a copy of a slice from a DataFrame.\n",
      "Try using .loc[row_indexer,col_indexer] = value instead\n",
      "\n",
      "See the caveats in the documentation: http://pandas.pydata.org/pandas-docs/stable/indexing.html#indexing-view-versus-copy\n",
      "  \n"
     ]
    }
   ],
   "source": [
    "scored = df[df['judgeScore']!=-32]\n",
    "scored['wordNum']= scored['token_arr'].apply(lambda x: len(x))\n"
   ]
  },
  {
   "cell_type": "code",
   "execution_count": 5,
   "metadata": {},
   "outputs": [
    {
     "data": {
      "text/plain": [
       "(6244,)"
      ]
     },
     "execution_count": 5,
     "metadata": {},
     "output_type": "execute_result"
    }
   ],
   "source": [
    "scored[scored['wordNum']<75]['message'].shape"
   ]
  },
  {
   "cell_type": "code",
   "execution_count": 6,
   "metadata": {
    "collapsed": true
   },
   "outputs": [],
   "source": [
    "#Let's use 15 as max_seq_len\n",
    "max_seq_len = 75\n",
    "k = 800\n",
    "lessThanMaxSeqLen = scored['wordNum']<=max_seq_len\n",
    "scoreddf = scored[lessThanMaxSeqLen]\n",
    "X = scoreddf['token_arr'].values\n",
    "y = (scored['judgeScore'][lessThanMaxSeqLen]+2)/4"
   ]
  },
  {
   "cell_type": "code",
   "execution_count": 7,
   "metadata": {},
   "outputs": [
    {
     "name": "stdout",
     "output_type": "stream",
     "text": [
      "Train set Row: 5004\n",
      "Test set Row: 626\n",
      "Validate set Row: 626\n"
     ]
    }
   ],
   "source": [
    "X_train,X_test , y_train,y_test = train_test_split(X,y.values,test_size=0.2,random_state=42)\n",
    "X_test,X_valid , y_test,y_valid = train_test_split(X_test,y_test,test_size=0.5,random_state=42)\n",
    "print(\"Train set Row: %d\"%(X_train.shape[0]))\n",
    "print(\"Test set Row: %d\"%(X_test.shape[0]))\n",
    "print(\"Validate set Row: %d\"%(X_valid.shape[0]))"
   ]
  },
  {
   "cell_type": "code",
   "execution_count": 8,
   "metadata": {},
   "outputs": [
    {
     "data": {
      "text/plain": [
       "0.250    2758\n",
       "0.750    1466\n",
       "0.500    1181\n",
       "0.000     335\n",
       "1.000     259\n",
       "0.125     171\n",
       "0.875      86\n",
       "Name: judgeScore, dtype: int64"
      ]
     },
     "execution_count": 8,
     "metadata": {},
     "output_type": "execute_result"
    }
   ],
   "source": [
    "y.value_counts()"
   ]
  },
  {
   "cell_type": "code",
   "execution_count": 9,
   "metadata": {},
   "outputs": [
    {
     "name": "stdout",
     "output_type": "stream",
     "text": [
      "PAD PAD PAD PAD PAD PAD PAD PAD PAD PAD PAD PAD PAD PAD PAD PAD PAD PAD PAD PAD PAD PAD PAD PAD PAD PAD PAD PAD PAD PAD PAD PAD PAD PAD PAD PAD PAD PAD PAD PAD PAD PAD PAD PAD PAD PAD PAD PAD PAD PAD PAD PAD PAD PAD PAD PAD PAD PAD PAD PAD PAD PAD PAD PAD PAD PAD PAD อยาก ผ่อน แต่ ไม่ มี บัตร ทำไง คร้า 0.75\n",
      "PAD PAD PAD PAD PAD PAD PAD PAD PAD PAD PAD PAD PAD PAD PAD PAD PAD PAD PAD PAD PAD PAD PAD PAD PAD PAD PAD PAD PAD PAD PAD PAD PAD PAD PAD ขี้ กาก มาก ๆ ๆ ๆ เน็ต ดี แทค ที่ พิษณุโลก ห่วย สุด ๆ ค่าย อื่น ดี กว่า อีก แรง ไม่ มี ตก\n",
      "กาก UNK ๆ ๆ ๆ ๆ ๆ ๆๆๆๆๆๆๆๆๆ UNK ๆๆๆ ๆ ๆ ๆ ๆๆๆ ๆ\n",
      " เสียดาย เงิน ที่ เติม ไป 0.25\n",
      "PAD PAD PAD PAD PAD PAD PAD PAD PAD PAD PAD PAD PAD PAD PAD PAD PAD PAD PAD PAD PAD PAD PAD PAD PAD PAD PAD PAD PAD PAD PAD PAD PAD PAD PAD PAD PAD PAD PAD PAD PAD PAD PAD PAD PAD PAD PAD PAD PAD PAD PAD PAD PAD PAD PAD PAD PAD PAD PAD PAD PAD PAD Huawei   p10   กับ   p10 +   ลด เท่า ไร ครับ 0.75\n",
      "PAD PAD PAD PAD PAD PAD PAD PAD PAD PAD PAD PAD PAD PAD PAD PAD PAD PAD PAD PAD PAD PAD PAD PAD PAD PAD PAD PAD PAD PAD PAD PAD PAD PAD PAD PAD PAD PAD PAD PAD PAD PAD PAD PAD PAD PAD PAD PAD PAD PAD PAD PAD PAD PAD PAD คอนแรก UNK คิด ว่า เครื่อง มี ปัญหา รีเซท เครื่อง ทุก อย่าง หาย หมด   เห้อ ออออออ   ที่ แท้ ก็ สัญญาณ 0.25\n",
      "PAD PAD PAD PAD PAD PAD PAD PAD PAD PAD PAD PAD PAD PAD PAD PAD PAD PAD PAD PAD PAD PAD PAD PAD PAD PAD PAD PAD PAD PAD PAD PAD PAD PAD PAD PAD PAD PAD PAD PAD PAD PAD PAD อยาก ทราบ วัน เปิด จอง   จะ มี อีก รอบ มั้ย ค๊ะ   หรือ มี ข่าว ล่าสุด เกี่ยว กับ   note 7   มั้ย   อยาก ได้ แต่ จอง ไม่ ทัน ค่ะ 0.75\n",
      "PAD PAD PAD PAD PAD PAD PAD PAD PAD PAD PAD PAD PAD PAD PAD PAD PAD PAD PAD PAD PAD PAD PAD PAD PAD PAD PAD PAD PAD PAD PAD PAD PAD PAD PAD PAD PAD PAD PAD PAD PAD PAD PAD PAD PAD PAD PAD PAD PAD PAD PAD PAD PAD PAD PAD PAD PAD PAD PAD PAD PAD PAD PAD PAD PAD ให้ สัญญาณ ชัด ทุก ที่ มาก กว่า ค่าย อื่น ค่ะ 1.0\n",
      "PAD PAD PAD PAD PAD PAD PAD PAD PAD PAD PAD PAD PAD PAD PAD PAD PAD PAD PAD PAD PAD PAD PAD PAD PAD PAD PAD PAD PAD PAD PAD PAD PAD PAD PAD PAD PAD PAD PAD PAD PAD PAD PAD PAD PAD PAD PAD PAD PAD PAD PAD PAD PAD PAD PAD PAD PAD PAD PAD PAD PAD PAD PAD สัญญา ณ มา ๆ หาย ๆ   ปรับปรุง หน่อย ครับ   👎 0.0\n",
      "PAD PAD PAD PAD PAD PAD PAD PAD PAD PAD PAD PAD PAD PAD PAD PAD PAD PAD PAD PAD PAD PAD PAD PAD PAD PAD PAD PAD PAD PAD PAD PAD PAD PAD PAD PAD PAD PAD PAD PAD PAD PAD PAD PAD PAD PAD PAD PAD PAD PAD PAD PAD PAD PAD PAD PAD PAD PAD PAD PAD PAD PAD PAD PAD PAD PAD PAD PAD PAD PAD PAD PAD PAD น่า สนใจ 0.75\n",
      "PAD PAD PAD PAD PAD PAD PAD PAD PAD PAD PAD PAD PAD PAD PAD PAD PAD PAD PAD PAD PAD PAD PAD PAD PAD PAD PAD PAD PAD PAD PAD PAD PAD PAD PAD PAD PAD PAD PAD PAD PAD PAD PAD PAD PAD PAD PAD PAD PAD PAD PAD PAD PAD PAD PAD PAD PAD PAD PAD PAD PAD PAD สอบถาม ค่ะ ยา้ย ค่าย เบอเดิม\n",
      " UNK ถ้า เอา เครื่องไหม่ UNK ต้อง เสี้ย UNK อะไร บาง ค่ะ 0.75\n",
      "PAD PAD PAD PAD PAD PAD PAD PAD PAD PAD PAD PAD PAD PAD PAD PAD PAD PAD PAD PAD PAD PAD PAD PAD PAD PAD PAD PAD PAD PAD PAD PAD PAD PAD PAD PAD PAD PAD PAD PAD PAD PAD PAD PAD PAD PAD PAD PAD PAD PAD PAD PAD PAD PAD PAD PAD PAD PAD PAD PAD PAD มี แบบ เล่น เน็ต ไม่ จำกัด   แบบ   15   วัน ไหม ค่ะ 0.5\n",
      "PAD PAD PAD PAD PAD PAD PAD PAD PAD PAD PAD PAD PAD PAD PAD PAD PAD PAD PAD PAD PAD PAD PAD PAD PAD PAD PAD PAD PAD PAD PAD PAD PAD PAD PAD PAD PAD PAD PAD PAD PAD PAD PAD PAD PAD PAD PAD PAD PAD PAD PAD PAD PAD PAD PAD PAD PAD PAD PAD PAD PAD PAD PAD PAD Vivo   v 5   จะ ซื้อ ต้อง ทำ ไง คับ 0.75\n",
      "PAD PAD PAD PAD PAD PAD PAD PAD PAD PAD PAD PAD PAD PAD PAD PAD PAD PAD PAD PAD PAD PAD PAD PAD PAD PAD PAD PAD PAD PAD PAD PAD PAD PAD PAD PAD PAD PAD PAD PAD PAD PAD PAD PAD PAD PAD PAD PAD PAD PAD PAD PAD PAD PAD PAD PAD PAD PAD PAD PAD PAD PAD PAD PAD PAD PAD PAD PAD PAD ทำมัย ชอบ โกหก ลูกค้า จัง ค่ะ 0.25\n",
      "PAD PAD PAD PAD PAD PAD PAD PAD PAD PAD PAD PAD PAD PAD PAD PAD PAD PAD PAD PAD PAD PAD PAD PAD PAD จะ ใช้   4 G+   รี วิว สถานที่ ท่องเที่ยว   อาหาร   วัฒนธรรม ต่าง ของ ไทย ให้ กับ ดีโอ   exo     พา คน ใน วง มา เที่ยว   ให้ ชอบ ประเทศ เรา โปรโมท ให้ คน มา เที่ยว เยอะ ๆ เศรษฐกิจ บ้าน เรา จะ ได้ ครึกคัก UNK   😁 0.875\n",
      "PAD PAD PAD PAD PAD PAD PAD PAD PAD PAD PAD PAD PAD PAD PAD PAD PAD PAD PAD PAD PAD PAD PAD PAD PAD PAD PAD PAD PAD PAD PAD PAD PAD PAD PAD PAD PAD PAD PAD PAD PAD PAD PAD PAD PAD PAD PAD PAD PAD PAD PAD PAD PAD PAD PAD PAD PAD PAD PAD PAD PAD PAD PAD PAD PAD PAD PAD สัญญาณ ไม่ ค่อย ดี นะ ปรับปรุง สัญญาน เถอะ 0.0\n",
      "PAD PAD PAD PAD PAD PAD PAD PAD PAD PAD PAD PAD PAD PAD PAD PAD PAD PAD PAD PAD PAD PAD PAD PAD PAD PAD PAD PAD PAD PAD PAD PAD PAD PAD PAD PAD PAD PAD PAD PAD PAD PAD PAD PAD PAD PAD PAD PAD PAD PAD PAD PAD PAD PAD PAD PAD PAD PAD PAD PAD PAD PAD PAD โทรศัพท์ ชอบ หมุน ติ๊ว ๆ ยุ นั่น แหละ น่า รำคาญ มาก เลย 0.25\n",
      "PAD PAD PAD PAD PAD PAD PAD PAD PAD PAD PAD PAD PAD PAD PAD PAD PAD PAD PAD PAD PAD PAD PAD PAD PAD PAD PAD PAD PAD PAD PAD PAD PAD PAD PAD PAD PAD PAD PAD PAD PAD PAD PAD PAD PAD PAD PAD PAD PAD PAD PAD PAD PAD PAD PAD PAD PAD PAD PAD PAD PAD iPhone   5 s .   เครื่อง เปล่า   ราคา ปัจจุบัน เท่า ไร ครับ 0.75\n",
      "PAD PAD PAD PAD PAD PAD PAD PAD PAD PAD PAD PAD PAD PAD PAD ใช้   19   บาท   4 G   500 m   พอ   500 m   หมด   ช่วย ให้ เน็ต ที่ ไว กว่า นี้ หน่อย ได้ มั้ย ว่ะ   คุย กับ คัย แม่ง ไม่ ได้ เลย   เช็ค ความ เล็ว UNK แม่ง ไม่ ถึง   64   k   ด้วย   หมด ความ อดทน เมื่อ ไหร่ ย้าย ค่าย แม่ง 0.25\n",
      "PAD PAD PAD PAD PAD PAD PAD PAD PAD PAD PAD PAD PAD PAD PAD PAD PAD PAD PAD PAD PAD PAD PAD PAD PAD PAD PAD PAD PAD PAD PAD PAD PAD PAD PAD PAD PAD PAD PAD PAD PAD PAD PAD PAD PAD PAD PAD PAD PAD PAD PAD PAD PAD PAD PAD PAD PAD PAD PAD PAD PAD PAD PAD PAD PAD PAD PAD PAD PAD ช่วย ตอบ ข้อความ ไป หน่อย ค่ะ 0.5\n",
      "PAD PAD PAD PAD PAD PAD PAD PAD PAD PAD PAD PAD PAD PAD PAD PAD PAD PAD PAD PAD PAD PAD PAD PAD PAD PAD PAD PAD PAD PAD PAD PAD PAD PAD PAD PAD PAD PAD PAD PAD PAD ลื่น ตรง ไหน หมุน ทั้ง วัน เข้า อะไร ก็ ไม่ ได้ โทร ไป ก็ บอก จะ รีเซท สัญญาณ ให้ ใหม่ นี่ โทร ติดต่อ กัน 3 วัน ล่ะ ไม่ โทร แล้ว จะ ย้าย หนี ละ 0.25\n",
      "PAD PAD PAD PAD PAD PAD PAD PAD PAD PAD PAD PAD PAD PAD PAD PAD PAD PAD PAD PAD PAD PAD PAD PAD PAD PAD PAD PAD PAD PAD PAD PAD PAD PAD PAD มี ปัญหา มาก   เนต   4 g   อ่อน มาก   มา ๆ หาย ๆ   ยิ่ง กว่า น้ำ ประปา   อยู่ พระรามเก้า UNK   ทำ งาน รัชดา ฯ   โทรศัพท์ ก็ ยัง ไม่ มี สัญญาณ   ระบบ แย่ มาก 0.25\n",
      "PAD PAD PAD PAD PAD PAD PAD PAD PAD PAD PAD PAD PAD PAD PAD PAD PAD PAD PAD PAD PAD PAD PAD PAD PAD PAD PAD PAD PAD PAD PAD PAD PAD PAD PAD PAD PAD PAD PAD PAD PAD PAD PAD PAD PAD PAD PAD PAD PAD PAD PAD PAD PAD PAD PAD PAD PAD PAD PAD PAD อยาก ทราบ ว่า เครือ่ง 500 กับ เครือง 1000 มัน ต่าง กัน มาก หรือ ป่าว ครับ 0.5\n",
      "PAD PAD PAD PAD PAD PAD PAD PAD PAD PAD PAD PAD PAD PAD PAD PAD PAD PAD PAD PAD PAD PAD PAD PAD PAD PAD PAD PAD PAD PAD PAD PAD PAD PAD PAD PAD PAD PAD PAD PAD PAD PAD PAD PAD PAD PAD PAD PAD PAD PAD PAD PAD PAD PAD PAD PAD PAD PAD PAD PAD PAD PAD PAD PAD PAD PAD PAD PAD PAD ใช้ ดี มาก ๆ ๆ ฟ 1.0\n",
      "PAD PAD PAD PAD PAD PAD PAD PAD PAD PAD PAD PAD PAD PAD PAD PAD PAD PAD PAD PAD PAD PAD PAD PAD PAD PAD PAD PAD PAD PAD PAD PAD PAD PAD PAD PAD PAD PAD PAD PAD PAD PAD PAD PAD PAD PAD PAD PAD PAD PAD PAD PAD PAD PAD PAD PAD PAD PAD PAD PAD PAD PAD PAD PAD PAD ใม ท่า เรือ แหลม ไม่ ต้อง เลย บอด สนิด อะ 0.0\n",
      "PAD PAD PAD PAD PAD PAD PAD PAD PAD PAD PAD PAD PAD PAD PAD PAD PAD PAD PAD PAD PAD PAD PAD PAD PAD PAD PAD PAD PAD PAD PAD PAD PAD PAD PAD PAD PAD PAD PAD PAD PAD PAD PAD PAD PAD PAD PAD PAD PAD PAD PAD PAD PAD PAD PAD PAD PAD PAD PAD PAD PAD PAD PAD PAD PAD ณ   ตอน นี้ ยูทูป ยัง ดู ม่ ได้ เลย 0.25\n",
      "PAD PAD PAD PAD PAD PAD วัน ที่ 7   สิงหาคม   2559   ได้ สมัคร แพ็คเก็จเสริม .   HD .  บอล ไทย แพ็คเก็จ UNK   180   สมัคร เรียบร้อย หัก เงิน เรียบร้อย   แต่ สรุป ดู ไม่ ได้     มัน คือ อะไร ครับ   แต่ ทาง กลับ กัน ผม สมัคร วัน ล่ะ 10   บาท ดู ได้ .   สรุป 180   บาท ดู ไม่ ได้ หรือ ยัง ไง ฝาก ตรวจสอบ ให้ ดู ครับ . 0.5\n",
      "PAD PAD PAD PAD PAD PAD PAD PAD PAD PAD PAD PAD PAD PAD PAD PAD PAD PAD PAD PAD PAD PAD PAD PAD PAD PAD PAD PAD PAD PAD PAD PAD PAD PAD PAD PAD PAD PAD PAD PAD PAD PAD PAD PAD PAD PAD PAD PAD PAD PAD PAD PAD PAD PAD PAD PAD PAD PAD PAD PAD PAD PAD PAD PAD PAD PAD PAD PAD PAD ขอ รายละเอียด       สนใจ 0.5\n",
      "PAD PAD PAD PAD PAD PAD PAD PAD PAD PAD PAD PAD PAD PAD PAD PAD PAD PAD PAD PAD PAD PAD PAD PAD PAD PAD PAD PAD PAD PAD PAD PAD PAD PAD PAD PAD PAD PAD PAD PAD PAD PAD PAD PAD PAD PAD PAD PAD PAD PAD PAD PAD PAD PAD PAD PAD PAD PAD PAD PAD PAD PAD PAD PAD PAD PAD PAD PAD PAD PAD PAD LOVE .   Dtac 1.0\n",
      "PAD PAD PAD PAD PAD PAD PAD PAD PAD PAD PAD PAD PAD PAD PAD PAD PAD PAD PAD PAD PAD PAD PAD PAD PAD PAD PAD PAD PAD PAD PAD PAD PAD PAD PAD PAD PAD PAD PAD PAD PAD PAD PAD PAD PAD PAD PAD PAD PAD PAD PAD PAD PAD PAD PAD โทร มา เลย   กู อยาก รับ สาย   จาก   ดี แต่ แดก .. ( Dtac )   0822252342 UNK 0.0\n",
      "PAD PAD PAD PAD PAD PAD PAD PAD PAD PAD PAD PAD PAD PAD PAD ช่วย ปรับปรุง เครือข่าย ให้ ดี ก่อน ไหม ค่ะ เครือข่าย ล่ม ตั่งแต่ เที่ยง คืน ถึง ตี 5 คุณ คิด ว่า มัน นาน ไป ไหม       กว่า จะ สมัคร เน็ต ได้ ห้า ชั่วโมง เสีย เงิน สมัคร ค่ะ ไม่ ได้ ขอ เน็ต ฟรี   อีก อย่าง ไม่ ใช่ หน แรก   ถ้า ขื่น UNK เป็น แบบ นี้ อีก ก็ บาย ค่ะ AIS 0.0\n",
      "PAD PAD PAD PAD PAD PAD PAD PAD PAD PAD PAD PAD PAD ผม กราบ แล้ว ครับ กรุณา ปรับปรุง สัญญาณ ให้ ดี เหมือน ที่ โฆษณา หน่อย   อย่า มัว แต่ โฆษณา โกหก หลอกหลวง ไป วัน ๆ   ผม ขอ บังอาจ UNK แนะนำ นิดนึง น่า จะ จัดทีม UNK ลง ไป ตรวจสอบ สัญญาณ ใน พื้นที่ จริง ตาม ที่ ได้ รับ แจ้ง ปัญหา น่า จะ ดี กว่า ตรวจสอบ แต่ ใน ระบบ #ขยัน UNK ปรับปรุง สัญญาณ ให้ เหมือน ขยัน ทวง เงิน หน่อย 0.25\n",
      "PAD PAD PAD PAD PAD PAD PAD PAD PAD PAD PAD PAD PAD PAD PAD PAD PAD PAD PAD PAD PAD PAD PAD PAD PAD PAD PAD PAD PAD PAD PAD PAD PAD PAD PAD PAD PAD PAD PAD PAD PAD PAD PAD PAD PAD PAD PAD PAD PAD PAD ชอบ ความ จิ๊กกัด UNK ของ พี่ ป๊อป   เคย ดู คอน เสริต์ UNK แล้ว ติดใจ   ❤️   #ลูก ค้า ดี แทค ฟัง JOOX ไม่ เสีย เน็ต 1.0\n",
      "PAD PAD PAD PAD PAD PAD PAD PAD PAD PAD PAD PAD PAD PAD PAD PAD PAD PAD PAD PAD PAD PAD PAD PAD PAD PAD ใช้ เน็ต ราย เดือน 399 .   3 g   . พอ ครบ 3g แล้ว ดู อะไร ไม่ ได้ เลย   เฟช   ลาย   ยูทูป   เชงชิป UNK หาย เลย   ถ้า ยัง เป็น แบบ นี้ คง ต้อง พา เมีย กับ ลูก ๆ ไป ใช้ ค่าย เดิม ดี กว่า 0.25\n",
      "31\n"
     ]
    }
   ],
   "source": [
    "mapping = [-1,0,1]\n",
    "def generate_batch(i,batch_size=32,verbose=False,X=X_train,y=y_train):\n",
    "    comments = X[i:i+batch_size] \n",
    "    avaiRow = comments.shape[0]\n",
    "    batch_X = np.zeros([batch_size,max_seq_len,k+2])\n",
    "    batch_Y = y[i:i+batch_size]\n",
    "    for i,comment in enumerate(comments):\n",
    "        for j in range(max_seq_len):\n",
    "            if(max_seq_len-j>len(comment)): # Should not be word yet\n",
    "                if(verbose):print(\"PAD\",end=' ')\n",
    "                batch_X[i][j][-1] = 1\n",
    "            else: \n",
    "                if(verbose):print(comment[j-(max_seq_len-len(comment))],end=' ')\n",
    "                try:\n",
    "                    batch_X[i][j] = np.concatenate((model[comment[j-(max_seq_len-len(comment))]],np.zeros([2])))\n",
    "                except Exception:\n",
    "                    if(verbose):print(\"UNK\",end=' ')\n",
    "                    batch_X[i][j] = np.concatenate((np.zeros([k+1]),[1]))\n",
    "        if(verbose):print(batch_Y[i])\n",
    "    if(verbose):print(i)\n",
    "    batch_Y = np.array([np.array([i]) for i in batch_Y])\n",
    "    return (batch_X[:avaiRow],batch_Y[:avaiRow])\n",
    "\n",
    "import random\n",
    "(batch_X,batch_Y) = generate_batch(random.randint(0,X_train.shape[0]),verbose=True)"
   ]
  },
  {
   "cell_type": "code",
   "execution_count": 10,
   "metadata": {},
   "outputs": [
    {
     "name": "stdout",
     "output_type": "stream",
     "text": [
      "(626, 75, 802)\n",
      "(626, 1)\n"
     ]
    }
   ],
   "source": [
    "#Prepare test and validate set\n",
    "(test_X,test_Y) = generate_batch(0,10000,X=X_test,y=y_test)\n",
    "(valid_X,valid_Y) = generate_batch(0,10000,X=X_valid,y=y_valid)\n",
    "print(test_X.shape)\n",
    "print(test_Y.shape)"
   ]
  },
  {
   "cell_type": "markdown",
   "metadata": {},
   "source": [
    "## Create a model"
   ]
  },
  {
   "cell_type": "code",
   "execution_count": 11,
   "metadata": {
    "collapsed": true
   },
   "outputs": [],
   "source": [
    "import tensorflow as tf\n",
    "#Define two variables which will hols the input data and the target data.\n",
    "data = tf.placeholder(tf.float32, [None, max_seq_len,k+2])\n",
    "target = tf.placeholder(tf.float32, [None, 1])"
   ]
  },
  {
   "cell_type": "code",
   "execution_count": 12,
   "metadata": {
    "collapsed": true
   },
   "outputs": [],
   "source": [
    "#Create RNN cell\n",
    "from tensorflow.python.ops import rnn, rnn_cell\n",
    "num_hidden = 200\n",
    "num_layers = 3\n",
    "cells = []\n",
    "for i in range(num_layers):\n",
    "    cell = rnn_cell.BasicLSTMCell(num_hidden,state_is_tuple=True)\n",
    "    cell2 = tf.nn.rnn_cell.DropoutWrapper(cell, output_keep_prob=0.5)\n",
    "    cells.append(cell2)\n",
    "cell = rnn_cell.MultiRNNCell(cells , state_is_tuple=True)"
   ]
  },
  {
   "cell_type": "code",
   "execution_count": 13,
   "metadata": {
    "collapsed": true
   },
   "outputs": [],
   "source": [
    "val, state = tf.nn.dynamic_rnn(cell, data, dtype=tf.float32)\n",
    "valT = tf.transpose(val,[1,0,2])\n",
    "last = tf.gather(valT,int(valT.get_shape()[0])-1)"
   ]
  },
  {
   "cell_type": "code",
   "execution_count": 14,
   "metadata": {
    "collapsed": true
   },
   "outputs": [],
   "source": [
    "weight = tf.Variable(tf.truncated_normal([num_hidden, int(target.get_shape()[1])]))\n",
    "bias = tf.Variable(tf.constant(0.1, shape=[target.get_shape()[1]]))\n",
    "prediction = tf.nn.sigmoid(tf.matmul(last,weight)+bias)"
   ]
  },
  {
   "cell_type": "code",
   "execution_count": 15,
   "metadata": {
    "collapsed": true
   },
   "outputs": [],
   "source": [
    "allpredictions = tf.transpose(tf.map_fn(lambda x: tf.nn.sigmoid(tf.matmul(x,weight)+bias), valT, dtype=tf.float32),[1,0,2])"
   ]
  },
  {
   "cell_type": "code",
   "execution_count": 16,
   "metadata": {
    "collapsed": true
   },
   "outputs": [],
   "source": [
    "loss = tf.reduce_mean(tf.squared_difference(prediction, target))"
   ]
  },
  {
   "cell_type": "code",
   "execution_count": 17,
   "metadata": {},
   "outputs": [
    {
     "name": "stderr",
     "output_type": "stream",
     "text": [
      "/home/users/u5722780406/miniconda3/envs/tf/lib/python3.5/site-packages/tensorflow/python/ops/gradients_impl.py:93: UserWarning: Converting sparse IndexedSlices to a dense Tensor of unknown shape. This may consume a large amount of memory.\n",
      "  \"Converting sparse IndexedSlices to a dense Tensor of unknown shape. \"\n"
     ]
    }
   ],
   "source": [
    "optimizer = tf.train.AdamOptimizer()\n",
    "minimize = optimizer.minimize(loss)"
   ]
  },
  {
   "cell_type": "code",
   "execution_count": 39,
   "metadata": {
    "collapsed": true
   },
   "outputs": [],
   "source": [
    "init_op = tf.global_variables_initializer()\n",
    "\n",
    "config = tf.ConfigProto()\n",
    "config.gpu_options.per_process_gpu_memory_fraction = 0.4\n",
    "sess = tf.Session(config=config)\n",
    "\n",
    "sess.run(init_op)"
   ]
  },
  {
   "cell_type": "code",
   "execution_count": 19,
   "metadata": {
    "collapsed": true
   },
   "outputs": [],
   "source": [
    "def toSent(n):\n",
    "    if(n<0.45):return 0\n",
    "    elif(n<0.65):return 0.5\n",
    "    else:return 1"
   ]
  },
  {
   "cell_type": "code",
   "execution_count": 20,
   "metadata": {
    "collapsed": true
   },
   "outputs": [],
   "source": [
    "def cal_acc(pred,real):\n",
    "    assert(pred.shape[0]==real.shape[0])\n",
    "    pred_label = pred.copy()\n",
    "    pred_label[(pred_label<0.45)] = 0\n",
    "    pred_label[(pred_label>0.45)&(pred_label<0.65)] = 0.5\n",
    "    pred_label[(pred_label>.65)&(pred_label<=1)] = 1\n",
    "\n",
    "    real_label = real.copy()\n",
    "    real_label[(real_label<0.45)] = 0\n",
    "    real_label[(real_label>0.45)&(real_label<0.65)] = 0.5\n",
    "    real_label[(real_label>0.65)&(real_label<=1)] = 1\n",
    "    return ((pred_label==real_label).sum())/pred_label.shape[0]\n"
   ]
  },
  {
   "cell_type": "code",
   "execution_count": 21,
   "metadata": {
    "scrolled": false
   },
   "outputs": [
    {
     "name": "stdout",
     "output_type": "stream",
     "text": [
      "............................................................................................................................................................\n",
      "Epoch -  0\n",
      "Avg Accuracy (training set): 0.62\n",
      "Accuracy (test set): 0.59\n",
      "====================================\n",
      "Show test result\n",
      "\u001b[30mโปรสุด\u001b[0m\u001b[30mยอด\u001b[0m\u001b[34mอะเปลี่ยน\u001b[0m\u001b[30mใช้\u001b[0m\u001b[30mทรู\u001b[0m\u001b[30mดี\u001b[0m\u001b[31mกว่า\u001b[0m\u001b[30mมั้ง\u001b[0m, 0.68 Ans: 0.25 X\n",
      "\u001b[30mทั้ง\u001b[0m\u001b[30m \u001b[0m\u001b[30m2\u001b[0m\u001b[30m \u001b[0m\u001b[30mแพ็\u001b[0m\u001b[30mคลด\u001b[0m\u001b[30mสปีด\u001b[0m\u001b[30mมั้ย\u001b[0m\u001b[30mครับ\u001b[0m, 0.71 Ans: 0.50 X\n",
      "\u001b[30mไม่\u001b[0m\u001b[30mใช่\u001b[0m\u001b[30mคน\u001b[0m\u001b[30mไทย\u001b[0m\u001b[30mซื้อ\u001b[0m\u001b[34mเครื่อง\u001b[0m\u001b[30mศูนย์\u001b[0m\u001b[34mแบบ\u001b[0m\u001b[34mราย\u001b[0m\u001b[1m\u001b[34mเดีอน\u001b[0m\u001b[30masus\u001b[0m\u001b[34m \u001b[0m\u001b[1m\u001b[34m6\u001b[0m\u001b[34mได้\u001b[0m\u001b[1m\u001b[34mไหม\u001b[0m\u001b[1m\u001b[34mครัย\u001b[0m, 0.84 Ans: 0.75 ✓\n",
      "\u001b[30mๆ\u001b[0m\u001b[30mม่\u001b[0m\u001b[30mรับผิดชอบ\u001b[0m\u001b[31m \u001b[0m\u001b[31mอย่า\u001b[0m\u001b[31mใช้\u001b[0m\u001b[31mๆ\u001b[0m\u001b[1m\u001b[31mเลย\n",
      "\u001b[0m\u001b[31mเน็ต\u001b[0m\u001b[31mครบ\u001b[0m\u001b[1m\u001b[31mปริมาณ\u001b[0m\u001b[31mแต่\u001b[0m\u001b[31mมี\u001b[0m\u001b[1m\u001b[31mแถม\u001b[0m\u001b[31mอีก\u001b[0m\u001b[31mแต่\u001b[0m\u001b[31mเสือก\u001b[0m\u001b[31mใช้\u001b[0m\u001b[1m\u001b[31mงาน\u001b[0m\u001b[31mแทบ\u001b[0m\u001b[1m\u001b[31mไม่\u001b[0m\u001b[30mได้\u001b[0m, 0.29 Ans: 0.25 ✓\n",
      "\u001b[31mผม\u001b[0m\u001b[30mสมัคร\u001b[0m\u001b[30mไป\u001b[0m\u001b[30mแล้ว\u001b[0m\u001b[30mเมื่อ\u001b[0m\u001b[30mอาทิต\u001b[0m\u001b[30mที่\u001b[0m\u001b[30mแล้ว\u001b[0m\u001b[30mจะ\u001b[0m\u001b[30mมี\u001b[0m\u001b[30mสิทธิ\u001b[0m\u001b[34mได้\u001b[0m\u001b[30mรับ\u001b[0m\u001b[34mไม\u001b[0m\u001b[31mครับ\u001b[0m, 0.70 Ans: 0.50 X\n",
      "\u001b[30mโปร\u001b[0m\u001b[30m \u001b[0m\u001b[30m4\u001b[0m\u001b[34m \u001b[0m\u001b[31m \u001b[0m\u001b[30mm\u001b[0m\u001b[34m \u001b[0m\u001b[30mงาม\u001b[0m\u001b[30mใส้\u001b[0m\u001b[30mเลย\u001b[0m\u001b[30mเสียดาย\u001b[0m\u001b[30mเงิน\u001b[0m\u001b[31mมาก\u001b[0m, 0.50 Ans: 0.25 X\n",
      "\u001b[31mสัญญาณ\u001b[0m\u001b[1m\u001b[31mกาก\u001b[0m\u001b[1m\u001b[31mมาก\u001b[0m\u001b[1m\u001b[31m..\u001b[0m\u001b[1m\u001b[31mขนาด\u001b[0m\u001b[31mใน\u001b[0m\u001b[31m \u001b[0m\u001b[1m\u001b[31mกทม\u001b[0m\u001b[1m\u001b[31mใน\u001b[0m\u001b[31mห้าง\u001b[0m\u001b[1m\u001b[31mใหญ่\u001b[0m\u001b[1m\u001b[31mๆ\u001b[0m\u001b[31mแม่งยัง\u001b[0m\u001b[1m\u001b[31mกาก\u001b[0m\u001b[1m\u001b[31m...\u001b[0m\u001b[1m\u001b[31mวัน\u001b[0m\u001b[1m\u001b[31mจัน\u001b[0m\u001b[1m\u001b[31mนี้\u001b[0m\u001b[1m\u001b[31mย้าย\u001b[0m\u001b[1m\u001b[31mแน่นอน\u001b[0m, 0.02 Ans: 0.00 ✓\n",
      "\u001b[30miphone\u001b[0m\u001b[30m \u001b[0m\u001b[30m5\u001b[0m\u001b[34m \u001b[0m\u001b[30mเท้า\u001b[0m\u001b[30mไร\u001b[0m\u001b[34mคับ\u001b[0m\u001b[34m \u001b[0m\u001b[34mไม่\u001b[0m\u001b[30mต้อง\u001b[0m\u001b[34mมี\u001b[0m\u001b[34mโปรโมชั่น\u001b[0m\u001b[34m \u001b[0m\u001b[30mเครื่อง\u001b[0m\u001b[30mเปล่า\u001b[0m\u001b[34mเท่า\u001b[0m\u001b[1m\u001b[34mไร\u001b[0m\u001b[1m\u001b[34mคับ\u001b[0m, 0.87 Ans: 0.75 ✓\n",
      "\u001b[30mเจ๊\u001b[0m\u001b[34mจัด\u001b[0m\u001b[34mหนัก\u001b[0m\u001b[1m\u001b[34m#dtacreward\u001b[0m\u001b[1m\u001b[34m \u001b[0m\u001b[1m\u001b[34maunchasa \u001b[0m\u001b[1m\u001b[34mkullavijit\u001b[0m, 0.99 Ans: 0.75 ✓\n",
      "\u001b[30mสั่ง\u001b[0m\u001b[34mชื้อ\u001b[0m\u001b[30mได้\u001b[0m\u001b[30mแบบ\u001b[0m\u001b[30mไหน\u001b[0m\u001b[30mค่ะ\u001b[0m\u001b[34m2500\u001b[0m\u001b[30mนะ\u001b[0m\u001b[34mค่ะ\u001b[0m\u001b[30mใช้\u001b[0m\u001b[34mAISยุ\u001b[0m\u001b[34mค่ะ\u001b[0m, 0.77 Ans: 0.75 ✓\n",
      "Acc: 0.60\n",
      "............................................................................................................................................................\n",
      "Epoch -  1\n",
      "Avg Accuracy (training set): 0.66\n",
      "Accuracy (test set): 0.66\n",
      "====================================\n",
      "Show test result\n",
      "\u001b[30mอย่า\u001b[0m\u001b[31mพูด\u001b[0m\u001b[31mเยอะ\u001b[0m\u001b[31m \u001b[0m\u001b[31mไป\u001b[0m\u001b[31mปรับปรุง\u001b[0m\u001b[1m\u001b[31mสัญญาณ\u001b[0m\u001b[1m\u001b[31mให้\u001b[0m\u001b[1m\u001b[31mดี\u001b[0m\u001b[1m\u001b[31mก่อน\u001b[0m\u001b[31m \u001b[0m\u001b[31mหมุน\u001b[0m\u001b[1m\u001b[31mแม่ง\u001b[0m\u001b[1m\u001b[31mอยู่\u001b[0m\u001b[31mนั่น\u001b[0m\u001b[31mหล่ะ\u001b[0m\u001b[31m \u001b[0m\u001b[1m\u001b[31mขนาด\u001b[0m\u001b[1m\u001b[31mใช้\u001b[0m\u001b[1m\u001b[31mโปร\u001b[0m\u001b[1m\u001b[31m \u001b[0m\u001b[1m\u001b[31m499\u001b[0m\u001b[31m \u001b[0m\u001b[31mนะ\u001b[0m, 0.41 Ans: 0.25 ✓\n",
      "\u001b[30mหา\u001b[0m\u001b[30mชื้อ\u001b[0m\u001b[30mที่\u001b[0m\u001b[34mใหน\u001b[0m\u001b[1m\u001b[34mใด้\u001b[0m\u001b[34mค่ะ\u001b[0m, 0.77 Ans: 0.75 ✓\n",
      "\u001b[31mเบื่อ\u001b[0m\u001b[31mโฆษณา\u001b[0m\u001b[1m\u001b[31mมึงแท้\u001b[0m, 0.11 Ans: 0.25 ✓\n",
      "\u001b[31mเซง\u001b[0m\u001b[31mนะ\u001b[0m\u001b[31mค่ะ\u001b[0m\u001b[30mเเบบ\u001b[0m\u001b[30mนี้\u001b[0m\u001b[30mโปรเเกรม\u001b[0m\u001b[31mคุณ\u001b[0m\u001b[31mผิดผลาด\u001b[0m\u001b[1m\u001b[31mรึ\u001b[0m\u001b[1m\u001b[31mป่าว\u001b[0m\u001b[31mค่ะ\u001b[0m, 0.22 Ans: 0.25 ✓\n",
      "\u001b[30mไม่\u001b[0m\u001b[31mตอบ\u001b[0m\u001b[31mเลย\u001b[0m\u001b[31mหึ\u001b[0m\u001b[1m\u001b[31mไม่\u001b[0m\u001b[31mเอา\u001b[0m\u001b[1m\u001b[31m128\u001b[0m\u001b[31m \u001b[0m\u001b[31mkboe\u001b[0m\u001b[1m\u001b[31m \u001b[0m\u001b[31mมา\u001b[0m\u001b[31mไห้\u001b[0m\u001b[30mผม\u001b[0m\u001b[31mน่ะ\u001b[0m\u001b[31mบอก\u001b[0m\u001b[30mแม่\u001b[0m\u001b[31mผม\u001b[0m\u001b[31mแน่\u001b[0m\u001b[31mเอา\u001b[0m\u001b[31m64\u001b[0m\u001b[31mคืน\u001b[0m\u001b[31mไป\u001b[0m\u001b[31mเลย\u001b[0m\u001b[31mไม่\u001b[0m\u001b[1m\u001b[31mงัน\u001b[0m\u001b[1m\u001b[31mก่\u001b[0m\u001b[31mเอา\u001b[0m\u001b[31mตังคืน\u001b[0m\u001b[31mมา\u001b[0m, 0.32 Ans: 0.25 ✓\n",
      "\u001b[30mทำไม\u001b[0m\u001b[30mช่วง\u001b[0m\u001b[30mนี้\u001b[0m\u001b[31mเน็ต\u001b[0m\u001b[31mกาก\u001b[0m\u001b[1m\u001b[31mสัด\u001b[0m\u001b[1m\u001b[31mครับ\u001b[0m\u001b[31m \u001b[0m\u001b[31mผม\u001b[0m\u001b[1m\u001b[31mนึก\u001b[0m\u001b[1m\u001b[31mว่ส\u001b[0m\u001b[1m\u001b[31mผม\u001b[0m\u001b[31mเปน\u001b[0m\u001b[31mคน\u001b[0m\u001b[1m\u001b[31mเดียว\u001b[0m\u001b[31m \u001b[0m\u001b[31mอ่าน\u001b[0m\u001b[31mคอม\u001b[0m\u001b[1m\u001b[31mเม้น\u001b[0m\u001b[1m\u001b[31mปุ๊บ\u001b[0m\u001b[1m\u001b[31mรู้\u001b[0m\u001b[31mเลย\u001b[0m\u001b[1m\u001b[31m \u001b[0m\u001b[1m\u001b[31mกาก\u001b[0m\u001b[1m\u001b[31mทั่ว\u001b[0m\u001b[1m\u001b[31mประเทศ\u001b[0m, 0.26 Ans: 0.00 ✓\n",
      "\u001b[31mลื่น\u001b[0m\u001b[31mมาก\u001b[0m\u001b[31mค่ะ\u001b[0m\u001b[30m \u001b[0m\u001b[31m \u001b[0m\u001b[31mลื้น\u001b[0m\u001b[31mลื่น\u001b[0m, 0.57 Ans: 1.00 X\n",
      "\u001b[31mกู\u001b[0m\u001b[31mอยาก\u001b[0m\u001b[31mได้\u001b[0m\u001b[30m4\u001b[0m\u001b[31mMกู\u001b[0m\u001b[31mซื้อ\u001b[0m\u001b[30mเอานะ\u001b[0m\u001b[30mโว๊ย\u001b[0m\u001b[31mไม่\u001b[0m\u001b[31mขอ\u001b[0m\u001b[31mเล่น\u001b[0m, 0.34 Ans: 0.25 ✓\n",
      "\u001b[34mโฉมงาม\u001b[0m\u001b[30m \u001b[0m\u001b[30m=\u001b[0m\u001b[34m \u001b[0m\u001b[34mMeephu\u001b[0m\u001b[34m \u001b[0m\u001b[34mSitrawadee\n",
      "\u001b[0m\u001b[34mเจ้าชายอสูร\u001b[0m\u001b[1m\u001b[34m \u001b[0m\u001b[1m\u001b[34m=\u001b[0m\u001b[1m\u001b[34m \u001b[0m\u001b[1m\u001b[34mKanjanapong\u001b[0m\u001b[1m\u001b[34m \u001b[0m\u001b[34mChaiklongkit\n",
      "#TrueMove\u001b[0m\u001b[1m\u001b[34mH\u001b[0m\u001b[1m\u001b[34m \u001b[0m\u001b[1m\u001b[34m#TMHfriendsforever\u001b[0m\u001b[1m\u001b[34m \u001b[0m\u001b[1m\u001b[34m#รัก\u001b[0m\u001b[1m\u001b[34mหมดใจ\u001b[0m, 0.96 Ans: 0.50 X\n",
      "\u001b[30mอยาก\u001b[0m\u001b[30mถาม\u001b[0m\u001b[30mว่า\u001b[0m\u001b[30mโทรศัพท์\u001b[0m\u001b[30mลา\u001b[0m\u001b[34mวา\u001b[0m\u001b[30mนี้\u001b[0m\u001b[30mมี\u001b[0m\u001b[34mราคา\u001b[0m\u001b[34mเท่า\u001b[0m\u001b[30mไหร่\u001b[0m\u001b[30mบ้าง\u001b[0m\u001b[34mครับ\u001b[0m, 0.58 Ans: 0.75 X\n",
      "Acc: 0.70\n",
      "............................................................................................................................................................\n",
      "Epoch -  2\n",
      "Avg Accuracy (training set): 0.70\n",
      "Accuracy (test set): 0.66\n",
      "====================================\n",
      "Show test result\n",
      "\u001b[30mช่วย\u001b[0m\u001b[31mตอบกุที่\u001b[0m\u001b[31mDtac\u001b[0m\u001b[31m3\u001b[0m\u001b[30mg\u001b[0m\u001b[30mหาย\u001b[0m\u001b[30mไป\u001b[0m\u001b[31mไหน\u001b[0m\u001b[31mคือ\u001b[0m\u001b[31mอยู่ดี\u001b[0m\u001b[31mตัด\u001b[0m\u001b[31mเน็ต\u001b[0m\u001b[31mไป\u001b[0m\u001b[31mซ้ะ\u001b[0m\u001b[31mงั้น\u001b[0m\u001b[31mพอ\u001b[0m\u001b[31mค้นหา\u001b[0m\u001b[31mเครือข่าย\u001b[0m\u001b[31mกับ\u001b[0m\u001b[31mไม่\u001b[0m\u001b[1m\u001b[31mเจอ\u001b[0m\u001b[1m\u001b[31mเครือข่าย\u001b[0m\u001b[1m\u001b[31mดีแทค\u001b[0m, 0.40 Ans: 0.25 ✓\n",
      "\u001b[30mขึ้น\u001b[0m\u001b[30mกับ\u001b[0m\u001b[31mพื้นที่\u001b[0m\u001b[30mและ\u001b[0m\u001b[31mสัญญาณ\u001b[0m\u001b[31m \u001b[0m\u001b[31mถ้า\u001b[0m\u001b[30mสัญญา\u001b[0m\u001b[31mแรง\u001b[0m\u001b[31mดี\u001b[0m\u001b[31mก็ได้\u001b[0m\u001b[31m \u001b[0m\u001b[31mของ\u001b[0m\u001b[31mข้าพเจ้า\u001b[0m\u001b[31mสมัคร\u001b[0m\u001b[31m \u001b[0m\u001b[31mความ\u001b[0m\u001b[31mเร็ว\u001b[0m\u001b[31m \u001b[0m\u001b[31m512\u001b[0m\u001b[31m \u001b[0m\u001b[31m \u001b[0m\u001b[31mพอ\u001b[0m\u001b[31mลองเทส\u001b[0m\u001b[31mความ\u001b[0m\u001b[31mเร็ว\u001b[0m\u001b[31mใน\u001b[0m\u001b[30mการ\u001b[0m\u001b[1m\u001b[31mโหลด\u001b[0m\u001b[31mได้\u001b[0m\u001b[31mไม่\u001b[0m\u001b[31mถึง\u001b[0m\u001b[31m \u001b[0m\u001b[31m1\u001b[0m\u001b[31m \u001b[0m\u001b[31mซึ่ง\u001b[0m\u001b[1m\u001b[31mมัน\u001b[0m\u001b[31mไม่\u001b[0m\u001b[1m\u001b[31mคุ้ม\u001b[0m\u001b[31mค่า\u001b[0m\u001b[31mกับ\u001b[0m\u001b[31mเงิน\u001b[0m\u001b[31mที่\u001b[0m\u001b[1m\u001b[31mต้อง\u001b[0m\u001b[31mจ่าย\u001b[0m\u001b[31mไป\u001b[0m, 0.27 Ans: 0.25 ✓\n",
      "\u001b[31m4\u001b[0m\u001b[30m \u001b[0m\u001b[30mGกิน\u001b[0m\u001b[30mแต่\u001b[0m\u001b[30mเงิน\u001b[0m\u001b[31mช้า\u001b[0m\u001b[31mก็\u001b[0m\u001b[1m\u001b[31mช้า\u001b[0m, 0.28 Ans: 0.25 ✓\n",
      "\u001b[30mผม\u001b[0m\u001b[30mใช้\u001b[0m\u001b[30mเนต\u001b[0m\u001b[30mราย\u001b[0m\u001b[30mเดือน\u001b[0m\u001b[30m \u001b[0m\u001b[30m10\u001b[0m\u001b[30mgb\u001b[0m\u001b[30m \u001b[0m\u001b[30mจะ\u001b[0m\u001b[34mเช็ค\u001b[0m\u001b[30mว่า\u001b[0m\u001b[30mเหลือ\u001b[0m\u001b[30mกี่\u001b[0m\u001b[34m \u001b[0m\u001b[34mgb\u001b[0m\u001b[1m\u001b[34m \u001b[0m\u001b[1m\u001b[34mเช็ค\u001b[0m\u001b[30mยัง\u001b[0m\u001b[34mงัย\u001b[0m\u001b[30mครับ\u001b[0m, 0.80 Ans: 0.50 X\n",
      "\u001b[30mราย\u001b[0m\u001b[30mเดือน\u001b[0m\u001b[30mเท่า\u001b[0m\u001b[34mไหร่\u001b[0m\u001b[1m\u001b[34m \u001b[0m\u001b[1m\u001b[34mล่วงหน้า\u001b[0m\u001b[1m\u001b[34mเท่า\u001b[0m\u001b[34mไหร่\u001b[0m\u001b[1m\u001b[34m \u001b[0m\u001b[34mแพคเกตอะ\u001b[0m, 0.71 Ans: 0.75 ✓\n",
      "\u001b[30mทำไม\u001b[0m\u001b[30mพอ\u001b[0m\u001b[30mเล่น\u001b[0m\u001b[31mเฟสมัน\u001b[0m\u001b[30mดีด\u001b[0m\u001b[31mเอง\u001b[0m\u001b[31mแล้ว\u001b[0m\u001b[31mก็\u001b[0m\u001b[31mค้าง\u001b[0m\u001b[31mด้วย\u001b[0m\u001b[31mค่ะ\u001b[0m, 0.36 Ans: 0.25 ✓\n",
      "\u001b[30m7\u001b[0m\u001b[30m \u001b[0m\u001b[30mคต\u001b[0m\u001b[30m \u001b[0m\u001b[31mDTAC\u001b[0m\u001b[30m \u001b[0m\u001b[30mมา\u001b[0m\u001b[30mถึง\u001b[0m\u001b[30mแล้ว\u001b[0m\u001b[30mหรอ\u001b[0m\u001b[31m \u001b[0m\u001b[30mโหดีใจ\u001b[0m\u001b[30mจน\u001b[0m\u001b[30mน้ำ\u001b[0m\u001b[30mตา\u001b[0m\u001b[31mจิไหล\u001b[0m\u001b[1m\u001b[31m \u001b[0m\u001b[31mว่า\u001b[0m\u001b[1m\u001b[31mจะ\u001b[0m\u001b[31mมา\u001b[0m\u001b[31mได้\u001b[0m, 0.47 Ans: 0.88 X\n",
      "\u001b[30mเดือน\u001b[0m\u001b[30mเท่า\u001b[0m\u001b[34mไร\u001b[0m\u001b[34mคับ\u001b[0m, 0.68 Ans: 0.50 X\n",
      "\u001b[30mถ้า\u001b[0m\u001b[30mลูกค้า\u001b[0m\u001b[30mที่\u001b[0m\u001b[31mใช้\u001b[0m\u001b[30mดี\u001b[0m\u001b[34mแทค\u001b[0m\u001b[30mมา\u001b[0m\u001b[30mแล้ว\u001b[0m\u001b[30m11\u001b[0m\u001b[30mปี\u001b[0m\u001b[1m\u001b[34mมี\u001b[0m\u001b[34mส่วน\u001b[0m\u001b[34mลด\u001b[0m\u001b[30mเท่า\u001b[0m\u001b[30mไหร่\u001b[0m\u001b[1m\u001b[34mครับ\u001b[0m, 0.83 Ans: 0.75 ✓\n",
      "\u001b[30mแค่\u001b[0m\u001b[31mโหลด\u001b[0m\u001b[31mหน้า\u001b[0m\u001b[31mเว็ป\u001b[0m\u001b[31mยัง\u001b[0m\u001b[31mบ่อ\u001b[0m\u001b[31mได้\u001b[0m\u001b[31mเลย\u001b[0m\u001b[1m\u001b[31m \u001b[0m\u001b[31mนี่\u001b[0m\u001b[1m\u001b[31mแหละ\u001b[0m\u001b[1m\u001b[31m \u001b[0m\u001b[31m3\u001b[0m\u001b[31mจี\u001b[0m\u001b[31m \u001b[0m\u001b[31mของ\u001b[0m\u001b[31mดีแทค\u001b[0m, 0.33 Ans: 0.25 ✓\n",
      "Acc: 0.70\n",
      "............................................................................................................................................................\n",
      "Epoch -  3\n",
      "Avg Accuracy (training set): 0.73\n",
      "Accuracy (test set): 0.67\n",
      "====================================\n",
      "Show test result\n",
      "\u001b[30mดี\u001b[0m\u001b[30mแทคเลว\u001b[0m\u001b[30mกว่า\u001b[0m\u001b[34mเยอะ\u001b[0m\u001b[30mคะ\u001b[0m, 0.64 Ans: 0.25 X\n",
      "\u001b[31mยกเลิก\u001b[0m\u001b[31mข้อความ\u001b[0m\u001b[31mทุก\u001b[0m\u001b[31mเดือน\u001b[0m\u001b[31mแต่\u001b[0m\u001b[31mก็\u001b[0m\u001b[31mเสีย\u001b[0m\u001b[31mค่า\u001b[0m\u001b[31mข้อความ\u001b[0m\u001b[31mทุก\u001b[0m\u001b[31mเดือน\u001b[0m\u001b[31mแต่\u001b[0m\u001b[1m\u001b[31mเดือน\u001b[0m\u001b[30mนี้\u001b[0m\u001b[30mน่า\u001b[0m\u001b[31mจะ\u001b[0m\u001b[30mได้\u001b[0m\u001b[30mจ่าย\u001b[0m\u001b[30mกัน\u001b[0m\u001b[30mที่\u001b[0m\u001b[30mศาล\u001b[0m\u001b[31mแล้ว\u001b[0m\u001b[31mแหละ\u001b[0m\u001b[31mเตรียม\u001b[0m\u001b[30mหลักฐาน\u001b[0m\u001b[31mการ\u001b[0m\u001b[31mสมัครsms\u001b[0m\u001b[30mไว้\u001b[0m\u001b[30mเลย\u001b[0m\u001b[31mถ้า\u001b[0m\u001b[31mไม่\u001b[0m\u001b[31mมี\u001b[0m\u001b[31mโดน\u001b[0m\u001b[31mเอา\u001b[0m\u001b[31mคืน\u001b[0m\u001b[31mแน่\u001b[0m, 0.20 Ans: 0.12 ✓\n",
      "\u001b[30mคน\u001b[0m\u001b[30mใน\u001b[0m\u001b[30mโพสต์\u001b[0m\u001b[31mนี้\u001b[0m\u001b[31mจะ\u001b[0m\u001b[31mย้าย\u001b[0m\u001b[31mค่าย\u001b[0m\u001b[31mเพราะ\u001b[0m\u001b[30mซื้อ\u001b[0m\u001b[30mเครื่อง\u001b[0m\u001b[30m \u001b[0m\u001b[30m99\u001b[0m\u001b[30m \u001b[0m\u001b[30mบาท\u001b[0m\u001b[30m \u001b[0m\u001b[31mไม่\u001b[0m\u001b[30mได้\u001b[0m\u001b[31m \u001b[0m\u001b[31mไอ่\u001b[0m\u001b[31mสัสกุขัน\u001b[0m\u001b[31m \u001b[0m\u001b[31mเหตุผล\u001b[0m\u001b[31mนี่\u001b[0m\u001b[31mแม่งโคตร\u001b[0m\u001b[1m\u001b[31mไม่\u001b[0m\u001b[31mเมคเซนส์\u001b[0m, 0.21 Ans: 0.00 ✓\n",
      "\u001b[30m99\u001b[0m\u001b[30m \u001b[0m\u001b[30mบ\u001b[0m\u001b[30m.\u001b[0m\u001b[31m \u001b[0m\u001b[30mนาน\u001b[0m\u001b[34m \u001b[0m\u001b[34m7\u001b[0m\u001b[34mวัน\u001b[0m\u001b[30mสมัค\u001b[0m\u001b[30mยัง\u001b[0m\u001b[30mงัย\u001b[0m\u001b[30mคะ\u001b[0m, 0.58 Ans: 0.88 X\n",
      "\u001b[31mเจ5\u001b[0m, 0.42 Ans: 0.75 X\n",
      "\u001b[31mถ้า\u001b[0m\u001b[31m \u001b[0m\u001b[30mregister\u001b[0m\u001b[30m \u001b[0m\u001b[30mไป\u001b[0m\u001b[30mแล้ว\u001b[0m\u001b[30m \u001b[0m\u001b[30mกี่\u001b[0m\u001b[30mวัน\u001b[0m\u001b[30mถึง\u001b[0m\u001b[34mจะ\u001b[0m\u001b[30mได้\u001b[0m\u001b[30m \u001b[0m\u001b[30mSMS\u001b[0m\u001b[30m \u001b[0m\u001b[34mค่ะ\u001b[0m\u001b[30m \u001b[0m\u001b[34mหรือ\u001b[0m\u001b[34mต้อง\u001b[0m\u001b[34mรอ\u001b[0m\u001b[30mวัน\u001b[0m\u001b[30mที่\u001b[0m\u001b[30m \u001b[0m\u001b[30m31\u001b[0m\u001b[30m \u001b[0m\u001b[34mมกราคม\u001b[0m\u001b[34m \u001b[0m\u001b[30m2560\u001b[0m\u001b[30m \u001b[0m\u001b[30mอย่าง\u001b[0m\u001b[31mเดียว\u001b[0m\u001b[30mค่ะ\u001b[0m, 0.48 Ans: 0.75 X\n",
      "\u001b[31mตอบ\u001b[0m\u001b[31mแชท\u001b[0m\u001b[30mหน่อย\u001b[0m\u001b[31mครับ\u001b[0m, 0.43 Ans: 0.50 X\n",
      "\u001b[30m25\u001b[0m, 0.40 Ans: 0.50 X\n",
      "\u001b[31mโฆษณา\u001b[0m\u001b[31mก็ดี\u001b[0m\u001b[31m \u001b[0m\u001b[31mพรีเซ็นเตอร์\u001b[0m\u001b[30mก็ดี\u001b[0m\u001b[1m\u001b[34m \u001b[0m\u001b[1m\u001b[34m \u001b[0m\u001b[1m\u001b[34mเสีย\u001b[0m\u001b[34mอย่าง\u001b[0m\u001b[30mเดียว\u001b[0m\u001b[30m \u001b[0m\u001b[34mสัญญาณ\u001b[0m\u001b[31mห่วย\u001b[0m\u001b[31m \u001b[0m\u001b[31mตาม\u001b[0m\u001b[31mแหล่ง\u001b[0m\u001b[30mท่องเที่ยว\u001b[0m\u001b[30mดัง\u001b[0m\u001b[1m\u001b[34mๆ\u001b[0m\u001b[34mยัง\u001b[0m\u001b[1m\u001b[34mไม่\u001b[0m\u001b[1m\u001b[34mมี\u001b[0m\u001b[1m\u001b[34m \u001b[0m\u001b[30mยัง\u001b[0m\u001b[30mกล้า\u001b[0m\u001b[30mโฆษณา\u001b[0m\u001b[30mว่า\u001b[0m\u001b[31mครอบคลุม\u001b[0m\u001b[31mทุก\u001b[0m\u001b[30mที่\u001b[0m\u001b[31m \u001b[0m\u001b[31mอาย\u001b[0m\u001b[31mมั๊ย\u001b[0m\u001b[31mถาม\u001b[0m\u001b[30mจริง\u001b[0m, 0.47 Ans: 0.12 X\n",
      "\u001b[30mจะ\u001b[0m\u001b[30mบอก\u001b[0m\u001b[30mให้\u001b[0m\u001b[31mก้อง\u001b[0m\u001b[30mทั่ว\u001b[0m\u001b[30mโลก\u001b[0m\u001b[30mได้\u001b[0m\u001b[34mใง\u001b[0m\u001b[34m \u001b[0m\u001b[30m?\u001b[0m\u001b[30m?\u001b[0m\u001b[30m?\u001b[0m\u001b[34m \u001b[0m\u001b[30m \u001b[0m\u001b[30m \u001b[0m\u001b[30mเน๊ต\u001b[0m\u001b[30m \u001b[0m\u001b[30mเป็น\u001b[0m\u001b[30mแบบ\u001b[0m\u001b[30mนี้\u001b[0m\u001b[30m \u001b[0m\u001b[30m!\u001b[0m\u001b[31m!\u001b[0m\u001b[31m!\u001b[0m\u001b[31m \u001b[0m\u001b[31m \u001b[0m\u001b[31m \u001b[0m\u001b[31m4\u001b[0m\u001b[1m\u001b[31m-\u001b[0m\u001b[1m\u001b[31m5\u001b[0m\u001b[1m\u001b[31mวัน\u001b[0m\u001b[1m\u001b[31mแล้ว\u001b[0m\u001b[1m\u001b[31m \u001b[0m\u001b[31m!\u001b[0m\u001b[1m\u001b[31m!\u001b[0m\u001b[31m!\u001b[0m\u001b[31m \u001b[0m\u001b[1m\u001b[31m \u001b[0m\u001b[1m\u001b[31m \u001b[0m\u001b[1m\u001b[31m \u001b[0m\u001b[1m\u001b[31mแก้ใข\u001b[0m\u001b[1m\u001b[31mหน่อย\u001b[0m\u001b[31mเหอะ\u001b[0m\u001b[1m\u001b[31m \u001b[0m\u001b[1m\u001b[31m!\u001b[0m\u001b[1m\u001b[31m!\u001b[0m\u001b[1m\u001b[31m!\u001b[0m\u001b[31m \u001b[0m\u001b[1m\u001b[31m \u001b[0m\u001b[1m\u001b[31m \u001b[0m\u001b[1m\u001b[31mสงสาร\u001b[0m\u001b[1m\u001b[31mผม\u001b[0m\u001b[1m\u001b[31mก้\u001b[0m\u001b[1m\u001b[31mได้\u001b[0m\u001b[1m\u001b[31m555\u001b[0m\u001b[31m.\u001b[0m, 0.32 Ans: 0.00 ✓\n",
      "Acc: 0.30\n"
     ]
    },
    {
     "name": "stdout",
     "output_type": "stream",
     "text": [
      "............................................................................................................................................................\n",
      "Epoch -  4\n",
      "Avg Accuracy (training set): 0.75\n",
      "Accuracy (test set): 0.68\n",
      "====================================\n",
      "Show test result\n",
      "\u001b[31mนี่\u001b[0m\u001b[31mคือ\u001b[0m\u001b[31mอะไร\u001b[0m\u001b[31m \u001b[0m\u001b[30mไม่\u001b[0m\u001b[31mได้\u001b[0m\u001b[31mเปิด\u001b[0m\u001b[31mเน็ต\u001b[0m\u001b[31m \u001b[0m\u001b[31mเปิด\u001b[0m\u001b[31mเครือข่าย\u001b[0m\u001b[31mมือถือ\u001b[0m\u001b[31m \u001b[0m\u001b[31mแต่\u001b[0m\u001b[31mโดน\u001b[0m\u001b[31mหัก\u001b[0m\u001b[31mเงิน\u001b[0m\u001b[31m \u001b[0m\u001b[31mเสีย\u001b[0m\u001b[31mเงิน\u001b[0m\u001b[31mมา\u001b[0m\u001b[31mหลาย\u001b[0m\u001b[31mรอบ\u001b[0m\u001b[31mแล้ว\u001b[0m\u001b[30m \u001b[0m\u001b[30mขอ\u001b[0m\u001b[31mคำ\u001b[0m\u001b[31mอธิบาย\u001b[0m\u001b[31mด่วน\u001b[0m\u001b[31m \u001b[0m\u001b[31mก่อน\u001b[0m\u001b[31mที่\u001b[0m\u001b[31mอีก\u001b[0m\u001b[31mหลาย\u001b[0m\u001b[31mๆ\u001b[0m\u001b[31mเบอร์\u001b[0m\u001b[31mจะ\u001b[0m\u001b[31mเลิก\u001b[0m\u001b[31mใช้\u001b[0m, 0.17 Ans: 0.50 X\n",
      "\u001b[31mSirawich\u001b[0m\u001b[30m \u001b[0m\u001b[30mVoungchuy\u001b[0m\u001b[31mเปลี่ยน\u001b[0m\u001b[31mมา\u001b[0m\u001b[31mใช้\u001b[0m\u001b[30mโปรนี้\u001b[0m\u001b[34mกัน\u001b[0m, 0.66 Ans: 0.50 X\n",
      "\u001b[31mผม\u001b[0m\u001b[31mจะ\u001b[0m\u001b[31mขอ\u001b[0m\u001b[30mกรุณา\u001b[0m\u001b[31mเช็ค\u001b[0m\u001b[31mขอมูล\u001b[0m\u001b[31mการ\u001b[0m\u001b[31mโทร\u001b[0m\u001b[30mของ\u001b[0m\u001b[30mเบอร์\u001b[0m\u001b[34mตัว\u001b[0m\u001b[30mเอง\u001b[0m\u001b[30mจะ\u001b[0m\u001b[30mได้\u001b[0m\u001b[30mหรือ\u001b[0m\u001b[30mปล่าว\u001b[0m\u001b[30mครับ\u001b[0m\u001b[30m \u001b[0m\u001b[30mใน\u001b[0m\u001b[30m \u001b[0m\u001b[30min\u001b[0m\u001b[31m \u001b[0m\u001b[31mbox\u001b[0m\u001b[31m \u001b[0m\u001b[31mไม่\u001b[0m\u001b[31mมี\u001b[0m\u001b[30mใคร\u001b[0m\u001b[31mพอ\u001b[0m\u001b[31mจะ\u001b[0m\u001b[31mตอบ\u001b[0m\u001b[31mให้\u001b[0m\u001b[31mผม\u001b[0m\u001b[31mได้\u001b[0m\u001b[31mเลย\u001b[0m\u001b[31m \u001b[0m\u001b[1m\u001b[31mเดี๋ยว\u001b[0m\u001b[1m\u001b[31mผม\u001b[0m\u001b[31mย้าย\u001b[0m\u001b[1m\u001b[31mค่าย\u001b[0m\u001b[31mหนี\u001b[0m\u001b[31mนะ\u001b[0m\u001b[31mครับ\u001b[0m, 0.25 Ans: 0.25 ✓\n",
      "\u001b[1m\u001b[34mรัก\u001b[0m\u001b[1m\u001b[34mเลย\u001b[0m\u001b[1m\u001b[34m \u001b[0m\u001b[1m\u001b[34m#DTAC4G\u001b[0m\u001b[1m\u001b[34m \u001b[0m\u001b[1m\u001b[34m❤️\u001b[0m\u001b[1m\u001b[34m❤️❤️\u001b[0m, 0.99 Ans: 1.00 ✓\n",
      "\u001b[31mใช้\u001b[0m\u001b[30mดี\u001b[0m\u001b[34mแทค\u001b[0m\u001b[1m\u001b[34mมา\u001b[0m\u001b[1m\u001b[34mนาน\u001b[0m\u001b[1m\u001b[34m \u001b[0m\u001b[34mและ\u001b[0m\u001b[30mไม่\u001b[0m\u001b[30mคิด\u001b[0m\u001b[31mจะ\u001b[0m\u001b[31mย้าย\u001b[0m\u001b[1m\u001b[31mค่าย\u001b[0m\u001b[31m \u001b[0m\u001b[31mแต่\u001b[0m\u001b[31mพอ\u001b[0m\u001b[31mมา\u001b[0m\u001b[31mเจอ\u001b[0m\u001b[30mเน็ต\u001b[0m\u001b[31mห่วย\u001b[0m\u001b[31mแตก\u001b[0m\u001b[31mแล้ว\u001b[0m\u001b[30m \u001b[0m\u001b[31mย้าย\u001b[0m\u001b[31mค่าย\u001b[0m\u001b[31mดี\u001b[0m\u001b[1m\u001b[31mกว่า\u001b[0m\u001b[31m \u001b[0m\u001b[31mเสียดาย\u001b[0m\u001b[31mเงิน\u001b[0m\u001b[31mที่\u001b[0m\u001b[31mสมัคร\u001b[0m\u001b[31m \u001b[0m\u001b[31mเน็ต\u001b[0m\u001b[31mเล่น\u001b[0m\u001b[1m\u001b[31mเห้ย\u001b[0m\u001b[31mอะไร\u001b[0m\u001b[31mไม่\u001b[0m\u001b[31mได้\u001b[0m\u001b[31mเลย\u001b[0m, 0.24 Ans: 0.25 ✓\n",
      "\u001b[30mแจก\u001b[0m\u001b[30mถึง\u001b[0m\u001b[30mสี่\u001b[0m\u001b[30mโมง\u001b[0m\u001b[31mเย็น\u001b[0m\u001b[31m \u001b[0m\u001b[31mคือ\u001b[0m\u001b[31m \u001b[0m\u001b[31mยัง\u001b[0m\u001b[31mไม่\u001b[0m\u001b[31mเลิก\u001b[0m\u001b[31mงาน\u001b[0m\u001b[31mเลย\u001b[0m\u001b[31m \u001b[0m\u001b[1m\u001b[31mกะแจก\u001b[0m\u001b[1m\u001b[31mคน\u001b[0m\u001b[1m\u001b[31mที่\u001b[0m\u001b[31mเค้า\u001b[0m\u001b[31mว่าง\u001b[0m\u001b[31mๆ\u001b[0m\u001b[31m \u001b[0m\u001b[31mไม่\u001b[0m\u001b[1m\u001b[31mก็\u001b[0m\u001b[31mทำ\u001b[0m\u001b[1m\u001b[31mงาน\u001b[0m\u001b[1m\u001b[31mใน\u001b[0m\u001b[31mห้าง\u001b[0m\u001b[31mใช่\u001b[0m\u001b[31mมะ\u001b[0m\u001b[31m \u001b[0m\u001b[31mจัด\u001b[0m\u001b[30mโปรแแบกลัว\u001b[0m\u001b[30mคน\u001b[0m\u001b[30mไป\u001b[0m\u001b[30mเอา\u001b[0m\u001b[30mของ\u001b[0m\u001b[30mแจก\u001b[0m\u001b[30mเยอะ\u001b[0m\u001b[30mอย่า\u001b[0m\u001b[31mทำ\u001b[0m\u001b[31mเลย\u001b[0m, 0.23 Ans: 0.25 ✓\n",
      "\u001b[31mแบต\u001b[0m\u001b[31mมัน\u001b[0m\u001b[31mจะ\u001b[0m\u001b[31mเสื่อม\u001b[0m\u001b[31mไว\u001b[0m\u001b[31mไหม\u001b[0m\u001b[30mครับ\u001b[0m, 0.56 Ans: 0.50 ✓\n",
      "\u001b[31mยัง\u001b[0m\u001b[30mมี\u001b[0m\u001b[30mเครื่อง\u001b[0m\u001b[34mอยู่\u001b[0m\u001b[34mมั้ย\u001b[0m\u001b[34mครับ\u001b[0m, 0.66 Ans: 0.75 ✓\n",
      "\u001b[31mนี่\u001b[0m\u001b[31mขนาด\u001b[0m\u001b[31mวาย\u001b[0m\u001b[1m\u001b[31mควาย\u001b[0m\u001b[31mเลย\u001b[0m\u001b[31mนะ\u001b[0m\u001b[31mคับ\u001b[0m\u001b[31m \u001b[0m\u001b[31m#พัฒนา\u001b[0m\u001b[31mระบบ\u001b[0m\u001b[31mสัญญาน\u001b[0m\u001b[31mก่อน\u001b[0m\u001b[31mดี\u001b[0m\u001b[31mไหม\u001b[0m\u001b[1m\u001b[31m...\u001b[0m\u001b[1m\u001b[31m!\u001b[0m\u001b[31m!\u001b[0m\u001b[31m!\u001b[0m, 0.21 Ans: 0.25 ✓\n",
      "\u001b[31mชลบุรี\u001b[0m\u001b[30mคะ\u001b[0m\u001b[30m \u001b[0m\u001b[31mสัญญาณ\u001b[0m\u001b[30mดี\u001b[0m\u001b[30mมาก\u001b[0m\u001b[31m \u001b[0m\u001b[30mขึ้น\u001b[0m\u001b[31mE\u001b[0m\u001b[31mขึ้น\u001b[0m\u001b[31mHบาง\u001b[0m\u001b[1m\u001b[31mที\u001b[0m\u001b[1m\u001b[31mไม่\u001b[0m\u001b[1m\u001b[31mขึ้น\u001b[0m\u001b[31mเลย\u001b[0m\u001b[31m \u001b[0m\u001b[31mนึก\u001b[0m\u001b[31mว่า\u001b[0m\u001b[1m\u001b[31mอยู่\u001b[0m\u001b[31mบน\u001b[0m\u001b[31mดอย\u001b[0m\u001b[31m \u001b[0m\u001b[30mดี\u001b[0m\u001b[30mมาก\u001b[0m\u001b[31mๆ\u001b[0m\u001b[31mๆ\u001b[0m\u001b[31mเลื่อน\u001b[0m\u001b[31mมาก\u001b[0m\u001b[31mเสีย\u001b[0m\u001b[31mเดือน\u001b[0m\u001b[31mละ\u001b[0m\u001b[31mพัน\u001b[0m\u001b[31mกว่า\u001b[0m\u001b[31mบาท\u001b[0m\u001b[31m \u001b[0m\u001b[31mคุ้ม\u001b[0m\u001b[31mมาก\u001b[0m\u001b[30mๆ\u001b[0m\u001b[31m \u001b[0m\u001b[31mหึหึหุ\u001b[0m, 0.59 Ans: 0.00 X\n",
      "Acc: 0.70\n",
      "............................................................................................................................................................\n",
      "Epoch -  5\n",
      "Avg Accuracy (training set): 0.77\n",
      "Accuracy (test set): 0.67\n",
      "====================================\n",
      "Show test result\n",
      "\u001b[30mไม่\u001b[0m\u001b[31mต้อง\u001b[0m\u001b[31mรอ\u001b[0m\u001b[31mให้\u001b[0m\u001b[31mลุ้น\u001b[0m\u001b[31mแจก\u001b[0m\u001b[30mมา\u001b[0m\u001b[30mเลย\u001b[0m\u001b[30mครับ\u001b[0m\u001b[30mไหน\u001b[0m\u001b[30mๆ\u001b[0m\u001b[31mก็\u001b[0m\u001b[30mใช้\u001b[0m\u001b[30mค่าย\u001b[0m\u001b[30mทูร\u001b[0m\u001b[30mอยู่แล้ว\u001b[0m, 0.48 Ans: 0.50 ✓\n",
      "\u001b[31mสุไหง\u001b[0m\u001b[31mปาดี\u001b[0m\u001b[31mไมี\u001b[0m\u001b[31mมี\u001b[0m\u001b[30mสัญญาณ\u001b[0m\u001b[30mครับ\u001b[0m, 0.57 Ans: 0.25 X\n",
      "\u001b[31mชัมชุงเจ\u001b[0m\u001b[31m2\u001b[0m\u001b[31mที่\u001b[0m\u001b[30mมี\u001b[0m\u001b[30mโปร\u001b[0m\u001b[30m400\u001b[0m\u001b[34mยัง\u001b[0m\u001b[34mเหลือ\u001b[0m\u001b[34mมั้ย\u001b[0m\u001b[34mค่ะ\u001b[0m, 0.68 Ans: 0.75 ✓\n",
      "\u001b[31mแล้ว\u001b[0m\u001b[31mคน\u001b[0m\u001b[30mที่\u001b[0m\u001b[30mครบ\u001b[0m\u001b[30mกำหนด\u001b[0m\u001b[31mจ่าย\u001b[0m\u001b[30mไป\u001b[0m\u001b[31mตั้งแต่\u001b[0m\u001b[30mวัน\u001b[0m\u001b[31mที่\u001b[0m\u001b[30m \u001b[0m\u001b[31m2\u001b[0m\u001b[31m \u001b[0m\u001b[30mก้ออด\u001b[0m\u001b[31mสิ\u001b[0m\u001b[31mคะ\u001b[0m\u001b[30m \u001b[0m\u001b[31mเพราะ\u001b[0m\u001b[30mจ่าย\u001b[0m\u001b[31mไป\u001b[0m\u001b[31mแล้ว\u001b[0m, 0.31 Ans: 0.25 ✓\n",
      "\u001b[31mเนตช้า\u001b[0m\u001b[31mมาก\u001b[0m\u001b[31mค่าย\u001b[0m\u001b[31mก็\u001b[0m\u001b[31mแพง\u001b[0m\u001b[1m\u001b[31mหู\u001b[0m\u001b[31mฉี่\u001b[0m\u001b[1m\u001b[31m \u001b[0m\u001b[31mแค่\u001b[0m\u001b[31mใช้\u001b[0m\u001b[1m\u001b[31mโปร\u001b[0m\u001b[31m \u001b[0m\u001b[31m699\u001b[0m\u001b[1m\u001b[31m \u001b[0m\u001b[1m\u001b[31mก้แพง\u001b[0m\u001b[31mล่ะ\u001b[0m\u001b[31m.\u001b[0m\u001b[31m \u001b[0m\u001b[31mเกบเปนรอบ\u001b[0m\u001b[31mบิล\u001b[0m\u001b[31m \u001b[0m\u001b[31mเจอ\u001b[0m\u001b[31mรอบ\u001b[0m\u001b[31mบิล\u001b[0m\u001b[31mแรก\u001b[0m\u001b[31mก้ไป\u001b[0m\u001b[31mไม่\u001b[0m\u001b[31mถุกละ\u001b[0m\u001b[31m \u001b[0m\u001b[31m970\u001b[0m\u001b[31m \u001b[0m\u001b[31mจาก\u001b[0m\u001b[1m\u001b[31mโปร\u001b[0m\u001b[31m699\u001b[0m\u001b[31m.\u001b[0m\u001b[31m \u001b[0m\u001b[31mไม่\u001b[0m\u001b[31mทราบ\u001b[0m\u001b[31mค่า\u001b[0m\u001b[31mไร\u001b[0m\u001b[31mจิงจัง\u001b[0m, 0.24 Ans: 0.25 ✓\n",
      "\u001b[31m👍👍👍👍👍😅✌️\u001b[0m, 0.45 Ans: 0.75 X\n",
      "\u001b[30mใช้\u001b[0m\u001b[30mอยุ่\u001b[0m\u001b[31mกาก\u001b[0m\u001b[1m\u001b[31mสุด\u001b[0m, 0.21 Ans: 0.25 ✓\n",
      "\u001b[31mบิล\u001b[0m\u001b[31mมา\u001b[0m\u001b[31mก็\u001b[0m\u001b[31mจ่าย\u001b[0m\u001b[30mครบ\u001b[0m\u001b[30mพอ\u001b[0m\u001b[31mสัญญาน\u001b[0m\u001b[30mมี\u001b[0m\u001b[31mปัญหา\u001b[0m\u001b[31m \u001b[0m\u001b[31mจะ\u001b[0m\u001b[31mมี\u001b[0m\u001b[31mอะไร\u001b[0m\u001b[31mชดเชย\u001b[0m\u001b[31mได้\u001b[0m\u001b[31mบ้าง\u001b[0m\u001b[31m \u001b[0m\u001b[31mวัน\u001b[0m\u001b[1m\u001b[31mนี้\u001b[0m\u001b[31mทั้ง\u001b[0m\u001b[31mวัน\u001b[0m\u001b[31m \u001b[0m\u001b[31mจน\u001b[0m\u001b[31mต้อง\u001b[0m\u001b[31mวิ่ง\u001b[0m\u001b[31mหา\u001b[0m\u001b[1m\u001b[31mยfiwi\u001b[0m\u001b[31m \u001b[0m\u001b[31mร้าน\u001b[0m\u001b[31mกาแฟ\u001b[0m\u001b[30m \u001b[0m\u001b[30mเพื่อ\u001b[0m\u001b[30mส่งงาน\u001b[0m, 0.55 Ans: 0.50 ✓\n",
      "\u001b[31mเครือง\u001b[0m\u001b[31mช้า\u001b[0m\u001b[31mแล้ว\u001b[0m\u001b[31mก็\u001b[0m\u001b[31mรวน\u001b[0m\u001b[31mบ่อย\u001b[0m, 0.26 Ans: 0.25 ✓\n",
      "\u001b[31mไป\u001b[0m\u001b[31mซื้อ\u001b[0m\u001b[30mมา\u001b[0m\u001b[31mละ\u001b[0m\u001b[31mเมื่อ\u001b[0m\u001b[31mวาน\u001b[0m\u001b[31m \u001b[0m\u001b[31mจน\u001b[0m\u001b[31mตอน\u001b[0m\u001b[31mนี้\u001b[0m\u001b[31mนัง\u001b[0m\u001b[31mไม่\u001b[0m\u001b[31mได้\u001b[0m\u001b[1m\u001b[31msms\u001b[0m\u001b[1m\u001b[31m \u001b[0m\u001b[31mแจ้ง\u001b[0m\u001b[1m\u001b[31mเตือน\u001b[0m\u001b[1m\u001b[31mว่า\u001b[0m\u001b[1m\u001b[31mเริ่ม\u001b[0m\u001b[1m\u001b[31mใช้\u001b[0m\u001b[1m\u001b[31mโปร\u001b[0m\u001b[31m \u001b[0m\u001b[31mเช็ค\u001b[0m\u001b[1m\u001b[31mดู\u001b[0m\u001b[1m\u001b[31mก็\u001b[0m\u001b[1m\u001b[31mยัง\u001b[0m\u001b[1m\u001b[31mเป็น\u001b[0m\u001b[1m\u001b[31mโปรเดิม\u001b[0m\u001b[31mอยู่\u001b[0m\u001b[1m\u001b[31mเลย\u001b[0m, 0.23 Ans: 0.50 X\n",
      "Acc: 0.70\n",
      "............................................................................................................................................................\n",
      "Epoch -  6\n",
      "Avg Accuracy (training set): 0.80\n",
      "Accuracy (test set): 0.67\n",
      "====================================\n",
      "Show test result\n",
      "\u001b[30mมา\u001b[0m\u001b[30mคอนเฟิร์ม\u001b[0m\u001b[30mว่า\u001b[0m\u001b[30m \u001b[0m\u001b[31mคลื่น\u001b[0m\u001b[31m \u001b[0m\u001b[31m1800\u001b[0m\u001b[31m \u001b[0m\u001b[31mMHz\u001b[0m\u001b[31m BW\u001b[0m\u001b[1m\u001b[31m \u001b[0m\u001b[31mกว้าง\u001b[0m\u001b[1m\u001b[31mโดย\u001b[0m\u001b[1m\u001b[31mไม่\u001b[0m\u001b[1m\u001b[31mง้อ\u001b[0m\u001b[1m\u001b[31m \u001b[0m\u001b[1m\u001b[31mCA\n",
      "\u001b[0m\u001b[31mอัน\u001b[0m\u001b[31mนี้\u001b[0m\u001b[1m\u001b[31mแถบ\u001b[0m\u001b[31m(\u001b[0m\u001b[1m\u001b[31mเกือบ\u001b[0m\u001b[1m\u001b[31m)\u001b[0m\u001b[1m\u001b[31mชนบท\u001b[0m\u001b[1m\u001b[31m \u001b[0m\u001b[1m\u001b[31m60\u001b[0m\u001b[31m-\u001b[0m\u001b[31m80\u001b[0m\u001b[31m \u001b[0m\u001b[31mตลอด\u001b[0m\u001b[31m \u001b[0m\u001b[1m\u001b[31mใน\u001b[0m\u001b[31mเมือง\u001b[0m\u001b[1m\u001b[31mก็\u001b[0m\u001b[31m \u001b[0m\u001b[31m100\u001b[0m\u001b[30m+\u001b[0m\u001b[31m \u001b[0m\u001b[31mก็\u001b[0m\u001b[31mเคย\u001b[0m\u001b[31mละ\u001b[0m\u001b[31mครับ\u001b[0m\u001b[31m \u001b[0m\u001b[31mยอมใจ\u001b[0m\u001b[31m \u001b[0m\u001b[31mdtac\u001b[0m\u001b[31m \u001b[0m\u001b[31mครับ\u001b[0m\u001b[34m \u001b[0m\u001b[30mเจ้า\u001b[0m\u001b[30mเดียว\u001b[0m\u001b[30mที่\u001b[0m\u001b[30mไม่\u001b[0m\u001b[31mใช่\u001b[0m\u001b[31m \u001b[0m\u001b[31mSmartphone\u001b[0m\u001b[31m \u001b[0m\u001b[31mรุ่น\u001b[0m\u001b[31mท็อป\u001b[0m\u001b[30m \u001b[0m\u001b[30mก็\u001b[0m\u001b[30mได้\u001b[0m\u001b[31mใช้\u001b[0m\u001b[30m \u001b[0m\u001b[34mSuper\u001b[0m\u001b[30m \u001b[0m\u001b[34m4G\u001b[0m, 0.70 Ans: 1.00 ✓\n",
      "\u001b[30mที่\u001b[0m\u001b[31m \u001b[0m\u001b[31mจ.อุตรดิตถ์\u001b[0m\u001b[31m \u001b[0m\u001b[30m \u001b[0m\u001b[30mอ.ลับแล\u001b[0m\u001b[30m \u001b[0m\u001b[31mต\u001b[0m\u001b[30m.\u001b[0m\u001b[30mแม่\u001b[0m\u001b[31mพูล\u001b[0m\u001b[1m\u001b[31m \u001b[0m\u001b[1m\u001b[31mวัด\u001b[0m\u001b[1m\u001b[31mผัก\u001b[0m\u001b[1m\u001b[31mราก\u001b[0m\u001b[1m\u001b[31mสัน\u001b[0m\u001b[1m\u001b[31mยาน\u001b[0m\u001b[1m\u001b[31mแย่\u001b[0m\u001b[1m\u001b[31mมาก\u001b[0m\u001b[1m\u001b[31mสัน\u001b[0m\u001b[1m\u001b[31mยาน\u001b[0m\u001b[1m\u001b[31mต่ำ\u001b[0m\u001b[1m\u001b[31mอยาก\u001b[0m\u001b[1m\u001b[31mให้\u001b[0m\u001b[31mเจ้านา\u001b[0m\u001b[1m\u001b[31mที่\u001b[0m\u001b[31mเอไอเอส\u001b[0m\u001b[1m\u001b[31mมาตรวจ\u001b[0m\u001b[31mบ้าง\u001b[0m\u001b[31mคัฟสันยาน\u001b[0m\u001b[31mต่ำ\u001b[0m\u001b[31mคัฟ\u001b[0m, 0.13 Ans: 0.25 ✓\n",
      "\u001b[30mตุดยอด\u001b[0m\u001b[31mดด\u001b[0m, 0.39 Ans: 1.00 X\n",
      "\u001b[30mJ2\u001b[0m\u001b[30mยัง\u001b[0m\u001b[30mมี\u001b[0m\u001b[34mสีน\u001b[0m\u001b[34mค้า\u001b[0m\u001b[34mไหม\u001b[0m\u001b[34mคะ\u001b[0m\u001b[30m..\u001b[0m\u001b[30mตอน\u001b[0m\u001b[30mนี้\u001b[0m\u001b[30mไช้\u001b[0m\u001b[31mโปล\u001b[0m\u001b[31m399\u001b[0m, 0.31 Ans: 0.75 X\n",
      "\u001b[31mขอ\u001b[0m\u001b[31mรายละเอียด\u001b[0m\u001b[30mการ\u001b[0m\u001b[30mร่วม\u001b[0m\u001b[30mแคมเปญ\u001b[0m\u001b[34mหน่อย\u001b[0m, 0.65 Ans: 0.50 ✓\n",
      "\u001b[30mแถว\u001b[0m\u001b[31mบาง\u001b[0m\u001b[30mอ้อ\u001b[0m\u001b[31m..\u001b[0m\u001b[30mจรัญสนิท\u001b[0m\u001b[31mก่อไม่\u001b[0m\u001b[31mมี\u001b[0m\u001b[31mสัญญาณ\u001b[0m\u001b[31mทั้ง\u001b[0m\u001b[31mโทร\u001b[0m\u001b[31mทั้ง\u001b[0m\u001b[31mเน็ต\u001b[0m\u001b[31mเลย\u001b[0m, 0.26 Ans: 0.25 ✓\n",
      "\u001b[31mกาก\u001b[0m\u001b[1m\u001b[31mวะ\u001b[0m\u001b[1m\u001b[31mไอควาย\u001b[0m\u001b[1m\u001b[31m \u001b[0m\u001b[31mออก\u001b[0m\u001b[31mโปรโมชั่นดี\u001b[0m\u001b[1m\u001b[31mชิบ\u001b[0m\u001b[1m\u001b[31mหาย\u001b[0m\u001b[1m\u001b[31mวาย\u001b[0m\u001b[1m\u001b[31mป่วง\u001b[0m\u001b[1m\u001b[31m \u001b[0m\u001b[1m\u001b[31mสัญญาณ\u001b[0m\u001b[1m\u001b[31mเเม้ง\u001b[0m\u001b[1m\u001b[31mขี้มด\u001b[0m\u001b[1m\u001b[31m \u001b[0m\u001b[1m\u001b[31mคง\u001b[0m\u001b[1m\u001b[31mรองรับ\u001b[0m\u001b[1m\u001b[31mโปรดี\u001b[0m\u001b[31m \u001b[0m\u001b[1m\u001b[31mๆ\u001b[0m\u001b[1m\u001b[31m \u001b[0m\u001b[1m\u001b[31mของ\u001b[0m\u001b[31mมึง\u001b[0m\u001b[1m\u001b[31mได้\u001b[0m\u001b[1m\u001b[31mอ่ะ\u001b[0m, 0.12 Ans: 0.12 ✓\n",
      "\u001b[31mข้อยว่า\u001b[0m\u001b[30mกะดี\u001b[0m\u001b[30mอยู่\u001b[0m\u001b[30mนะ\u001b[0m\u001b[30m4\u001b[0m\u001b[31mGแรง\u001b[0m\u001b[30mดี\u001b[0m, 0.61 Ans: 0.75 X\n",
      "\u001b[30mสอยถาม\u001b[0m\u001b[30mค่ะ\u001b[0m\u001b[30m \u001b[0m\u001b[30mทำไม\u001b[0m\u001b[30mค่า\u001b[0m\u001b[30mโทร\u001b[0m\u001b[30mเกิน\u001b[0m\u001b[30mทุก\u001b[0m\u001b[30mวัน\u001b[0m\u001b[31mทั้งๆที่\u001b[0m\u001b[31mไม่\u001b[0m\u001b[31mได้\u001b[0m\u001b[1m\u001b[31mใช้\u001b[0m\u001b[1m\u001b[31mโทร\u001b[0m\u001b[31m \u001b[0m\u001b[31mใช้\u001b[0m\u001b[1m\u001b[31mแต่\u001b[0m\u001b[31mเน็ต\u001b[0m\u001b[31mซึ่ง\u001b[0m\u001b[1m\u001b[31mเน็ต\u001b[0m\u001b[1m\u001b[31mก็\u001b[0m\u001b[31mเหลือ\u001b[0m\u001b[31mเพียบ\u001b[0m, 0.29 Ans: 0.25 ✓\n",
      "\u001b[30mทำไง\u001b[0m\u001b[30mหรอ\u001b[0m\u001b[30mค่ะ\u001b[0m\u001b[30mพอ\u001b[0m\u001b[30mดี\u001b[0m\u001b[34mใช้\u001b[0m\u001b[34moppo\u001b[0m\u001b[30mอยุ่\u001b[0m\u001b[30m.\u001b[0m, 0.69 Ans: 0.75 ✓\n",
      "Acc: 0.70\n"
     ]
    },
    {
     "name": "stdout",
     "output_type": "stream",
     "text": [
      "............................................................................................................................................................\n",
      "Epoch -  7\n",
      "Avg Accuracy (training set): 0.82\n",
      "Accuracy (test set): 0.66\n",
      "====================================\n",
      "Show test result\n",
      "\u001b[31mประเทศ\u001b[0m\u001b[1m\u001b[31mพม่ารหัรเลข\u001b[0m\u001b[1m\u001b[31mอะไร\u001b[0m, 0.17 Ans: 0.50 X\n",
      "\u001b[31mอย่า\u001b[0m\u001b[31mดีใจ\u001b[0m\u001b[30mไป\u001b[0m\u001b[30m \u001b[0m\u001b[31mมัน\u001b[0m\u001b[31mคือ\u001b[0m\u001b[31mราคา\u001b[0m\u001b[31mผ่อน\u001b[0m\u001b[31mต่อ\u001b[0m\u001b[31mเดือน\u001b[0m\u001b[31mเจ้า\u001b[0m\u001b[31mค่ะ\u001b[0m, 0.40 Ans: 0.50 X\n",
      "\u001b[31mอยาก\u001b[0m\u001b[30m \u001b[0m\u001b[30mดู\u001b[0m\u001b[30m \u001b[0m\u001b[34mมาก\u001b[0m\u001b[30m \u001b[0m\u001b[30mVijai\u001b[0m\u001b[31m \u001b[0m\u001b[31mPongpeerayanant\u001b[0m\u001b[31m \u001b[0m\u001b[30m#dtacreward\u001b[0m, 0.58 Ans: 0.75 X\n",
      "\u001b[31mเน็ต\u001b[0m\u001b[1m\u001b[31mกาก\u001b[0m\u001b[1m\u001b[31mมาก\u001b[0m, 0.20 Ans: 0.25 ✓\n",
      "\u001b[31mหลอก\u001b[0m\u001b[31mให้\u001b[0m\u001b[31mสมัคร\u001b[0m\u001b[31mแต่\u001b[0m\u001b[31mหา\u001b[0m\u001b[1m\u001b[31mสัญญาน\u001b[0m\u001b[31mไม่\u001b[0m\u001b[31mมี\u001b[0m\u001b[31mเลย\u001b[0m\u001b[31mอ่ะ\u001b[0m\u001b[1m\u001b[31m..\u001b[0m, 0.24 Ans: 0.25 ✓\n",
      "\u001b[31mตอน\u001b[0m\u001b[31mนี้\u001b[0m\u001b[31mกลับ\u001b[0m\u001b[31mมา\u001b[0m\u001b[31mใช่\u001b[0m\u001b[31mได้\u001b[0m\u001b[30mตาม\u001b[0m\u001b[30mปกติ\u001b[0m, 0.32 Ans: 1.00 X\n",
      "\u001b[31mจะ\u001b[0m\u001b[31mย้าย\u001b[0m\u001b[31mเหมือน\u001b[0m\u001b[31mกัน\u001b[0m\u001b[31m \u001b[0m\u001b[31mโปร\u001b[0m\u001b[31m \u001b[0m\u001b[31mais\u001b[0m\u001b[31m \u001b[0m\u001b[31mห่วย\u001b[0m\u001b[31mกว่า\u001b[0m\u001b[31mเจ้าอื่น\u001b[0m, 0.38 Ans: 0.00 ✓\n",
      "\u001b[31mติด\u001b[0m\u001b[31mโปรหรอ\u001b[0m\u001b[30mเปล่า\u001b[0m\u001b[30mค่ะ\u001b[0m, 0.59 Ans: 0.50 ✓\n",
      "\u001b[31mโม้\u001b[0m\u001b[31mมาก\u001b[0m\u001b[1m\u001b[31mๆ\u001b[0m\u001b[1m\u001b[31mๆ\u001b[0m\u001b[1m\u001b[31m \u001b[0m\u001b[1m\u001b[31m \u001b[0m\u001b[1m\u001b[31m0877340777\u001b[0m\u001b[1m\u001b[31m \u001b[0m\u001b[1m\u001b[31m \u001b[0m\u001b[1m\u001b[31mดีเเท\u001b[0m\u001b[1m\u001b[31mคน่ะ\u001b[0m\u001b[1m\u001b[31m \u001b[0m\u001b[1m\u001b[31mโม้\u001b[0m\u001b[1m\u001b[31mมาก\u001b[0m\u001b[1m\u001b[31mๆ\u001b[0m, 0.14 Ans: 0.50 X\n",
      "\u001b[31mปรับ\u001b[0m\u001b[31mสัณญาณ\u001b[0m\u001b[31mไม่\u001b[0m\u001b[1m\u001b[31mให้\u001b[0m\u001b[31mหล่ม\u001b[0m\u001b[1m\u001b[31mก่อน\u001b[0m\u001b[1m\u001b[31mดี\u001b[0m\u001b[31mใหม\u001b[0m\u001b[31mค่ะ\u001b[0m\u001b[31m \u001b[0m\u001b[31mขนาด\u001b[0m\u001b[31mบ้าน\u001b[0m\u001b[31mอยู่\u001b[0m\u001b[31mใน\u001b[0m\u001b[1m\u001b[31mตัวเมือง\u001b[0m\u001b[31m \u001b[0m\u001b[31mใกล้\u001b[0m\u001b[31mกับ\u001b[0m\u001b[31mเสา\u001b[0m\u001b[31mส่ง\u001b[0m\u001b[31mสัณญาณ\u001b[0m\u001b[31mยัง\u001b[0m\u001b[31mหล่ม\u001b[0m\u001b[31mอยู่\u001b[0m\u001b[31mบ่อย\u001b[0m\u001b[31mๆ\u001b[0m\u001b[31m \u001b[0m\u001b[1m\u001b[31mเน็ต\u001b[0m\u001b[1m\u001b[31mนี้\u001b[0m\u001b[1m\u001b[31mหมุน\u001b[0m\u001b[1m\u001b[31mแทบ\u001b[0m\u001b[1m\u001b[31mอ๊วก\u001b[0m\u001b[1m\u001b[31mเลย\u001b[0m\u001b[31mคร้าาาา\u001b[0m, 0.12 Ans: 0.25 ✓\n",
      "Acc: 0.50\n",
      "............................................................................................................................................................\n",
      "Epoch -  8\n",
      "Avg Accuracy (training set): 0.83\n",
      "Accuracy (test set): 0.67\n",
      "====================================\n",
      "Show test result\n",
      "\u001b[30mขอ\u001b[0m\u001b[31mอภัย\u001b[0m\u001b[30mค่ะ\u001b[0m\u001b[31mเพิ่ง\u001b[0m\u001b[30mเหนเคมเปญ\u001b[0m\u001b[30mนี้\u001b[0m\u001b[30mค่ะ\u001b[0m\u001b[31m \u001b[0m\u001b[30mเป็น\u001b[0m\u001b[31mลูกค้า\u001b[0m\u001b[31mราย\u001b[0m\u001b[30mเดือน\u001b[0m\u001b[30mค่ะ\u001b[0m\u001b[30m \u001b[0m\u001b[34mสนใจ\u001b[0m\u001b[34m \u001b[0m\u001b[34miPhone\u001b[0m\u001b[34m7\u001b[0m\u001b[34m \u001b[0m\u001b[34mproduct\u001b[0m\u001b[34m \u001b[0m\u001b[1m\u001b[34mred\u001b[0m\u001b[1m\u001b[34m \u001b[0m\u001b[34mราคา\u001b[0m\u001b[34mค่า\u001b[0m\u001b[34mเครื่อง\u001b[0m\u001b[34mหลัง\u001b[0m\u001b[30mหัก\u001b[0m\u001b[30mส่วน\u001b[0m\u001b[30mลด\u001b[0m\u001b[30mเหลือ\u001b[0m\u001b[30mเท่า\u001b[0m\u001b[30mไร\u001b[0m\u001b[30mค่ะ\u001b[0m\u001b[34m \n",
      "\u001b[0m\u001b[34mและ\u001b[0m\u001b[34mต้อง\u001b[0m\u001b[34mจ่าย\u001b[0m\u001b[30mล่วงหน้า\u001b[0m\u001b[34mเท่า\u001b[0m\u001b[30mไร\u001b[0m\u001b[34m \u001b[0m\u001b[34mถ้า\u001b[0m\u001b[34mจะ\u001b[0m\u001b[34mใช้\u001b[0m\u001b[34mแพ้คเกจ\u001b[0m\u001b[34mราย\u001b[0m\u001b[34mเดือน\u001b[0m\u001b[34m699\n",
      "\u001b[0m\u001b[34mแล้ว\u001b[0m\u001b[34mล่วงหน้า\u001b[0m\u001b[34mจะ\u001b[0m\u001b[30mเป็น\u001b[0m\u001b[34mส่วน\u001b[0m\u001b[34mลด\u001b[0m\u001b[30mกี่\u001b[0m\u001b[30mเดือน\u001b[0m\u001b[30m@กี่\u001b[0m\u001b[30mบาท\u001b[0m\u001b[30m/\u001b[0m\u001b[30mเดือน\u001b[0m\u001b[30mค่ะ\u001b[0m, 0.57 Ans: 0.50 ✓\n",
      "\u001b[31mสอบถาม\u001b[0m\u001b[30mครับ\u001b[0m\u001b[30m \u001b[0m\u001b[30mผม\u001b[0m\u001b[30mอยาก\u001b[0m\u001b[34mทราบ\u001b[0m\u001b[34m \u001b[0m\u001b[34mท่า\u001b[0m\u001b[34mผม\u001b[0m\u001b[1m\u001b[34mมี\u001b[0m\u001b[1m\u001b[34mเบอร์\u001b[0m\u001b[1m\u001b[34mทรู\u001b[0m\u001b[34mอยู่แล้ว\u001b[0m\u001b[1m\u001b[34m \u001b[0m\u001b[1m\u001b[34mเบอร์\u001b[0m\u001b[1m\u001b[34mราย\u001b[0m\u001b[1m\u001b[34mเดือน\u001b[0m\u001b[1m\u001b[34m \u001b[0m\u001b[1m\u001b[34mอยาก\u001b[0m\u001b[30mจะ\u001b[0m\u001b[30mซื้อ\u001b[0m\u001b[30mเครื่อง\u001b[0m\u001b[34mใหม่\u001b[0m\u001b[34m \u001b[0m\u001b[34mมี\u001b[0m\u001b[34mโปรไหน\u001b[0m\u001b[34mแนะนำ\u001b[0m\u001b[34mบ่าง\u001b[0m\u001b[34mครับ\u001b[0m\u001b[1m\u001b[34m \u001b[0m\u001b[1m\u001b[34mส่วน\u001b[0m\u001b[34mลด\u001b[0m\u001b[34mค่า\u001b[0m\u001b[34mเครื่อง\u001b[0m\u001b[34m \u001b[0m\u001b[30mครับ\u001b[0m, 0.71 Ans: 0.50 X\n",
      "\u001b[31mตอน\u001b[0m\u001b[31mนี้\u001b[0m\u001b[31mใช้\u001b[0m\u001b[30mโปร\u001b[0m\u001b[30m89\u001b[0m\u001b[1m\u001b[34mอยู่\u001b[0m\u001b[34mถ้า\u001b[0m\u001b[34mเปลี่ยน\u001b[0m\u001b[34mไป\u001b[0m\u001b[30mใช้\u001b[0m\u001b[1m\u001b[34m99\u001b[0m\u001b[1m\u001b[34mบาท\u001b[0m\u001b[34mเน้ต\u001b[0m\u001b[34mจะ\u001b[0m\u001b[30mช้า\u001b[0m\u001b[31mลง\u001b[0m\u001b[31mใม๊\u001b[0m\u001b[31mค่ะ\u001b[0m, 0.31 Ans: 0.50 X\n",
      "\u001b[30mราย\u001b[0m\u001b[30mเดือน\u001b[0m\u001b[30mหรือ\u001b[0m\u001b[30mเติม\u001b[0m\u001b[30mเงิน\u001b[0m, 0.46 Ans: 0.50 ✓\n",
      "\u001b[31mวัน\u001b[0m\u001b[31mนี้\u001b[0m\u001b[31mมี\u001b[0m\u001b[30mใคร\u001b[0m\u001b[30mสละ\u001b[0m\u001b[30mสิทธิ์\u001b[0m\u001b[30mมั้ย\u001b[0m\u001b[30mคะ\u001b[0m\u001b[34m \u001b[0m\u001b[34m \u001b[0m\u001b[34mอยาก\u001b[0m\u001b[34mไป\u001b[0m\u001b[30mดู\u001b[0m\u001b[30mอ่ะ\u001b[0m, 0.54 Ans: 0.75 X\n",
      "\u001b[31mขอ\u001b[0m\u001b[30mวิธี\u001b[0m\u001b[30mเปิด\u001b[0m\u001b[30mเบอร์\u001b[0m\u001b[30mใหม่\u001b[0m\u001b[30mและ\u001b[0m\u001b[34mกล่อง\u001b[0m\u001b[30mหน่อย\u001b[0m\u001b[30mครับ\u001b[0m, 0.58 Ans: 0.75 X\n",
      "\u001b[31mใช้\u001b[0m\u001b[31m \u001b[0m\u001b[30mNote\u001b[0m\u001b[30m3\u001b[0m\u001b[34m \u001b[0m\u001b[34mอยู่\u001b[0m\u001b[34mไม่\u001b[0m\u001b[30mรองรับ\u001b[0m\u001b[30m4\u001b[0m\u001b[30mG\u001b[0m\u001b[30m \u001b[0m\u001b[30mมี\u001b[0m\u001b[30mรุ่น\u001b[0m\u001b[30mไหน\u001b[0m\u001b[34mแนะนำ\u001b[0m\u001b[30mไหม\u001b[0m\u001b[34mครับ\u001b[0m, 0.58 Ans: 0.75 X\n",
      "\u001b[30mเมื่อ\u001b[0m\u001b[30mไหร่\u001b[0m\u001b[30mจะ\u001b[0m\u001b[30mทำ\u001b[0m\u001b[30mให้\u001b[0m\u001b[31m \u001b[0m\u001b[30mwifi\u001b[0m\u001b[31m \u001b[0m\u001b[31mทั้ง\u001b[0m\u001b[31mกรุงเทพ\u001b[0m\u001b[31m \u001b[0m\u001b[31mที่\u001b[0m\u001b[31mตอน\u001b[0m\u001b[31mนี้\u001b[0m\u001b[31mเล่น\u001b[0m\u001b[31mไม่\u001b[0m\u001b[1m\u001b[31mได้\u001b[0m\u001b[1m\u001b[31m \u001b[0m\u001b[1m\u001b[31mกลับ\u001b[0m\u001b[1m\u001b[31mมา\u001b[0m\u001b[31mเล่น\u001b[0m\u001b[31mได้\u001b[0m, 0.30 Ans: 0.25 ✓\n",
      "\u001b[31mเคย\u001b[0m\u001b[31mอยาก\u001b[0m\u001b[31mจะ\u001b[0m\u001b[31mดู\u001b[0m\u001b[31mพี่\u001b[0m\u001b[31mป็อบ\u001b[0m\u001b[30mร้อง\u001b[0m\u001b[30mสด\u001b[0m\u001b[30mหลาย\u001b[0m\u001b[30mครั้ง\u001b[0m\u001b[30mละ\u001b[0m\u001b[34m \u001b[0m\u001b[30mแต่\u001b[0m\u001b[34mไม่\u001b[0m\u001b[30mเคย\u001b[0m\u001b[30mมี\u001b[0m\u001b[30mโอกาส\u001b[0m\u001b[31mเลย\u001b[0m\u001b[31m \u001b[0m\u001b[31mอยาก\u001b[0m\u001b[31mฟัง\u001b[0m\u001b[31mเสียง\u001b[0m\u001b[31mอัน\u001b[0m\u001b[30mไพเราะ\u001b[0m\u001b[30mสะเนาะหู\u001b[0m\u001b[30mของ\u001b[0m\u001b[30mเขา\u001b[0m\u001b[30mจัง\u001b[0m\u001b[31mเลย\u001b[0m\u001b[31m \u001b[0m\u001b[31mถ้า\u001b[0m\u001b[31mได้\u001b[0m\u001b[31mไป\u001b[0m\u001b[30mดู\u001b[0m\u001b[30mจะ\u001b[0m\u001b[31mเป็น\u001b[0m\u001b[30mอะไร\u001b[0m\u001b[30mที่\u001b[0m\u001b[30mวิเศษ\u001b[0m\u001b[30mมาก\u001b[0m\u001b[30mๆ\u001b[0m\u001b[30mค่ะ\n",
      "\u001b[0m\u001b[1m\u001b[34m#ลูกค้า\u001b[0m\u001b[1m\u001b[34mดีแทค\u001b[0m\u001b[1m\u001b[34mฟัง\u001b[0m\u001b[1m\u001b[34mJOOX\u001b[0m\u001b[1m\u001b[34mไม่\u001b[0m\u001b[1m\u001b[34mเสีย\u001b[0m\u001b[1m\u001b[34mเน็ต\u001b[0m, 1.00 Ans: 0.75 ✓\n",
      "\u001b[31mแพง\u001b[0m\u001b[31mกว่า\u001b[0m\u001b[31mโปร\u001b[0m\u001b[31mที่\u001b[0m\u001b[31mใช้\u001b[0m\u001b[31mปัจจุบัน\u001b[0m\u001b[31mสะอีก\u001b[0m\u001b[31m \u001b[0m\u001b[31mถึง\u001b[0m\u001b[31mไม่\u001b[0m\u001b[31mอั้น\u001b[0m\u001b[1m\u001b[31mก็\u001b[0m\u001b[1m\u001b[31mจริง\u001b[0m\u001b[31mแต่\u001b[0m\u001b[31mสปีดน้อย\u001b[0m\u001b[31m \u001b[0m\u001b[31mของ\u001b[0m\u001b[31mเดิม\u001b[0m\u001b[31m599\u001b[0m\u001b[31m \u001b[0m\u001b[31mเน็ต\u001b[0m\u001b[31mเต็มสปีด\u001b[0m\u001b[31m \u001b[0m\u001b[31m16\u001b[0m\u001b[30mg\u001b[0m\u001b[31mรวม\u001b[0m\u001b[30mโบนัส\u001b[0m\u001b[30mใช้\u001b[0m\u001b[30mไม่\u001b[0m\u001b[30mหมด\u001b[0m\u001b[30mสัก\u001b[0m\u001b[30mเดือน\u001b[0m\u001b[31m \u001b[0m\u001b[31mโทร\u001b[0m\u001b[30m300\u001b[0m\u001b[30mนาที\u001b[0m, 0.47 Ans: 0.25 X\n",
      "Acc: 0.40\n",
      "............................................................................................................................................................\n",
      "Epoch -  9\n",
      "Avg Accuracy (training set): 0.85\n",
      "Accuracy (test set): 0.65\n",
      "====================================\n",
      "Show test result\n",
      "\u001b[30mวัน\u001b[0m\u001b[30mนี้\u001b[0m\u001b[30mมี\u001b[0m\u001b[31mใคร\u001b[0m\u001b[30mสละ\u001b[0m\u001b[30mสิทธิ์\u001b[0m\u001b[30mมั้ย\u001b[0m\u001b[30mคะ\u001b[0m\u001b[30m \u001b[0m\u001b[30m \u001b[0m\u001b[30mอยาก\u001b[0m\u001b[34mไป\u001b[0m\u001b[34mดู\u001b[0m\u001b[34mอ่ะ\u001b[0m, 0.46 Ans: 0.75 X\n",
      "\u001b[30mขอ\u001b[0m\u001b[31mวิธี\u001b[0m\u001b[30mเปิด\u001b[0m\u001b[30mเบอร์\u001b[0m\u001b[30mใหม่\u001b[0m\u001b[31mและ\u001b[0m\u001b[30mกล่อง\u001b[0m\u001b[30mหน่อย\u001b[0m\u001b[30mครับ\u001b[0m, 0.47 Ans: 0.75 X\n",
      "\u001b[30mใช้\u001b[0m\u001b[31m \u001b[0m\u001b[30mNote\u001b[0m\u001b[30m3\u001b[0m\u001b[34m \u001b[0m\u001b[34mอยู่\u001b[0m\u001b[34mไม่\u001b[0m\u001b[34mรองรับ\u001b[0m\u001b[34m4\u001b[0m\u001b[30mG\u001b[0m\u001b[34m \u001b[0m\u001b[34mมี\u001b[0m\u001b[34mรุ่น\u001b[0m\u001b[30mไหน\u001b[0m\u001b[34mแนะนำ\u001b[0m\u001b[34mไหม\u001b[0m\u001b[34mครับ\u001b[0m, 0.63 Ans: 0.75 X\n",
      "\u001b[31mเมื่อ\u001b[0m\u001b[30mไหร่\u001b[0m\u001b[31mจะ\u001b[0m\u001b[31mทำ\u001b[0m\u001b[31mให้\u001b[0m\u001b[31m \u001b[0m\u001b[31mwifi\u001b[0m\u001b[31m \u001b[0m\u001b[1m\u001b[31mทั้ง\u001b[0m\u001b[31mกรุงเทพ\u001b[0m\u001b[31m \u001b[0m\u001b[1m\u001b[31mที่\u001b[0m\u001b[31mตอน\u001b[0m\u001b[31mนี้\u001b[0m\u001b[31mเล่น\u001b[0m\u001b[31mไม่\u001b[0m\u001b[31mได้\u001b[0m\u001b[1m\u001b[31m \u001b[0m\u001b[1m\u001b[31mกลับ\u001b[0m\u001b[1m\u001b[31mมา\u001b[0m\u001b[1m\u001b[31mเล่น\u001b[0m\u001b[31mได้\u001b[0m, 0.24 Ans: 0.25 ✓\n",
      "\u001b[30mเคย\u001b[0m\u001b[30mอยาก\u001b[0m\u001b[31mจะ\u001b[0m\u001b[30mดู\u001b[0m\u001b[30mพี่\u001b[0m\u001b[34mป็อบ\u001b[0m\u001b[34mร้อง\u001b[0m\u001b[34mสด\u001b[0m\u001b[34mหลาย\u001b[0m\u001b[1m\u001b[34mครั้ง\u001b[0m\u001b[1m\u001b[34mละ\u001b[0m\u001b[34m \u001b[0m\u001b[30mแต่\u001b[0m\u001b[30mไม่\u001b[0m\u001b[31mเคย\u001b[0m\u001b[30mมี\u001b[0m\u001b[30mโอกาส\u001b[0m\u001b[31mเลย\u001b[0m\u001b[31m \u001b[0m\u001b[31mอยาก\u001b[0m\u001b[31mฟัง\u001b[0m\u001b[30mเสียง\u001b[0m\u001b[30mอัน\u001b[0m\u001b[34mไพเราะ\u001b[0m\u001b[1m\u001b[34mสะเนาะหู\u001b[0m\u001b[1m\u001b[34mของ\u001b[0m\u001b[1m\u001b[34mเขา\u001b[0m\u001b[1m\u001b[34mจัง\u001b[0m\u001b[1m\u001b[34mเลย\u001b[0m\u001b[34m \u001b[0m\u001b[34mถ้า\u001b[0m\u001b[30mได้\u001b[0m\u001b[30mไป\u001b[0m\u001b[30mดู\u001b[0m\u001b[31mจะ\u001b[0m\u001b[31mเป็น\u001b[0m\u001b[31mอะไร\u001b[0m\u001b[31mที่\u001b[0m\u001b[30mวิเศษ\u001b[0m\u001b[30mมาก\u001b[0m\u001b[30mๆ\u001b[0m\u001b[34mค่ะ\n",
      "\u001b[0m\u001b[1m\u001b[34m#ลูกค้า\u001b[0m\u001b[1m\u001b[34mดีแทค\u001b[0m\u001b[1m\u001b[34mฟัง\u001b[0m\u001b[1m\u001b[34mJOOX\u001b[0m\u001b[1m\u001b[34mไม่\u001b[0m\u001b[1m\u001b[34mเสีย\u001b[0m\u001b[1m\u001b[34mเน็ต\u001b[0m, 1.00 Ans: 0.75 ✓\n",
      "\u001b[31mแพง\u001b[0m\u001b[31mกว่า\u001b[0m\u001b[31mโปร\u001b[0m\u001b[31mที่\u001b[0m\u001b[31mใช้\u001b[0m\u001b[31mปัจจุบัน\u001b[0m\u001b[31mสะอีก\u001b[0m\u001b[31m \u001b[0m\u001b[31mถึง\u001b[0m\u001b[31mไม่\u001b[0m\u001b[31mอั้น\u001b[0m\u001b[31mก็\u001b[0m\u001b[31mจริง\u001b[0m\u001b[31mแต่\u001b[0m\u001b[31mสปีดน้อย\u001b[0m\u001b[31m \u001b[0m\u001b[31mของ\u001b[0m\u001b[31mเดิม\u001b[0m\u001b[31m599\u001b[0m\u001b[31m \u001b[0m\u001b[31mเน็ต\u001b[0m\u001b[31mเต็มสปีด\u001b[0m\u001b[31m \u001b[0m\u001b[30m16\u001b[0m\u001b[30mg\u001b[0m\u001b[30mรวม\u001b[0m\u001b[30mโบนัส\u001b[0m\u001b[30mใช้\u001b[0m\u001b[30mไม่\u001b[0m\u001b[30mหมด\u001b[0m\u001b[31mสัก\u001b[0m\u001b[31mเดือน\u001b[0m\u001b[31m \u001b[0m\u001b[31mโทร\u001b[0m\u001b[30m300\u001b[0m\u001b[30mนาที\u001b[0m, 0.54 Ans: 0.25 X\n",
      "\u001b[30mอยาก\u001b[0m\u001b[30mได้\u001b[0m\u001b[34mเครื่อง\u001b[0m\u001b[34m..\u001b[0m\u001b[1m\u001b[34m8\u001b[0m\u001b[34m,\u001b[0m\u001b[34m800\u001b[0m\u001b[30m.\u001b[0m\u001b[30mบาท\u001b[0m\u001b[30mนี้\u001b[0m\u001b[31mต้อง\u001b[0m\u001b[30mทำ\u001b[0m\u001b[31mยัง\u001b[0m\u001b[31mไง\u001b[0m\u001b[31mหรอจ้า\u001b[0m, 0.53 Ans: 0.75 X\n",
      "\u001b[31mไม่\u001b[0m\u001b[31mมี\u001b[0m\u001b[31mบัตร\u001b[0m\u001b[30mผ่อน\u001b[0m\u001b[30mได้\u001b[0m\u001b[30mไหม\u001b[0m\u001b[30mค่ะ\u001b[0m\u001b[30mแล้ว\u001b[0m\u001b[30mต้อง\u001b[0m\u001b[34mทำไง\u001b[0m\u001b[30mบ้าง\u001b[0m\u001b[34mค่ะ\u001b[0m, 0.65 Ans: 0.75 X\n",
      "\u001b[30mพนักงาน\u001b[0m\u001b[30mไม่\u001b[0m\u001b[30mแนะนำ\u001b[0m\u001b[30mอะไร\u001b[0m\u001b[31mเลย\u001b[0m, 0.32 Ans: 0.25 ✓\n",
      "\u001b[31mais\u001b[0m\u001b[31m \u001b[0m\u001b[31msuper\u001b[0m\u001b[31m \u001b[0m\u001b[31mwifi\u001b[0m\u001b[31m \u001b[0m\u001b[31mที่\u001b[0m\u001b[31mจังซี\u001b[0m\u001b[31mลอน\u001b[0m\u001b[31mป่าง\u001b[0m\u001b[31mตอง\u001b[0m\u001b[1m\u001b[31mห่วย\u001b[0m\u001b[31mแตก\u001b[0m\u001b[31mมาก\u001b[0m\u001b[1m\u001b[31m \u001b[0m\u001b[31mเลือก\u001b[0m\u001b[31mโฆษณา\u001b[0m\u001b[1m\u001b[31mเกิน\u001b[0m\u001b[1m\u001b[31mจริง\u001b[0m\u001b[1m\u001b[31mได้\u001b[0m\u001b[31mแล้ว\u001b[0m\u001b[1m\u001b[31m \u001b[0m\u001b[31mหลอกลวง\u001b[0m\u001b[1m\u001b[31mผู้\u001b[0m\u001b[1m\u001b[31mบริโภค\u001b[0m\u001b[1m\u001b[31mชัด\u001b[0m\u001b[1m\u001b[31mๆ\u001b[0m\u001b[31mอาย\u001b[0m\u001b[1m\u001b[31mหมา\u001b[0m\u001b[1m\u001b[31mบ้าง\u001b[0m, 0.22 Ans: 0.25 ✓\n",
      "Acc: 0.40\n"
     ]
    },
    {
     "name": "stdout",
     "output_type": "stream",
     "text": [
      "............................................................................................................................................................\n",
      "Epoch -  10\n",
      "Avg Accuracy (training set): 0.86\n",
      "Accuracy (test set): 0.67\n",
      "====================================\n",
      "Show test result\n",
      "\u001b[30mตั้งแต่\u001b[0m\u001b[30m \u001b[0m\u001b[30m27\u001b[0m\u001b[30m \u001b[0m\u001b[30mDec\u001b[0m\u001b[30m \u001b[0m\u001b[30mจนถึง\u001b[0m\u001b[30mตอน\u001b[0m\u001b[30mนี้\u001b[0m\u001b[30m \u001b[0m\u001b[31mจะ\u001b[0m\u001b[31mครบ\u001b[0m\u001b[30mเดือน\u001b[0m\u001b[30mแล้ว\u001b[0m\u001b[30m \u001b[0m\u001b[34mDtac\u001b[0m\u001b[34m \u001b[0m\u001b[1m\u001b[34mบอก\u001b[0m\u001b[34mจะ\u001b[0m\u001b[30mแก้ไข\u001b[0m\u001b[31mให้\u001b[0m\u001b[31mกับ\u001b[0m\u001b[1m\u001b[31mลูกค้า\u001b[0m\u001b[31m \u001b[0m\u001b[31mสัดท้าย\u001b[0m\u001b[31m \u001b[0m\u001b[31m..\u001b[0m\u001b[31mเงียบ\u001b[0m\u001b[31mบบบบบบ\u001b[0m\u001b[31m!\u001b[0m\u001b[1m\u001b[31m!\u001b[0m, 0.22 Ans: 0.00 ✓\n",
      "\u001b[30mพอ\u001b[0m\u001b[30mไป\u001b[0m\u001b[31mติดต่อ\u001b[0m\u001b[31mหา\u001b[0m\u001b[30mของ\u001b[0m\u001b[30mไม่\u001b[0m\u001b[30mเจอ\u001b[0m\u001b[30mแล้ว\u001b[0m\u001b[30mให้\u001b[0m\u001b[31mผม\u001b[0m\u001b[31mรอ\u001b[0m\u001b[31mเป็น\u001b[0m\u001b[31mชั่วโมง\u001b[0m\u001b[31mถึง\u001b[0m\u001b[31mยอม\u001b[0m\u001b[31mคืย\u001b[0m\u001b[31mเอกสาร\u001b[0m\u001b[31mให้\u001b[0m\u001b[31mไม\u001b[0m, 0.33 Ans: 0.25 ✓\n",
      "\u001b[31mต้อง\u001b[0m\u001b[30mจ่าย\u001b[0m\u001b[31mค่า\u001b[0m\u001b[31mเครื่อง\u001b[0m\u001b[31m120\u001b[0m\u001b[31m00\u001b[0m\u001b[31mกว่า\u001b[0m\u001b[31mบาท\u001b[0m\u001b[31mแล้ว\u001b[0m\u001b[31mต้อง\u001b[0m\u001b[31mมา\u001b[0m\u001b[31mนั่ง\u001b[0m\u001b[31mจ่าย\u001b[0m\u001b[31mราย\u001b[0m\u001b[31mเดือน\u001b[0m\u001b[31m599\u001b[0m\u001b[31mรวม\u001b[0m\u001b[31mภาษี\u001b[0m\u001b[30mก็\u001b[0m\u001b[30mหกร้อย\u001b[0m\u001b[31mกว่า\u001b[0m\u001b[30mบาท\u001b[0m\u001b[31mอีก\u001b[0m\u001b[31mตั้ง\u001b[0m\u001b[31mเป็น\u001b[0m\u001b[31mปี\u001b[0m\u001b[31mไม่\u001b[0m\u001b[31mคุ้ม\u001b[0m\u001b[31mเลย\u001b[0m\u001b[31mค้า\u001b[0m, 0.28 Ans: 0.25 ✓\n",
      "\u001b[30mซื้อ\u001b[0m\u001b[30mมา\u001b[0m\u001b[31mใช้\u001b[0m\u001b[30mค่ะ\u001b[0m\u001b[30mแค้น\u001b[0m\u001b[31mมาก\u001b[0m\u001b[31mโฆษณา\u001b[0m\u001b[31mเกิน\u001b[0m\u001b[31mจริง\u001b[0m\u001b[31mอย่า\u001b[0m\u001b[31mไป\u001b[0m\u001b[31mเชื่อ\u001b[0m\u001b[1m\u001b[31mเน๊ต\u001b[0m\u001b[1m\u001b[31mและ\u001b[0m\u001b[31mโทรฟรี\u001b[0m\u001b[31m4000\u001b[0m, 0.22 Ans: 0.25 ✓\n",
      "\u001b[31mเน็ต\u001b[0m\u001b[31m512\u001b[0m\u001b[31m \u001b[0m\u001b[31m89\u001b[0m\u001b[31m \u001b[0m\u001b[30mบาท\u001b[0m\u001b[34m \u001b[0m\u001b[30mต้อง\u001b[0m\u001b[30mกด\u001b[0m\u001b[30mยัง\u001b[0m\u001b[34mไง\u001b[0m\u001b[1m\u001b[34mค่ะ\u001b[0m, 0.66 Ans: 0.75 ✓\n",
      "\u001b[30mเติม\u001b[0m\u001b[30mเงิน\u001b[0m\u001b[30mสมัคร\u001b[0m\u001b[30mได้\u001b[0m\u001b[30mไหม\u001b[0m\u001b[30m?\u001b[0m, 0.72 Ans: 0.50 X\n",
      "\u001b[34mของ\u001b[0m\u001b[34mผม\u001b[0m\u001b[34mแจ้ง\u001b[0m\u001b[31mปัญหา\u001b[0m\u001b[30mการ\u001b[0m\u001b[31mใช้\u001b[0m\u001b[31mการ\u001b[0m\u001b[31mไป\u001b[0m\u001b[31mตั้งแต่\u001b[0m\u001b[31mกลาง\u001b[0m\u001b[31mปี\u001b[0m\u001b[31mที่\u001b[0m\u001b[31mแล้ว\u001b[0m\u001b[30m \u001b[0m\u001b[34mจน\u001b[0m\u001b[30mตอน\u001b[0m\u001b[34mนี้\u001b[0m\u001b[34m \u001b[0m\u001b[30mเครือข่าย\u001b[0m\u001b[31mแจ้ง\u001b[0m\u001b[30m \u001b[0m\u001b[31mno\u001b[0m\u001b[31m \u001b[0m\u001b[31mservice\u001b[0m\u001b[31m \u001b[0m\u001b[1m\u001b[31mกับ\u001b[0m\u001b[1m\u001b[31m \u001b[0m\u001b[1m\u001b[31mมี\u001b[0m\u001b[31mสัญญาณ\u001b[0m\u001b[1m\u001b[31mเม็ดเดียว\u001b[0m\u001b[1m\u001b[31m \u001b[0m\u001b[1m\u001b[31mโทร\u001b[0m\u001b[31mเข้า\u001b[0m\u001b[1m\u001b[31mออก\u001b[0m\u001b[1m\u001b[31m \u001b[0m\u001b[31mเล่น\u001b[0m\u001b[1m\u001b[31mอินเตอร์เน็ต\u001b[0m\u001b[31mไม่\u001b[0m\u001b[1m\u001b[31mค่อย\u001b[0m\u001b[31mได้\u001b[0m\u001b[1m\u001b[31mเลย\u001b[0m\u001b[1m\u001b[31mครับ\u001b[0m\u001b[31m.\u001b[0m\u001b[1m\u001b[31m \u001b[0m\u001b[1m\u001b[31mโทร\u001b[0m\u001b[1m\u001b[31mแจ้ง\u001b[0m\u001b[1m\u001b[31mคอลเซ็นเตอร์\u001b[0m\u001b[31mพนักงาน\u001b[0m\u001b[1m\u001b[31mพูด\u001b[0m\u001b[1m\u001b[31mเป็น\u001b[0m\u001b[1m\u001b[31mแต่\u001b[0m\u001b[1m\u001b[31m \u001b[0m\u001b[1m\u001b[31m\"\u001b[0m\u001b[1m\u001b[31mรีเซ็ต\u001b[0m\u001b[1m\u001b[31mสัญญาณ\u001b[0m\u001b[1m\u001b[31m\"\u001b[0m\u001b[1m\u001b[31m \u001b[0m\u001b[1m\u001b[31mผู้\u001b[0m\u001b[1m\u001b[31mเกี่ยวข้อง\u001b[0m\u001b[1m\u001b[31mตรวจสอบ\u001b[0m\u001b[1m\u001b[31mที\u001b[0m\u001b[1m\u001b[31mครับ\u001b[0m, 0.12 Ans: 0.25 ✓\n",
      "\u001b[31mบ้าน\u001b[0m\u001b[31mผม\u001b[0m\u001b[31mไม่\u001b[0m\u001b[31mมี\u001b[0m\u001b[31mเสา\u001b[0m\u001b[31mสัญญาณ\u001b[0m\u001b[31mมา\u001b[0m\u001b[31mติด\u001b[0m\u001b[31mให้\u001b[0m\u001b[31mด้วย\u001b[0m\u001b[31mที่\u001b[0m\u001b[31mพังงา\u001b[0m\u001b[31m.\u001b[0m\u001b[1m\u001b[31mบ้าน\u001b[0m\u001b[1m\u001b[31mช้าง\u001b[0m\u001b[1m\u001b[31mนอน\u001b[0m\u001b[1m\u001b[31mครับ\u001b[0m, 0.16 Ans: 0.25 ✓\n",
      "\u001b[31mคุณ\u001b[0m\u001b[31mได้\u001b[0m\u001b[31mใช้\u001b[0m\u001b[31mความ\u001b[0m\u001b[1m\u001b[31mเร็ว\u001b[0m\u001b[1m\u001b[31mเน็ต\u001b[0m\u001b[1m\u001b[31m \u001b[0m\u001b[1m\u001b[31m3\u001b[0m\u001b[31mG\u001b[0m\u001b[31m \u001b[0m\u001b[31mหมด\u001b[0m\u001b[30mแล้ว\u001b[0m\u001b[30mค่ะ\n",
      "\u001b[0m\u001b[31mผม\u001b[0m\u001b[31mอยาก\u001b[0m\u001b[31mรู้\u001b[0m\u001b[31mว่า\u001b[0m\u001b[31mมัน\u001b[0m\u001b[31mเร็ว\u001b[0m\u001b[31mตรง\u001b[0m\u001b[31mไหน\u001b[0m\u001b[31mว่ะ\u001b[0m\u001b[31m \u001b[0m\u001b[31mดู\u001b[0m\u001b[31mอะไร\u001b[0m\u001b[30mก็\u001b[0m\u001b[30mโหลด\u001b[0m\u001b[30mยุ\u001b[0m\u001b[30mนั่น\u001b[0m\u001b[31mแหละ\u001b[0m\u001b[31m \u001b[0m\u001b[31mเร็ว\u001b[0m\u001b[31mตรง\u001b[0m\u001b[31mไหน\u001b[0m\u001b[31mอยาก\u001b[0m\u001b[31mถาม\u001b[0m\u001b[1m\u001b[31m?\u001b[0m\u001b[31m?\u001b[0m, 0.23 Ans: 0.25 ✓\n",
      "\u001b[31mไม่\u001b[0m\u001b[31mเชื่อ\u001b[0m\u001b[31mดี\u001b[0m\u001b[31mกว่า\u001b[0m\u001b[1m\u001b[31m \u001b[0m\u001b[1m\u001b[31mเร็ว\u001b[0m\u001b[31mแรง\u001b[0m\u001b[31mไม่\u001b[0m\u001b[31mมี\u001b[0m\u001b[31mจริง\u001b[0m, 0.22 Ans: 0.50 X\n",
      "Acc: 0.80\n",
      "............................................................................................................................................................\n",
      "Epoch -  11\n",
      "Avg Accuracy (training set): 0.87\n",
      "Accuracy (test set): 0.68\n",
      "====================================\n",
      "Show test result\n",
      "\u001b[30mขอ\u001b[0m\u001b[30mให้\u001b[0m\u001b[30mรักษา\u001b[0m\u001b[31mบริการ\u001b[0m\u001b[34mดี\u001b[0m\u001b[1m\u001b[34mๆ\u001b[0m\u001b[1m\u001b[34m \u001b[0m\u001b[1m\u001b[34mแบบ\u001b[0m\u001b[34mนี้\u001b[0m\u001b[30mไว้\u001b[0m\u001b[30mนะ\u001b[0m\u001b[30mคะ\u001b[0m\u001b[30m \u001b[0m\u001b[30mรับรอง\u001b[0m\u001b[30mไม่\u001b[0m\u001b[30mนอกใจ\u001b[0m\u001b[31mย้าย\u001b[0m\u001b[31mค่าย\u001b[0m\u001b[31mแน่นอน\u001b[0m, 0.30 Ans: 1.00 X\n",
      "\u001b[1m\u001b[34mขอบคุณ\u001b[0m\u001b[1m\u001b[34mค่ะ\u001b[0m, 0.88 Ans: 0.75 ✓\n",
      "\u001b[30mเน็ต\u001b[0m\u001b[31mช้า\u001b[0m\u001b[31mมาก\u001b[0m, 0.21 Ans: 0.25 ✓\n",
      "\u001b[31mไม่\u001b[0m\u001b[31mเห็น\u001b[0m\u001b[31mได้\u001b[0m\u001b[31mเซอร์ไพร์\u001b[0m\u001b[31mแบบ\u001b[0m\u001b[31mนี้\u001b[0m\u001b[31mเลย\u001b[0m\u001b[31m \u001b[0m\u001b[31mใช้\u001b[0m\u001b[31mดี\u001b[0m\u001b[31mแทค\u001b[0m\u001b[30mเกือบ\u001b[0m\u001b[30m \u001b[0m\u001b[30m10\u001b[0m\u001b[30mปี\u001b[0m\u001b[30mละ\u001b[0m\u001b[34m \u001b[0m\u001b[34m \u001b[0m\u001b[34mเสียใจ\u001b[0m\u001b[34m...\u001b[0m\u001b[34mจะ\u001b[0m\u001b[34mย้าย\u001b[0m\u001b[30mค่าย\u001b[0m\u001b[31mละ\u001b[0m, 0.51 Ans: 0.25 X\n",
      "\u001b[30mค่า\u001b[0m\u001b[30mโทร\u001b[0m\u001b[30mก้\u001b[0m\u001b[30mแพง\u001b[0m\u001b[30mแค่\u001b[0m\u001b[31mเปิด\u001b[0m\u001b[31mเน้ต\u001b[0m\u001b[31mทิ้ง\u001b[0m\u001b[31mใว้\u001b[0m\u001b[31m \u001b[0m\u001b[31mเงิน\u001b[0m\u001b[31mหมด\u001b[0m\u001b[31mอย่าง\u001b[0m\u001b[31mเร้ว\u001b[0m\u001b[31mห่วย\u001b[0m\u001b[31mแตก\u001b[0m, 0.18 Ans: 0.25 ✓\n",
      "\u001b[34mผม\u001b[0m\u001b[34mเข้าใจ\u001b[0m\u001b[34mนะ\u001b[0m\u001b[1m\u001b[34mคับ\u001b[0m\u001b[1m\u001b[34mว่า\u001b[0m\u001b[1m\u001b[34mมัน\u001b[0m\u001b[1m\u001b[34mเป็น\u001b[0m\u001b[34mเหตุ\u001b[0m\u001b[34mสุด\u001b[0m\u001b[34mวิสัย\u001b[0m\u001b[34mที่\u001b[0m\u001b[34mใคร\u001b[0m\u001b[30mไม่\u001b[0m\u001b[30mอยาก\u001b[0m\u001b[30mไห้\u001b[0m\u001b[30mเกิด\u001b[0m\u001b[31mขึ้น\u001b[0m\u001b[31m \u001b[0m\u001b[1m\u001b[31mแต่\u001b[0m\u001b[1m\u001b[31mเมื่อ\u001b[0m\u001b[31mเกิด\u001b[0m\u001b[31mขึ้น\u001b[0m\u001b[31mแล้ว\u001b[0m\u001b[1m\u001b[31m \u001b[0m\u001b[1m\u001b[31mคุณ\u001b[0m\u001b[1m\u001b[31mต้อง\u001b[0m\u001b[1m\u001b[31mหา\u001b[0m\u001b[1m\u001b[31mวิธี\u001b[0m\u001b[1m\u001b[31mการ\u001b[0m\u001b[1m\u001b[31mที่\u001b[0m\u001b[31mจะ\u001b[0m\u001b[31mสือสาร\u001b[0m\u001b[1m\u001b[31mกับ\u001b[0m\u001b[1m\u001b[31mลูกค้า\u001b[0m\u001b[1m\u001b[31mไห้\u001b[0m\u001b[31mเร้ว\u001b[0m\u001b[30mที่สุด\u001b[0m\u001b[30m \u001b[0m\u001b[31mแม้\u001b[0m\u001b[30mกระทั่ง\u001b[0m\u001b[31mตอนน\u001b[0m\u001b[31mนี้\u001b[0m\u001b[31m \u001b[0m\u001b[31mผม\u001b[0m\u001b[31mยัง\u001b[0m\u001b[31mไม่\u001b[0m\u001b[31mได้\u001b[0m\u001b[1m\u001b[31mรับ\u001b[0m\u001b[31mข้อความ\u001b[0m\u001b[31mใด\u001b[0m\u001b[31mๆ\u001b[0m\u001b[31m \u001b[0m\u001b[31mจาก\u001b[0m\u001b[30mทาง\u001b[0m\u001b[34mดี\u001b[0m\u001b[34mเทคเลย\u001b[0m\u001b[30m \u001b[0m\u001b[31mคุณ\u001b[0m\u001b[31mดูแล\u001b[0m\u001b[31mและ\u001b[0m\u001b[1m\u001b[31mเยียวยา\u001b[0m\u001b[1m\u001b[31mลูกค้า\u001b[0m\u001b[1m\u001b[31mได้\u001b[0m\u001b[1m\u001b[31mดี\u001b[0m\u001b[1m\u001b[31mมาก\u001b[0m\u001b[1m\u001b[31mคับ\u001b[0m, 0.18 Ans: 0.25 ✓\n",
      "\u001b[31mเน็ตช้า\u001b[0m\u001b[31mมาก\u001b[0m\u001b[31mเดือน\u001b[0m\u001b[31m699\u001b[0m\u001b[31mยัง\u001b[0m\u001b[30mต้อง\u001b[0m\u001b[31mสมัคร\u001b[0m\u001b[31mโปรเสริม\u001b[0m\u001b[31mอีก\u001b[0m, 0.52 Ans: 0.25 X\n",
      "\u001b[30mของ\u001b[0m\u001b[34mคน\u001b[0m\u001b[34mอื่น\u001b[0m\u001b[34mผม\u001b[0m\u001b[30mไม่\u001b[0m\u001b[31mรู้\u001b[0m\u001b[31m \u001b[0m\u001b[30mแต่\u001b[0m\u001b[31mที่\u001b[0m\u001b[31mผม\u001b[0m\u001b[30mอยู่\u001b[0m\u001b[30m \u001b[0m\u001b[34mDtac\u001b[0m\u001b[34m \u001b[0m\u001b[34mแรง\u001b[0m\u001b[1m\u001b[34mจริง\u001b[0m\u001b[1m\u001b[34mครับ\u001b[0m, 0.94 Ans: 1.00 ✓\n",
      "\u001b[1m\u001b[34mชอบ\u001b[0m\u001b[1m\u001b[34mช็อต\u001b[0m\u001b[1m\u001b[34mนี้\u001b[0m\u001b[1m\u001b[34mเพราะ\u001b[0m\u001b[1m\u001b[34mหน้า\u001b[0m\u001b[1m\u001b[34mของ\u001b[0m\u001b[1m\u001b[34mญ่า\u001b[0m\u001b[1m\u001b[34mให้\u001b[0m\u001b[1m\u001b[34mอารมณ์\u001b[0m\u001b[1m\u001b[34mการ\u001b[0m\u001b[1m\u001b[34mติดต่อ\u001b[0m\u001b[34mสื่อสาร\u001b[0m\u001b[30mที่\u001b[0m\u001b[30mไร้\u001b[0m\u001b[31mพรมแดน\u001b[0m\u001b[31m \u001b[0m\u001b[31mอยู่\u001b[0m\u001b[1m\u001b[31mไหน\u001b[0m\u001b[1m\u001b[31m \u001b[0m\u001b[1m\u001b[31mยัง\u001b[0m\u001b[1m\u001b[31mไง\u001b[0m\u001b[31m \u001b[0m\u001b[31mจูนหา\u001b[0m\u001b[1m\u001b[31mกัน\u001b[0m\u001b[1m\u001b[31mได้\u001b[0m\u001b[1m\u001b[31mเหมือน\u001b[0m\u001b[1m\u001b[31mอยู่\u001b[0m\u001b[31mใกล้\u001b[0m\u001b[31mกัน\u001b[0m\u001b[31m \u001b[0m\u001b[31mTrue\u001b[0m\u001b[31mMove\u001b[0m\u001b[31m \u001b[0m\u001b[31mH \u001b[0m\u001b[31mสัญญาณ\u001b[0m\u001b[31mแรง\u001b[0m\u001b[31mจริง\u001b[0m\u001b[31mๆ\u001b[0m\u001b[31mค่ะ\u001b[0m, 0.60 Ans: 1.00 X\n",
      "\u001b[31mหลัง\u001b[0m\u001b[31mการ\u001b[0m\u001b[30mขาย\u001b[0m\u001b[31mห่วย\u001b[0m, 0.31 Ans: 0.25 ✓\n",
      "Acc: 0.60\n",
      "............................................................................................................................................................\n",
      "Epoch -  12\n",
      "Avg Accuracy (training set): 0.87\n",
      "Accuracy (test set): 0.70\n",
      "====================================\n",
      "Show test result\n",
      "\u001b[30mเข้า\u001b[0m\u001b[31mไป\u001b[0m\u001b[31mรอ\u001b[0m\u001b[30mตั้งแต่\u001b[0m\u001b[30mยัง\u001b[0m\u001b[30mไม่\u001b[0m\u001b[30mเที่ยง\u001b[0m\u001b[30mจนถึง\u001b[0m\u001b[31mเวลา\u001b[0m\u001b[31m12\u001b[0m\u001b[31m.\u001b[0m\u001b[31m01\u001b[0m\u001b[31mของ\u001b[0m\u001b[31mหมด\u001b[0m\u001b[31mหมาย\u001b[0m\u001b[31mความ\u001b[0m\u001b[31mว่า\u001b[0m\u001b[31mงัย\u001b[0m\u001b[31mค่ะ\u001b[0m\u001b[31m?\u001b[0m\u001b[31m?\u001b[0m\u001b[31m?\u001b[0m\u001b[31m?\u001b[0m\u001b[31m?\u001b[0m, 0.36 Ans: 0.25 ✓\n",
      "\u001b[30mถ้า\u001b[0m\u001b[30mหมด\u001b[0m\u001b[31m \u001b[0m\u001b[30m10\u001b[0m\u001b[30m \u001b[0m\u001b[34mGB\u001b[0m\u001b[34m \u001b[0m\u001b[34mFUP\u001b[0m\u001b[30m \u001b[0m\u001b[30mเท่า\u001b[0m\u001b[30mไหร่\u001b[0m\u001b[30mครับ\u001b[0m\u001b[34mเนี่ย\u001b[0m, 0.71 Ans: 0.50 X\n",
      "\u001b[31mยาก\u001b[0m\u001b[31mได้\u001b[0m\u001b[31mแต่\u001b[0m\u001b[31mไม่\u001b[0m\u001b[30mเงิน\u001b[0m\u001b[34mชื้อ\u001b[0m\u001b[30mจน\u001b[0m, 0.51 Ans: 0.50 ✓\n",
      "\u001b[30mเป็น\u001b[0m\u001b[31mเครือข่าย\u001b[0m\u001b[31mที่\u001b[0m\u001b[31mจ๊าดหมาาาา\u001b[0m\u001b[30mที่สุด\u001b[0m\u001b[34mเลย\u001b[0m\u001b[34mครับ\u001b[0m\u001b[1m\u001b[34m....\u001b[0m\u001b[34mขอ\u001b[0m\u001b[30mพูด\u001b[0m\u001b[30mครั้ง\u001b[0m\u001b[31mสุดท้าย\u001b[0m\u001b[31mก่อน\u001b[0m\u001b[1m\u001b[31mที่\u001b[0m\u001b[1m\u001b[31mเปลี่ยน\u001b[0m\u001b[1m\u001b[31mเครือข่าย\u001b[0m\u001b[31mอื่น\u001b[0m\u001b[1m\u001b[31m😄🙂\u001b[0m, 0.09 Ans: 0.25 ✓\n",
      "\u001b[34mร่วม\u001b[0m\u001b[34mโครงการ\u001b[0m\u001b[34mสามารถ\u001b[0m\u001b[34mผ่อน\u001b[0m\u001b[34mชำระ\u001b[0m\u001b[34mได้\u001b[0m\u001b[34mไหม\u001b[0m\u001b[34mคะ\u001b[0m, 0.69 Ans: 0.75 ✓\n",
      "\u001b[30mถ้า\u001b[0m\u001b[30mเอา\u001b[0m\u001b[30m5\u001b[0m\u001b[34mc\u001b[0m\u001b[30mไป\u001b[0m\u001b[34mแลก\u001b[0m\u001b[34mต้อง\u001b[0m\u001b[34mเพิ่ม\u001b[0m\u001b[1m\u001b[34mเท่า\u001b[0m\u001b[34mไหร่\u001b[0m\u001b[34mรบกวน\u001b[0m\u001b[34mคิด\u001b[0m\u001b[1m\u001b[34mให้\u001b[0m\u001b[1m\u001b[34mผม\u001b[0m\u001b[1m\u001b[34mที\u001b[0m, 0.77 Ans: 0.75 ✓\n",
      "\u001b[34mIphone\u001b[0m\u001b[34m6\u001b[0m\u001b[34m \u001b[0m\u001b[34m16\u001b[0m\u001b[34mg\u001b[0m\u001b[30m \u001b[0m\u001b[30mยาก\u001b[0m\u001b[31mได้\u001b[0m\u001b[30mต้อง\u001b[0m\u001b[30mทำ\u001b[0m\u001b[30mไง\u001b[0m\u001b[34mครับ\u001b[0m, 0.66 Ans: 0.75 ✓\n",
      "\u001b[31mเครือข่าย\u001b[0m\u001b[31mที่\u001b[0m\u001b[31mพิจิตร\u001b[0m\u001b[1m\u001b[31mล่ม\u001b[0m\u001b[1m\u001b[31mหรอ\u001b[0m\u001b[31mคับ\u001b[0m\u001b[31m \u001b[0m\u001b[31mเน็ท\u001b[0m\u001b[30mไม่\u001b[0m\u001b[31mกระดิก\u001b[0m\u001b[31mเลย\u001b[0m, 0.30 Ans: 0.25 ✓\n",
      "\u001b[30mอยาก\u001b[0m\u001b[31mยกเลิก\u001b[0m\u001b[31mมาก\u001b[0m\u001b[31m \u001b[0m\u001b[1m\u001b[31m \u001b[0m\u001b[31mเพาะ\u001b[0m\u001b[31mจะ\u001b[0m\u001b[1m\u001b[31mใช้\u001b[0m\u001b[1m\u001b[31mวัน\u001b[0m\u001b[1m\u001b[31mละ\u001b[0m\u001b[31m29\u001b[0m\u001b[31m฿\u001b[0m\u001b[31m \u001b[0m\u001b[31mแต่\u001b[0m\u001b[31m \u001b[0m\u001b[31m \u001b[0m\u001b[30mเติม\u001b[0m\u001b[30mเงิน\u001b[0m\u001b[30mเกิน\u001b[0m\u001b[30m100\u001b[0m\u001b[31mมัน\u001b[0m\u001b[31mมา\u001b[0m\u001b[30mหัก\u001b[0m\u001b[30mอัน\u001b[0m\u001b[31mนี้\u001b[0m\u001b[31mหมด\u001b[0m\u001b[31mเลย\u001b[0m\u001b[31m \u001b[0m\u001b[31mเซง\u001b[0m, 0.34 Ans: 0.25 ✓\n",
      "\u001b[1m\u001b[31mไอ้\u001b[0m\u001b[1m\u001b[31mเหี้ย\u001b[0m\u001b[1m\u001b[31mตอน\u001b[0m\u001b[1m\u001b[31mสี่\u001b[0m\u001b[1m\u001b[31mจี\u001b[0m\u001b[1m\u001b[31mก็\u001b[0m\u001b[1m\u001b[31mพอ\u001b[0m\u001b[31mเล่น\u001b[0m\u001b[31mได้\u001b[0m\u001b[31m \u001b[0m\u001b[1m\u001b[31mพอ\u001b[0m\u001b[31mสันยาน\u001b[0m\u001b[31mตัด\u001b[0m\u001b[31mมา\u001b[0m\u001b[31mเป็น\u001b[0m\u001b[31mสาม\u001b[0m\u001b[31mจี\u001b[0m\u001b[31m \u001b[0m\u001b[1m\u001b[31mแม่งโคตรกาก\u001b[0m\u001b[31m \u001b[0m\u001b[31mมึง\u001b[0m\u001b[1m\u001b[31mเลิก\u001b[0m\u001b[31mประกอบ\u001b[0m\u001b[1m\u001b[31mกิจการ\u001b[0m\u001b[1m\u001b[31mไป\u001b[0m\u001b[1m\u001b[31mเหอะ\u001b[0m\u001b[1m\u001b[31m \u001b[0m\u001b[1m\u001b[31mถ้า\u001b[0m\u001b[1m\u001b[31mทำ\u001b[0m\u001b[1m\u001b[31mออก\u001b[0m\u001b[1m\u001b[31mมา\u001b[0m\u001b[1m\u001b[31mแล้ว\u001b[0m\u001b[1m\u001b[31mมัน\u001b[0m\u001b[1m\u001b[31mห่วย\u001b[0m\u001b[1m\u001b[31mแบบ\u001b[0m\u001b[1m\u001b[31mนี้\u001b[0m, 0.12 Ans: 0.25 ✓\n",
      "Acc: 0.90\n"
     ]
    },
    {
     "name": "stdout",
     "output_type": "stream",
     "text": [
      "............................................................................................................................................................\n",
      "Epoch -  13\n",
      "Avg Accuracy (training set): 0.89\n",
      "Accuracy (test set): 0.68\n",
      "====================================\n",
      "Show test result\n",
      "\u001b[34mกรุงเทพ\u001b[0m\u001b[1m\u001b[34mฯ\u001b[0m\u001b[1m\u001b[34m \u001b[0m\u001b[1m\u001b[34mยัง\u001b[0m\u001b[1m\u001b[34mขี้\u001b[0m\u001b[30mกาก\u001b[0m\u001b[1m\u001b[31mเลย\u001b[0m\u001b[31mครับ\u001b[0m\u001b[1m\u001b[31m \u001b[0m\u001b[31mดีแทค\n",
      "\u001b[0m\u001b[31m4G\u001b[0m\u001b[31m \u001b[0m\u001b[31mมี\u001b[0m\u001b[31mแค่\u001b[0m\u001b[31m \u001b[0m\u001b[31mขีด\u001b[0m\u001b[31mสอง\u001b[0m\u001b[1m\u001b[31mขีด\u001b[0m\u001b[1m\u001b[31mเนี่ย\u001b[0m\u001b[1m\u001b[31mนะ\u001b[0m\u001b[1m\u001b[31m \u001b[0m\u001b[31mแก้ไข\u001b[0m\u001b[31mเถอะ\u001b[0m\u001b[1m\u001b[31m \u001b[0m\u001b[1m\u001b[31mดี\u001b[0m\u001b[31mกว่า\u001b[0m\u001b[31mแก้ตัว\u001b[0m\u001b[31mนะ\u001b[0m\u001b[1m\u001b[31m \u001b[0m\u001b[1m\u001b[31mกำ\u001b[0m\u001b[1m\u001b[31m \u001b[0m\u001b[31mโฆษณา\u001b[0m\u001b[31mจัง\u001b[0m\u001b[31mเลย\u001b[0m\u001b[1m\u001b[31m \u001b[0m\u001b[1m\u001b[31mห่วย\u001b[0m\u001b[1m\u001b[31mๆ\u001b[0m\u001b[1m\u001b[31mๆ\u001b[0m\u001b[31mๆ\u001b[0m\u001b[31mๆ\u001b[0m, 0.22 Ans: 0.25 ✓\n",
      "\u001b[30m#งานน\u001b[0m\u001b[30mนี้\u001b[0m\u001b[31mเข้า\u001b[0m\u001b[31mข่าย\u001b[0m\u001b[31mหลอกลวง\u001b[0m\u001b[31mประชาชน\u001b[0m\u001b[31mรึป่าว\u001b[0m\u001b[31mคะดี\u001b[0m\u001b[31mแทคชี้แจง\u001b[0m\u001b[31mด่วนนน\u001b[0m, 0.31 Ans: 0.25 ✓\n",
      "\u001b[30mแบบ\u001b[0m\u001b[31mนี้\u001b[0m\u001b[31mต้อง\u001b[0m\u001b[30mฉลอง\u001b[0m\u001b[30mใหญ่\u001b[0m\u001b[30mๆ\n",
      "\u001b[0m\u001b[30m\"\u001b[0m\u001b[30m#งด\u001b[0m\u001b[31mเก็บ\u001b[0m\u001b[31mค่า\u001b[0m\u001b[31mบริการ\u001b[0m\u001b[31m1\u001b[0m\u001b[31mเดือน\u001b[0m\u001b[1m\u001b[31m\"\u001b[0m\u001b[31m\n",
      "\u001b[0m\u001b[31m#\u001b[0m\u001b[1m\u001b[31mโอ้ววโหวว\u001b[0m\u001b[31mดีใจ\u001b[0m\u001b[30mจัง\u001b[0m\u001b[30mเดือน\u001b[0m\u001b[34mนี้\u001b[0m\u001b[30mไม่\u001b[0m\u001b[30mต้อง\u001b[0m\u001b[30mจ่าย\u001b[0m\u001b[30mค่า\u001b[0m\u001b[30mโทรศัพท์\u001b[0m\u001b[30mราย\u001b[0m\u001b[34mเดือน\u001b[0m\u001b[34mเย้\u001b[0m\u001b[1m\u001b[34mๆ\u001b[0m\u001b[1m\u001b[34mๆ\u001b[0m\u001b[1m\u001b[34mๆ\u001b[0m\u001b[1m\u001b[34mๆ\u001b[0m\u001b[1m\u001b[34mๆ\u001b[0m\u001b[1m\u001b[34m#\u001b[0m\u001b[34m$\u001b[0m\u001b[34m&\u001b[0m\u001b[1m\u001b[34m€£₩&#$\u001b[0m\u001b[1m\u001b[34m/\u001b[0m\u001b[1m\u001b[34m^\u001b[0m\u001b[1m\u001b[34m&\u001b[0m\u001b[1m\u001b[34m%\u001b[0m, 0.99 Ans: 1.00 ✓\n",
      "\u001b[30mอยาก\u001b[0m\u001b[34mให้\u001b[0m\u001b[34mมี\u001b[0m\u001b[30mโปร\u001b[0m\u001b[34mความ\u001b[0m\u001b[30mเร็ว\u001b[0m\u001b[30mเหมือน\u001b[0m\u001b[30mกับ\u001b[0m\u001b[30mของ\u001b[0m\u001b[30mเน็ต\u001b[0m\u001b[31mบ้าน\u001b[0m\u001b[31mเยอะ\u001b[0m\u001b[31mๆ\u001b[0m\u001b[31mบ้าง\u001b[0m\u001b[31mน่า\u001b[0m\u001b[31mจะ\u001b[0m\u001b[31mเหมา\u001b[0m\u001b[31mจ่าย\u001b[0m\u001b[31mไป\u001b[0m\u001b[31mเลย\u001b[0m\u001b[1m\u001b[31mโดย\u001b[0m\u001b[31mที่\u001b[0m\u001b[31mไม่\u001b[0m\u001b[30mจำกัด\u001b[0m\u001b[30mความ\u001b[0m\u001b[31mเร็ว\u001b[0m\u001b[31mก็\u001b[0m\u001b[31mน่า\u001b[0m\u001b[31mจะ\u001b[0m\u001b[31mดี\u001b[0m\u001b[31mนะ\u001b[0m, 0.44 Ans: 0.75 X\n",
      "\u001b[30mเน็น\u001b[0m\u001b[30mผม\u001b[0m\u001b[31mช้า\u001b[0m\u001b[31mต้อง\u001b[0m\u001b[31mทำ\u001b[0m\u001b[31mไง\u001b[0m\u001b[31mอะสมัก\u001b[0m\u001b[30m89\u001b[0m\u001b[30mบาท\u001b[0m\u001b[30mแต่\u001b[0m\u001b[30mดู\u001b[0m\u001b[31mยูทูป\u001b[0m\u001b[31mไม่\u001b[0m\u001b[31mได้\u001b[0m\u001b[31mเล่\u001b[0m\u001b[31mน\u001b[0m\u001b[30mgoole\u001b[0m\u001b[31mก็\u001b[0m\u001b[31mไม่\u001b[0m\u001b[31mได้\u001b[0m\u001b[31mแต่\u001b[0m\u001b[31mเล่น\u001b[0m\u001b[31mเฟส\u001b[0m\u001b[31mได้\u001b[0m\u001b[31mคับ\u001b[0m\u001b[31mทำ\u001b[0m\u001b[31mไง\u001b[0m\u001b[31mดี\u001b[0m, 0.60 Ans: 0.25 X\n",
      "\u001b[30mลดสปีก\u001b[0m\u001b[30mมั้ย\u001b[0m\u001b[30mค้ะ\u001b[0m, 0.59 Ans: 0.75 X\n",
      "\u001b[30mผม\u001b[0m\u001b[34mเห็น\u001b[0m\u001b[34mพนักงา\u001b[0m\u001b[30mนais\u001b[0m\u001b[30mใน\u001b[0m\u001b[31mคลิป\u001b[0m\u001b[30mโดนัท\u001b[0m\u001b[30mที่\u001b[0m\u001b[30mโลตัสนครนาย\u001b[0m\u001b[30mกยก\u001b[0m\u001b[30mพวก\u001b[0m\u001b[30mไป\u001b[0m\u001b[30mต่อว่า\u001b[0m\u001b[31mลูกค้า\u001b[0m\u001b[31mโดนัท\u001b[0m\u001b[31mบอก\u001b[0m\u001b[31mเลย\u001b[0m\u001b[31mครับ\u001b[0m\u001b[1m\u001b[31mว่า\u001b[0m\u001b[1m\u001b[31mais\u001b[0m\u001b[1m\u001b[31mบกพร่อง\u001b[0m\u001b[1m\u001b[31mด้าน\u001b[0m\u001b[1m\u001b[31mการ\u001b[0m\u001b[1m\u001b[31mอบรม\u001b[0m\u001b[1m\u001b[31mพนักงาน\u001b[0m\u001b[1m\u001b[31mมาก\u001b[0m\u001b[31mๆ\u001b[0m\u001b[1m\u001b[31mผม\u001b[0m\u001b[31mเบอร์\u001b[0m\u001b[30m0\u001b[0m\u001b[30m-\u001b[0m\u001b[30m3193\u001b[0m\u001b[30m8145\u001b[0m\u001b[30mขอ\u001b[0m\u001b[31mใช้\u001b[0m\u001b[31mais\u001b[0m\u001b[31mแค่\u001b[0m\u001b[31mเดือน\u001b[0m\u001b[31mสุดท้าย\u001b[0m\u001b[31mเพราะ\u001b[0m\u001b[31mเคย\u001b[0m\u001b[31mเจอ\u001b[0m\u001b[31mพนักงาน\u001b[0m\u001b[1m\u001b[31maisเหวี่ยง\u001b[0m\u001b[1m\u001b[31mใส่\u001b[0m\u001b[1m\u001b[31mเรื่อง\u001b[0m\u001b[1m\u001b[31mการ\u001b[0m\u001b[31mชำระ\u001b[0m\u001b[31mเงิน\u001b[0m\u001b[31mอัตโนมัต\u001b[0m\u001b[31mแต่\u001b[0m\u001b[31mไม่\u001b[0m\u001b[31mทอน\u001b[0m\u001b[31mเงิน\u001b[0m\u001b[31mที่\u001b[0m\u001b[31mตู้\u001b[0m\u001b[1m\u001b[31mแจ้ง\u001b[0m\u001b[1m\u001b[31mแต่\u001b[0m\u001b[31mไม่\u001b[0m\u001b[1m\u001b[31mรู้\u001b[0m\u001b[31mวิธี\u001b[0m\u001b[31mยกเลิก\u001b[0m, 0.21 Ans: 0.25 ✓\n",
      "\u001b[30mอเน็จ\u001b[0m\u001b[30mอนาจ\u001b[0m\u001b[30mพึ่ง\u001b[0m\u001b[30mจะ\u001b[0m\u001b[31mติดตั้ง\u001b[0m\u001b[31mเสา\u001b[0m\u001b[1m\u001b[31mสัญญาณ\u001b[0m\u001b[1m\u001b[31mให้\u001b[0m\u001b[31mเขา\u001b[0m\u001b[31mค่าย\u001b[0m\u001b[30mอื่น\u001b[0m\u001b[31mเขา\u001b[0m\u001b[31mไป\u001b[0m\u001b[31mถึง\u001b[0m\u001b[31mไหน\u001b[0m\u001b[31mแล้ว\u001b[0m\u001b[31mพึ่ง\u001b[0m\u001b[31mจะ\u001b[0m\u001b[31mมา\u001b[0m\u001b[31mติด\u001b[0m\u001b[31m😕\u001b[0m, 0.48 Ans: 0.50 ✓\n",
      "\u001b[30mต้อง\u001b[0m\u001b[30mซื้อ\u001b[0m\u001b[30mไอโฟน\u001b[0m\u001b[34mเพื่อ\u001b[0m\u001b[34mเล่น\u001b[0m\u001b[34mเกม\u001b[0m\u001b[34mสะแล้ว\u001b[0m, 0.79 Ans: 0.75 ✓\n",
      "\u001b[31mสัญญาณ\u001b[0m\u001b[1m\u001b[31mเนตช้า\u001b[0m\u001b[1m\u001b[31mมาก\u001b[0m\u001b[1m\u001b[31mติด\u001b[0m\u001b[1m\u001b[31mๆ\u001b[0m\u001b[1m\u001b[31mดับ\u001b[0m\u001b[1m\u001b[31mๆ\u001b[0m\u001b[31mขนาด\u001b[0m\u001b[1m\u001b[31mอยู่\u001b[0m\u001b[31mใน\u001b[0m\u001b[1m\u001b[31mตัวเมือง\u001b[0m\u001b[1m\u001b[31mเชียงใหม่\u001b[0m, 0.16 Ans: 0.25 ✓\n",
      "Acc: 0.70\n",
      "............................................................................................................................................................\n",
      "Epoch -  14\n",
      "Avg Accuracy (training set): 0.90\n",
      "Accuracy (test set): 0.69\n",
      "====================================\n",
      "Show test result\n",
      "\u001b[30mเครื่อง\u001b[0m\u001b[30mฟรี\u001b[0m\u001b[34mราย\u001b[0m\u001b[34mเดือน\u001b[0m\u001b[34mราคา\u001b[0m\u001b[1m\u001b[34mเบา\u001b[0m\u001b[34mมี\u001b[0m\u001b[34mไหม\u001b[0m\u001b[1m\u001b[34mค่ะ\u001b[0m, 0.84 Ans: 0.75 ✓\n",
      "\u001b[31m#\u001b[0m\u001b[30mหน้า\u001b[0m\u001b[31mด้าน\u001b[0m\u001b[31mว่ะ\u001b[0m\u001b[31mส่ง\u001b[0m\u001b[31mข้อความ\u001b[0m\u001b[31mนี้\u001b[0m\u001b[31mมา\u001b[0m\u001b[31mพูด\u001b[0m\u001b[31mได้\u001b[0m\u001b[31m \u001b[0m\u001b[31mไง\u001b[0m\u001b[31m \u001b[0m\u001b[31mประหยัด\u001b[0m\u001b[31mจริง\u001b[0m\u001b[30mๆ\u001b[0m\u001b[30m \u001b[0m\u001b[30mจ่าย\u001b[0m\u001b[30mแค่\u001b[0m\u001b[31m \u001b[0m\u001b[30m15\u001b[0m\u001b[31m \u001b[0m\u001b[30mบาท\u001b[0m\u001b[30m \u001b[0m\u001b[30mเล่น\u001b[0m\u001b[30mเน็ต\u001b[0m\u001b[31mต่อเนื่อง\u001b[0m\u001b[31m \u001b[0m\u001b[31m500\u001b[0m\u001b[30mMB\u001b[0m\u001b[31m \u001b[0m\u001b[31mที่\u001b[0m\u001b[30mความ\u001b[0m\u001b[31mเร็ว\u001b[0m\u001b[31mสูง\u001b[0m\u001b[31mสุด\u001b[0m\u001b[31m \u001b[0m\u001b[31m512\u001b[0m\u001b[31mkbps\u001b[0m\u001b[31m \u001b[0m\u001b[31mจาก\u001b[0m\u001b[31mนั้น\u001b[0m\u001b[30m \u001b[0m\u001b[30m64\u001b[0m\u001b[31mkbps\u001b[0m\u001b[31m \u001b[0m\u001b[31mใช้\u001b[0m\u001b[31mได้\u001b[0m\u001b[31m \u001b[0m\u001b[31m1\u001b[0m\u001b[30m \u001b[0m\u001b[30mวัน\u001b[0m\u001b[30m \u001b[0m\u001b[30mสมัคร\u001b[0m\u001b[34mกด\u001b[0m\u001b[30m \u001b[0m\u001b[30m*\u001b[0m\u001b[34m900\u001b[0m\u001b[34m*\u001b[0m\u001b[34m8908\u001b[0m\u001b[30m#\u001b[0m\u001b[30m \u001b[0m\u001b[30mโทร\u001b[0m\u001b[30mออก\u001b[0m\u001b[30m \u001b[0m\u001b[30m \u001b[0m\u001b[31m#ประหยัด\u001b[0m\u001b[31mบ้าน\u001b[0m\u001b[31mพ่อ\u001b[0m\u001b[1m\u001b[31mมึง\u001b[0m\u001b[1m\u001b[31mดิ\u001b[0m, 0.24 Ans: 0.25 ✓\n",
      "\u001b[30mสมัคร\u001b[0m\u001b[30mแนต\u001b[0m\u001b[30mๆ\u001b[0m\u001b[30mหมด\u001b[0m\u001b[30mวัน\u001b[0m\u001b[30mไหน\u001b[0m\u001b[30mเวลา\u001b[0m\u001b[31mหมด\u001b[0m\u001b[30mก็\u001b[0m\u001b[30mบอก\u001b[0m\u001b[30mพอ\u001b[0m\u001b[30mเงิน\u001b[0m\u001b[31mหมด\u001b[0m\u001b[31mเตือน\u001b[0m\u001b[31mวัน\u001b[0m\u001b[31mละ\u001b[0m\u001b[31mร้อยรอบ\u001b[0m\u001b[31mจะ\u001b[0m\u001b[31mย้าย\u001b[0m\u001b[31mค่าย\u001b[0m\u001b[31mละ\u001b[0m, 0.22 Ans: 0.50 X\n",
      "\u001b[30mระยอง\u001b[0m\u001b[31mไม่\u001b[0m\u001b[31mมี\u001b[0m\u001b[31mสันยาน\u001b[0m\u001b[1m\u001b[31m.\u001b[0m\u001b[31m \u001b[0m\u001b[31mดูแล\u001b[0m\u001b[31mด่วน\u001b[0m, 0.31 Ans: 0.25 ✓\n",
      "\u001b[30mที่\u001b[0m\u001b[30mโฆษณา\u001b[0m\u001b[31mไว้\u001b[0m\u001b[31m \u001b[0m\u001b[31mยิ่ง\u001b[0m\u001b[31mใช้\u001b[0m\u001b[31mยิ่ง\u001b[0m\u001b[31mดี\u001b[0m\u001b[31m \u001b[0m\u001b[31mแต่\u001b[0m\u001b[31mที่\u001b[0m\u001b[30mจริง\u001b[0m\u001b[30mแล้ว\u001b[0m\u001b[31mยิ่งใช้\u001b[0m\u001b[31mยิ่ง\u001b[0m\u001b[31mเหี้ย\u001b[0m\u001b[31m \u001b[0m\u001b[1m\u001b[31m🖕🏻\u001b[0m, 0.18 Ans: 0.25 ✓\n",
      "\u001b[31mย้าย\u001b[0m\u001b[31mค่าย\u001b[0m\u001b[30mดี\u001b[0m\u001b[31mกว่า\u001b[0m\u001b[31m \u001b[0m\u001b[31mแล้ว\u001b[0m\u001b[31mก็\u001b[0m\u001b[30mไป\u001b[0m\u001b[30mซื้อ\u001b[0m\u001b[30mเครื่อง\u001b[0m\u001b[30mใช้\u001b[0m\u001b[30mเลย\u001b[0m\u001b[30m \u001b[0m\u001b[30mมี\u001b[0m\u001b[30mอีก\u001b[0m\u001b[34mเบอร์\u001b[0m\u001b[34mที่\u001b[0m\u001b[34mจะ\u001b[0m\u001b[30mย้าย\u001b[0m\u001b[31m \u001b[0m\u001b[31mและ\u001b[0m\u001b[30mได้\u001b[0m\u001b[30mทำ\u001b[0m\u001b[30mการ\u001b[0m\u001b[31mย้าย\u001b[0m\u001b[31mไป\u001b[0m\u001b[31mหล่ะ\u001b[0m\u001b[31mหนึ่ง\u001b[0m\u001b[30mเบอร์\u001b[0m\u001b[34mเพราะ\u001b[0m\u001b[1m\u001b[34mเครื่อง\u001b[0m\u001b[1m\u001b[34mที่\u001b[0m\u001b[34mแจก\u001b[0m\u001b[34mมี\u001b[0m\u001b[31mปัญหา\u001b[0m\u001b[31mบ่อย\u001b[0m\u001b[31mสงสัย\u001b[0m\u001b[31mเอา\u001b[0m\u001b[31mของ\u001b[0m\u001b[31mถูก\u001b[0m\u001b[31mๆ\u001b[0m\u001b[31mมา\u001b[0m\u001b[31mแจก\u001b[0m\u001b[31mแน่\u001b[0m, 0.29 Ans: 0.25 ✓\n",
      "\u001b[34mของ\u001b[0m\u001b[30mผม\u001b[0m\u001b[30mเน็ต\u001b[0m\u001b[30mขึ้น\u001b[0m\u001b[31mตัวE\u001b[0m\u001b[31mเห็น\u001b[0m\u001b[31mที\u001b[0m\u001b[31mต้อง\u001b[0m\u001b[1m\u001b[31mเปลี่ยน\u001b[0m\u001b[31mค่าย\u001b[0m, 0.18 Ans: 0.25 ✓\n",
      "\u001b[31mเน็ต\u001b[0m\u001b[31m4mb\u001b[0m\u001b[31m \u001b[0m\u001b[31mซื้อ\u001b[0m\u001b[30mซิม\u001b[0m\u001b[30mใหม่\u001b[0m\u001b[30m \u001b[0m\u001b[30mสมัคร\u001b[0m\u001b[30mได้\u001b[0m\u001b[30mเลย\u001b[0m\u001b[30mปะครับ\u001b[0m, 0.64 Ans: 0.75 X\n",
      "\u001b[31mเน็ต\u001b[0m\u001b[31mธรรมดา\u001b[0m\u001b[31mว่า\u001b[0m\u001b[31mช้า\u001b[0m\u001b[31mละ\u001b[0m\u001b[31mนะ\u001b[0m\u001b[31m \u001b[0m\u001b[31mเลย\u001b[0m\u001b[31mสมัคร\u001b[0m\u001b[31mความ\u001b[0m\u001b[31mเร็ว\u001b[0m\u001b[31mเน็ต\u001b[0m\u001b[31mเพิ่ม\u001b[0m\u001b[31m \u001b[0m\u001b[31mหนัก\u001b[0m\u001b[31mกว่า\u001b[0m\u001b[31mเดิม\u001b[0m\u001b[31mอีก\u001b[0m\u001b[31m \u001b[0m\u001b[1m\u001b[31mไม่\u001b[0m\u001b[1m\u001b[31mได้\u001b[0m\u001b[1m\u001b[31mมี\u001b[0m\u001b[1m\u001b[31mความ\u001b[0m\u001b[1m\u001b[31mเร็ว\u001b[0m\u001b[1m\u001b[31mเหี้ยไร\u001b[0m\u001b[1m\u001b[31mเลย\u001b[0m\u001b[1m\u001b[31mแม่มึง\u001b[0m\u001b[1m\u001b[31m \u001b[0m\u001b[1m\u001b[31mหลอก\u001b[0m\u001b[1m\u001b[31mแดก\u001b[0m\u001b[1m\u001b[31mตังกู \n",
      "\u001b[0m\u001b[1m\u001b[31mเป็น\u001b[0m\u001b[1m\u001b[31mอย่าง\u001b[0m\u001b[1m\u001b[31mงี้\u001b[0m\u001b[31mถึง\u001b[0m\u001b[1m\u001b[31mว่า\u001b[0m\u001b[1m\u001b[31mลูกค้า\u001b[0m\u001b[1m\u001b[31mหนี\u001b[0m\u001b[31mหายหมด\u001b[0m\u001b[31m😡\u001b[0m\u001b[31m😡\u001b[0m\u001b[31m😡😤😤😤\u001b[0m, 0.13 Ans: 0.00 ✓\n",
      "\u001b[30mDTACส่ง\u001b[0m\u001b[30mข้อความ\u001b[0m\u001b[31mมา\u001b[0m\u001b[30mบอก\u001b[0m\u001b[30mว่า\u001b[0m\u001b[30mโทร\u001b[0m\u001b[31mทุก\u001b[0m\u001b[31mเครือค่าย\u001b[0m\u001b[31mตั้งแต่\u001b[0m\u001b[31mกี่\u001b[0m\u001b[30mโมง\u001b[0m\u001b[30mถึง\u001b[0m\u001b[31mกี่\u001b[0m\u001b[30mโมง\u001b[0m\u001b[31m \u001b[0m\u001b[31mโปรลด\u001b[0m\u001b[31mราคา\u001b[0m\u001b[31m \u001b[0m\u001b[31m \u001b[0m\u001b[31mแต่\u001b[0m\u001b[31mพอ\u001b[0m\u001b[31mสมัคร\u001b[0m\u001b[31mเข้า\u001b[0m\u001b[31mไป\u001b[0m\u001b[31mจริง\u001b[0m\u001b[31mๆ\u001b[0m\u001b[31m \u001b[0m\u001b[31m \u001b[0m\u001b[31mสมัคร\u001b[0m\u001b[31mไม่\u001b[0m\u001b[31mได้\u001b[0m\u001b[30mคะ\u001b[0m\u001b[31m \u001b[0m\u001b[31m \u001b[0m\u001b[30m \u001b[0m\u001b[31m \u001b[0m\u001b[31mแย่\u001b[0m\u001b[31mมาก\u001b[0m\u001b[31mๆ\u001b[0m\u001b[31mเลย\u001b[0m\u001b[31m \u001b[0m\u001b[31mห่วย\u001b[0m\u001b[31mมาก\u001b[0m\u001b[31mๆ\u001b[0m\u001b[31m😠😠😠😠\u001b[0m, 0.23 Ans: 0.25 ✓\n",
      "Acc: 0.80\n",
      "............................................................................................................................................................\n",
      "Epoch -  15\n",
      "Avg Accuracy (training set): 0.89\n",
      "Accuracy (test set): 0.68\n",
      "====================================\n",
      "Show test result\n",
      "\u001b[30mเช็ก\u001b[0m\u001b[30mโปร\u001b[0m\u001b[30m \u001b[0m\u001b[34mกด\u001b[0m\u001b[34mอะไร\u001b[0m\u001b[34mครับ\u001b[0m, 0.68 Ans: 0.50 X\n",
      "\u001b[30mเล่น\u001b[0m\u001b[30mราย\u001b[0m\u001b[30mเดือน\u001b[0m\u001b[30m2\u001b[0m\u001b[31mวัน\u001b[0m\u001b[31mหมดเน็ต\u001b[0m, 0.38 Ans: 0.25 ✓\n",
      "\u001b[31mเลิก\u001b[0m\u001b[31mใช้\u001b[0m\u001b[31mทรู\u001b[0m\u001b[31m \u001b[0m\u001b[31mเพราะ\u001b[0m\u001b[31m \u001b[0m\u001b[31mทรู\u001b[0m\u001b[31m \u001b[0m\u001b[31mสนับสนุน\u001b[0m\u001b[31m \u001b[0m\u001b[31mให้\u001b[0m\u001b[31mมี\u001b[0m\u001b[31mการ\u001b[0m\u001b[31mล่วง\u001b[0m\u001b[31mข้อมูล\u001b[0m\u001b[31m \u001b[0m\u001b[31m#\u001b[0m\u001b[31mเรา\u001b[0m\u001b[1m\u001b[31mไม่\u001b[0m\u001b[31mเอา\u001b[0m\u001b[31mพรบคอมพ์\u001b[0m\u001b[1m\u001b[31m \u001b[0m\u001b[31m#singelgateway\u001b[0m, 0.21 Ans: 0.50 X\n",
      "\u001b[34m4\u001b[0m\u001b[1m\u001b[34mG\u001b[0m\u001b[1m\u001b[34m \u001b[0m\u001b[34mไม่\u001b[0m\u001b[34mมา\u001b[0m\u001b[30mถึง\u001b[0m\u001b[30m \u001b[0m\u001b[31mบ้าน\u001b[0m\u001b[31mผม\u001b[0m\u001b[31mเลย\u001b[0m\u001b[31m \u001b[0m\u001b[31mแต่\u001b[0m\u001b[31mขับ\u001b[0m\u001b[31mรถ\u001b[0m\u001b[31mไป\u001b[0m\u001b[31mสัก\u001b[0m\u001b[31m \u001b[0m\u001b[31m1\u001b[0m\u001b[30m-\u001b[0m\u001b[30m2\u001b[0m\u001b[31mกิโล\u001b[0m\u001b[31m \u001b[0m\u001b[31mมี\u001b[0m\u001b[31mสัญญาณ\u001b[0m\u001b[30m \u001b[0m\u001b[30m4\u001b[0m\u001b[34mG\u001b[0m\u001b[34m \u001b[0m\u001b[34mขึ้น\u001b[0m\u001b[30m \u001b[0m\u001b[34mผม\u001b[0m\u001b[30mละปวด\u001b[0m\u001b[30mตับ\u001b[0m\u001b[31mเลย\u001b[0m\u001b[31mครับ\u001b[0m, 0.39 Ans: 0.12 ✓\n",
      "\u001b[30mสมัคร\u001b[0m\u001b[30mเน้ต\u001b[0m\u001b[30m \u001b[0m\u001b[31mความ\u001b[0m\u001b[31mเร็ว\u001b[0m\u001b[31m \u001b[0m\u001b[31m512\u001b[0m\u001b[31m \u001b[0m\u001b[31mคง\u001b[0m\u001b[31mที่\u001b[0m\u001b[30mแต่\u001b[0m\u001b[31mเน้ต\u001b[0m\u001b[30mขึ้น\u001b[0m\u001b[31mตัวe\u001b[0m\u001b[31mคือ\u001b[0m\u001b[31mอะไร\u001b[0m\u001b[31mงง\u001b[0m\u001b[31mอยู่\u001b[0m\u001b[31mใน\u001b[0m\u001b[31mเมือง\u001b[0m\u001b[31mนะ\u001b[0m, 0.40 Ans: 0.25 ✓\n",
      "\u001b[30mขอ\u001b[0m\u001b[30mอภัย\u001b[0m\u001b[30mค่ะ\u001b[0m\u001b[30mเพิ่ง\u001b[0m\u001b[30mเหนเคมเปญ\u001b[0m\u001b[30mนี้\u001b[0m\u001b[30mค่ะ\u001b[0m\u001b[30m \u001b[0m\u001b[30mเป็น\u001b[0m\u001b[31mลูกค้า\u001b[0m\u001b[31mราย\u001b[0m\u001b[30mเดือน\u001b[0m\u001b[30mค่ะ\u001b[0m\u001b[30m \u001b[0m\u001b[30mสนใจ\u001b[0m\u001b[34m \u001b[0m\u001b[1m\u001b[34miPhone\u001b[0m\u001b[34m7\u001b[0m\u001b[34m \u001b[0m\u001b[34mproduct\u001b[0m\u001b[34m \u001b[0m\u001b[34mred\u001b[0m\u001b[34m \u001b[0m\u001b[34mราคา\u001b[0m\u001b[34mค่า\u001b[0m\u001b[34mเครื่อง\u001b[0m\u001b[34mหลัง\u001b[0m\u001b[30mหัก\u001b[0m\u001b[31mส่วน\u001b[0m\u001b[31mลด\u001b[0m\u001b[31mเหลือ\u001b[0m\u001b[30mเท่า\u001b[0m\u001b[30mไร\u001b[0m\u001b[30mค่ะ\u001b[0m\u001b[30m \n",
      "\u001b[0m\u001b[34mและ\u001b[0m\u001b[1m\u001b[34mต้อง\u001b[0m\u001b[1m\u001b[34mจ่าย\u001b[0m\u001b[34mล่วงหน้า\u001b[0m\u001b[34mเท่า\u001b[0m\u001b[34mไร\u001b[0m\u001b[1m\u001b[34m \u001b[0m\u001b[1m\u001b[34mถ้า\u001b[0m\u001b[34mจะ\u001b[0m\u001b[34mใช้\u001b[0m\u001b[34mแพ้คเกจ\u001b[0m\u001b[34mราย\u001b[0m\u001b[34mเดือน\u001b[0m\u001b[34m699\n",
      "\u001b[0m\u001b[1m\u001b[34mแล้ว\u001b[0m\u001b[1m\u001b[34mล่วงหน้า\u001b[0m\u001b[1m\u001b[34mจะ\u001b[0m\u001b[34mเป็น\u001b[0m\u001b[34mส่วน\u001b[0m\u001b[30mลด\u001b[0m\u001b[34mกี่\u001b[0m\u001b[30mเดือน\u001b[0m\u001b[30m@กี่\u001b[0m\u001b[30mบาท\u001b[0m\u001b[34m/\u001b[0m\u001b[34mเดือน\u001b[0m\u001b[30mค่ะ\u001b[0m, 0.65 Ans: 0.50 X\n",
      "\u001b[30mสอบถาม\u001b[0m\u001b[30mครับ\u001b[0m\u001b[34m \u001b[0m\u001b[34mผม\u001b[0m\u001b[34mอยาก\u001b[0m\u001b[34mทราบ\u001b[0m\u001b[34m \u001b[0m\u001b[34mท่า\u001b[0m\u001b[1m\u001b[34mผม\u001b[0m\u001b[34mมี\u001b[0m\u001b[34mเบอร์\u001b[0m\u001b[34mทรู\u001b[0m\u001b[34mอยู่แล้ว\u001b[0m\u001b[30m \u001b[0m\u001b[34mเบอร์\u001b[0m\u001b[1m\u001b[34mราย\u001b[0m\u001b[34mเดือน\u001b[0m\u001b[34m \u001b[0m\u001b[30mอยาก\u001b[0m\u001b[34mจะ\u001b[0m\u001b[34mซื้อ\u001b[0m\u001b[34mเครื่อง\u001b[0m\u001b[34mใหม่\u001b[0m\u001b[34m \u001b[0m\u001b[34mมี\u001b[0m\u001b[34mโปรไหน\u001b[0m\u001b[34mแนะนำ\u001b[0m\u001b[34mบ่าง\u001b[0m\u001b[34mครับ\u001b[0m\u001b[1m\u001b[34m \u001b[0m\u001b[34mส่วน\u001b[0m\u001b[34mลด\u001b[0m\u001b[34mค่า\u001b[0m\u001b[34mเครื่อง\u001b[0m\u001b[34m \u001b[0m\u001b[1m\u001b[34mครับ\u001b[0m, 0.75 Ans: 0.50 X\n",
      "\u001b[30mตอน\u001b[0m\u001b[30mนี้\u001b[0m\u001b[30mใช้\u001b[0m\u001b[31mโปร\u001b[0m\u001b[30m89\u001b[0m\u001b[34mอยู่\u001b[0m\u001b[34mถ้า\u001b[0m\u001b[34mเปลี่ยน\u001b[0m\u001b[30mไป\u001b[0m\u001b[34mใช้\u001b[0m\u001b[1m\u001b[34m99\u001b[0m\u001b[1m\u001b[34mบาท\u001b[0m\u001b[1m\u001b[34mเน้ต\u001b[0m\u001b[34mจะ\u001b[0m\u001b[30mช้า\u001b[0m\u001b[31mลง\u001b[0m\u001b[31mใม๊\u001b[0m\u001b[31mค่ะ\u001b[0m, 0.23 Ans: 0.50 X\n",
      "\u001b[30mราย\u001b[0m\u001b[30mเดือน\u001b[0m\u001b[30mหรือ\u001b[0m\u001b[34mเติม\u001b[0m\u001b[34mเงิน\u001b[0m, 0.61 Ans: 0.50 ✓\n",
      "\u001b[30mวัน\u001b[0m\u001b[30mนี้\u001b[0m\u001b[30mมี\u001b[0m\u001b[30mใคร\u001b[0m\u001b[30mสละ\u001b[0m\u001b[30mสิทธิ์\u001b[0m\u001b[30mมั้ย\u001b[0m\u001b[30mคะ\u001b[0m\u001b[30m \u001b[0m\u001b[34m \u001b[0m\u001b[34mอยาก\u001b[0m\u001b[34mไป\u001b[0m\u001b[34mดู\u001b[0m\u001b[34mอ่ะ\u001b[0m, 0.80 Ans: 0.75 ✓\n",
      "Acc: 0.50\n"
     ]
    },
    {
     "name": "stdout",
     "output_type": "stream",
     "text": [
      "............................................................................................................................................................\n",
      "Epoch -  16\n",
      "Avg Accuracy (training set): 0.90\n",
      "Accuracy (test set): 0.68\n",
      "====================================\n",
      "Show test result\n",
      "\u001b[31mสัญญาณ\u001b[0m\u001b[31mขึ้น\u001b[0m\u001b[31mRHตลอด\u001b[0m\u001b[31m3\u001b[0m\u001b[31mวัน\u001b[0m\u001b[31mแล้วแต่\u001b[0m\u001b[31mก่อน\u001b[0m\u001b[31mไม่\u001b[0m\u001b[31mเป็น\u001b[0m\u001b[31mปรับ\u001b[0m\u001b[31mแต่\u001b[0m\u001b[1m\u001b[31mเครือข่าย\u001b[0m\u001b[31mได้\u001b[0m\u001b[31mH+\u001b[0m\u001b[31mแป๊ป\u001b[0m\u001b[31mเดียว\u001b[0m\u001b[31mก็\u001b[0m\u001b[31mเป็น\u001b[0m\u001b[31mอีก\u001b[0m\u001b[31mเขต\u001b[0m\u001b[31mมาบตา\u001b[0m\u001b[31mพุด\u001b[0m\u001b[31mครับ\u001b[0m\u001b[31mมือถือ\u001b[0m\u001b[31miQ\u001b[0m\u001b[31m \u001b[0m\u001b[31mxA\u001b[0m, 0.24 Ans: 0.25 ✓\n",
      "\u001b[30mใช้\u001b[0m\u001b[30m \u001b[0m\u001b[1m\u001b[34m99\u001b[0m\u001b[1m\u001b[34m \u001b[0m\u001b[30mหมุน\u001b[0m\u001b[31mส่ง\u001b[0m\u001b[31mงาน\u001b[0m\u001b[30mไม่\u001b[0m\u001b[30mไป้ลย\u001b[0m\u001b[30mค่ะ\u001b[0m, 0.41 Ans: 0.25 ✓\n",
      "\u001b[30mต้อง\u001b[0m\u001b[30mจอง\u001b[0m\u001b[30mใว้\u001b[0m\u001b[34mหรือ\u001b[0m\u001b[34mเปล่า\u001b[0m\u001b[34mคัฟแลาว\u001b[0m\u001b[34mหมด\u001b[0m\u001b[34mเขต\u001b[0m\u001b[34mวัน\u001b[0m\u001b[1m\u001b[34mใหน\u001b[0m\u001b[34mพอดี\u001b[0m\u001b[1m\u001b[34mสนใจ\u001b[0m\u001b[1m\u001b[34mไอโฟน\u001b[0m\u001b[1m\u001b[34m6\u001b[0m\u001b[34mเอสพลัส\u001b[0m\u001b[34mอ่ะ\u001b[0m\u001b[1m\u001b[34mคัฟตอน\u001b[0m\u001b[34mนี้\u001b[0m\u001b[34mอยู่อมตะชลบุรีสาขา\u001b[0m\u001b[34mที่\u001b[0m\u001b[34mพลีสมอล\u001b[0m\u001b[30mไม่\u001b[0m\u001b[30mมี\u001b[0m\u001b[30mเครื่อง\u001b[0m\u001b[30mอ่ะ\u001b[0m\u001b[30mคัฟสามาม\u001b[0m\u001b[34mรถ\u001b[0m\u001b[34mจอง\u001b[0m\u001b[34mได้\u001b[0m\u001b[34mป่าว\u001b[0m\u001b[34mคัฟ\u001b[0m, 0.75 Ans: 0.75 ✓\n",
      "\u001b[30mทำ\u001b[0m\u001b[34mไหม\u001b[0m\u001b[34mรุ่น\u001b[0m\u001b[34m4\u001b[0m\u001b[34mGมี\u001b[0m\u001b[34mปัญหา\u001b[0m\u001b[30mมาก\u001b[0m\u001b[31mระบบ\u001b[0m\u001b[31mไม่\u001b[0m\u001b[31mค่อย\u001b[0m\u001b[1m\u001b[31mทำ\u001b[0m\u001b[31mงาน\u001b[0m\u001b[31mเข้า\u001b[0m\u001b[31mแอ็ป\u001b[0m\u001b[31mก็\u001b[0m\u001b[31mยาก\u001b[0m\u001b[31mครับ\u001b[0m, 0.27 Ans: 0.25 ✓\n",
      "\u001b[30mใช้\u001b[0m\u001b[34mงาน\u001b[0m\u001b[34mอยู่\u001b[0m\u001b[34mบน\u001b[0m\u001b[34mถนน\u001b[0m\u001b[34mรัชดาภิเษก \n",
      "\u001b[0m\u001b[30mพระราม\u001b[0m\u001b[30m \u001b[0m\u001b[30m9\u001b[0m\u001b[30m \u001b[0m\u001b[31mหมุน\u001b[0m\u001b[31mแล้ว\u001b[0m\u001b[31m \u001b[0m\u001b[31mหมุน\u001b[0m\u001b[31mอีก\u001b[0m\u001b[31m \u001b[0m\u001b[31mหลุด\u001b[0m\u001b[31mแล้ว\u001b[0m\u001b[31m \u001b[0m\u001b[31mหลุด\u001b[0m\u001b[31mอีก\u001b[0m\u001b[31m \u001b[0m\u001b[31mแย่\u001b[0m\u001b[31mเสมอต้น\u001b[0m\u001b[31mเสมอปลาย\u001b[0m, 0.29 Ans: 0.25 ✓\n",
      "\u001b[31mพัฒนา\u001b[0m\u001b[31m \u001b[0m\u001b[30m4\u001b[0m\u001b[30mG\u001b[0m\u001b[30m \u001b[0m\u001b[30mแล้ว\u001b[0m\u001b[30m \u001b[0m\u001b[30m \u001b[0m\u001b[34m3\u001b[0m\u001b[34mG\u001b[0m\u001b[34m \u001b[0m\u001b[34mก็\u001b[0m\u001b[30mดูแล\u001b[0m\u001b[31mด้วย\u001b[0m\u001b[31m \u001b[0m\u001b[31mไม่\u001b[0m\u001b[31mมี\u001b[0m\u001b[31mใคร\u001b[0m\u001b[31mซื้อ\u001b[0m\u001b[31mมือถือ\u001b[0m\u001b[31mเพื่อ\u001b[0m\u001b[31mตาม\u001b[0m\u001b[31mระบบ\u001b[0m\u001b[31mใหม่\u001b[0m\u001b[31m \u001b[0m\u001b[31mๆ\u001b[0m\u001b[1m\u001b[31m \u001b[0m\u001b[1m\u001b[31mได้\u001b[0m\u001b[1m\u001b[31mตลอด\u001b[0m\u001b[1m\u001b[31mหรอก\u001b[0m\u001b[1m\u001b[31mนะ\u001b[0m, 0.16 Ans: 0.25 ✓\n",
      "\u001b[30mไหล\u001b[0m\u001b[1m\u001b[34mมา\u001b[0m\u001b[30mปรับปรุง\u001b[0m\u001b[31mที่\u001b[0m\u001b[30m \u001b[0m\u001b[31mอ\u001b[0m\u001b[31m.เมืองสมุทรปราการ\u001b[0m\u001b[31mต่อ\u001b[0m\u001b[31mหน่อย\u001b[0m\u001b[31mได้\u001b[0m\u001b[30mไหม\u001b[0m\u001b[30mคะ\u001b[0m\u001b[30m \u001b[0m\u001b[30mบอด\u001b[0m\u001b[31mเลย\u001b[0m\u001b[31mค่ะ\u001b[0m\u001b[30m😓\u001b[0m, 0.49 Ans: 0.25 X\n",
      "\u001b[30mถ้า\u001b[0m\u001b[30mจะ\u001b[0m\u001b[30mซื้อ\u001b[0m\u001b[30mคือ\u001b[0m\u001b[34mต้อง\u001b[0m\u001b[34mจ่าย\u001b[0m\u001b[34mค่า\u001b[0m\u001b[34mเครื่อง\u001b[0m\u001b[34m \u001b[0m\u001b[30m13990\u001b[0m\u001b[30m+\u001b[0m\u001b[30mvat\u001b[0m\u001b[30m7\u001b[0m\u001b[34m%\u001b[0m\u001b[34m+\u001b[0m\u001b[34mล่วงหน้า\u001b[0m\u001b[30mอีก\u001b[0m\u001b[30m1500\u001b[0m\u001b[30m \u001b[0m\u001b[30mแค่\u001b[0m\u001b[30mนี้\u001b[0m\u001b[30mใช่\u001b[0m\u001b[31mมั้ย\u001b[0m\u001b[30mคะ\u001b[0m, 0.51 Ans: 0.75 X\n",
      "\u001b[30mไม่\u001b[0m\u001b[31mมี\u001b[0m\u001b[30mกด\u001b[0m\u001b[30mโค้ท\u001b[0m\u001b[30mค่ะ\u001b[0m\u001b[34m \u001b[0m\u001b[34mกด\u001b[0m\u001b[1m\u001b[34mที่\u001b[0m\u001b[1m\u001b[34mแอพดี\u001b[0m\u001b[1m\u001b[34mแทค\u001b[0m\u001b[1m\u001b[34mแล้ว\u001b[0m\u001b[1m\u001b[34mมัน\u001b[0m\u001b[34mจะ\u001b[0m\u001b[30mขึ้น\u001b[0m\u001b[30mบอก\u001b[0m\u001b[30mให้\u001b[0m\u001b[30mกด\u001b[0m\u001b[30mรับ\u001b[0m\u001b[30mสิทธิ์\u001b[0m\u001b[34mแต่\u001b[0m\u001b[30mมัน\u001b[0m\u001b[30mจะ\u001b[0m\u001b[30mโชว์\u001b[0m\u001b[30mสิทธิ์\u001b[0m\u001b[30mแค่\u001b[0m\u001b[30m30\u001b[0m\u001b[30mนาที\u001b[0m\u001b[30mต้อง\u001b[0m\u001b[31mใช้\u001b[0m\u001b[30mให้\u001b[0m\u001b[31mทัน\u001b[0m\u001b[31mนะ\u001b[0m\u001b[30mคะ\u001b[0m, 0.67 Ans: 0.75 ✓\n",
      "\u001b[34mแร้ว\u001b[0m\u001b[34mถ้า\u001b[0m\u001b[34mเรา\u001b[0m\u001b[34mย้าย\u001b[0m\u001b[30mค่าย\u001b[0m\u001b[30mได้\u001b[0m\u001b[34mเหมือน\u001b[0m\u001b[30mกัน\u001b[0m\u001b[34mไหม\u001b[0m\u001b[34mค่ะ\u001b[0m, 0.64 Ans: 0.75 X\n",
      "Acc: 0.70\n",
      "............................................................................................................................................................\n",
      "Epoch -  17\n",
      "Avg Accuracy (training set): 0.89\n",
      "Accuracy (test set): 0.67\n",
      "====================================\n",
      "Show test result\n",
      "\u001b[30mขอโทษ\u001b[0m\u001b[31mทำไม\u001b[0m\u001b[31mเบอร์\u001b[0m\u001b[31m \u001b[0m\u001b[31m0989064929 \n",
      "\u001b[0m\u001b[31mทำไม\u001b[0m\u001b[31mสมัคร\u001b[0m\u001b[31m \u001b[0m\u001b[31m*\u001b[0m\u001b[30m777\u001b[0m\u001b[30m*\u001b[0m\u001b[30m749\u001b[0m\u001b[30m#\u001b[0m\u001b[31m \u001b[0m\u001b[31mไม่\u001b[0m\u001b[31mได้\u001b[0m\u001b[31mครับ\n",
      "\u001b[0m\u001b[31mช่วย\u001b[0m\u001b[31mดู\u001b[0m\u001b[30mให้\u001b[0m\u001b[30mหน่อย\u001b[0m\u001b[30mครับ\u001b[0m, 0.59 Ans: 0.25 X\n",
      "\u001b[31mราย\u001b[0m\u001b[30mเดือน\u001b[0m\u001b[30mใช้\u001b[0m\u001b[30mมา\u001b[0m\u001b[30mแล้ว\u001b[0m\u001b[34mโปร\u001b[0m\u001b[30m599\u001b[0m\u001b[30mเน๊ต\u001b[0m\u001b[31mโครตกาก\u001b[0m\u001b[31m..\u001b[0m, 0.31 Ans: 0.25 ✓\n",
      "\u001b[30mโถ่วว\u001b[0m\u001b[31mววววว\u001b[0m\u001b[31mๆ\u001b[0m\u001b[31mๆ\u001b[0m\u001b[31mๆ\u001b[0m\u001b[31mๆ\u001b[0m\u001b[31m \u001b[0m\u001b[31mไม่\u001b[0m\u001b[31mอยาก\u001b[0m\u001b[31mจะ\u001b[0m\u001b[31mพูด\u001b[0m, 0.14 Ans: 0.25 ✓\n",
      "\u001b[30m4\u001b[0m\u001b[30mGเขต\u001b[0m\u001b[31mนิคม\u001b[0m\u001b[1m\u001b[31mอุตสาหกรรม\u001b[0m\u001b[1m\u001b[31m \u001b[0m\u001b[1m\u001b[31mลำพูน\u001b[0m\u001b[1m\u001b[31mอย่าง\u001b[0m\u001b[1m\u001b[31mกาก\u001b[0m\u001b[1m\u001b[31m \u001b[0m\u001b[1m\u001b[31mถ้า\u001b[0m\u001b[1m\u001b[31mลง\u001b[0m\u001b[1m\u001b[31mรูป\u001b[0m\u001b[31mได้\u001b[0m\u001b[31mนะ\u001b[0m\u001b[31mจะ\u001b[0m\u001b[31mลง\u001b[0m\u001b[31mให้\u001b[0m\u001b[31mดู\u001b[0m\u001b[31m \u001b[0m\u001b[31mทน\u001b[0m\u001b[31mใช้\u001b[0m\u001b[31mอีก\u001b[0m\u001b[31m2\u001b[0m\u001b[31mเดือน\u001b[0m\u001b[1m\u001b[31m \u001b[0m\u001b[31mบ้าย\u001b[0m\u001b[31mบาย\u001b[0m\u001b[31mละ\u001b[0m, 0.20 Ans: 0.25 ✓\n",
      "\u001b[30mจ่าย\u001b[0m\u001b[30mเงิน\u001b[0m\u001b[30mสด\u001b[0m\u001b[34mไม่\u001b[0m\u001b[34mได้\u001b[0m\u001b[30mเหรอ\u001b[0m\u001b[30mคับ\u001b[0m, 0.65 Ans: 0.75 X\n",
      "\u001b[30mสุขสวัสดิ์\u001b[0m\u001b[30m \u001b[0m\u001b[31m43\u001b[0m\u001b[31m \u001b[0m\u001b[31mท้าย\u001b[0m\u001b[31mซอย\n",
      "สัญญาน\u001b[0m\u001b[31mห่วย\u001b[0m\u001b[31mมาก\u001b[0m\u001b[31mจะ\u001b[0m\u001b[31mย้าย\u001b[0m\u001b[31mค่าย\u001b[0m\u001b[31mอยู่\u001b[0m\u001b[31mล่ะ\n",
      "\u001b[0m\u001b[31mค่าย\u001b[0m\u001b[31mอื่น\u001b[0m\u001b[30mลื่น\u001b[0m\u001b[31mหัว\u001b[0m\u001b[31mแตก\u001b[0m\u001b[1m\u001b[31m \u001b[0m\u001b[1m\u001b[31mเซ็ง\u001b[0m\u001b[1m\u001b[31m \u001b[0m\u001b[31mdtac\u001b[0m\u001b[1m\u001b[31m \u001b[0m\u001b[1m\u001b[31mมาก\u001b[0m\u001b[1m\u001b[31mตอน\u001b[0m\u001b[1m\u001b[31mนี้\u001b[0m, 0.11 Ans: 0.00 ✓\n",
      "\u001b[30mผม\u001b[0m\u001b[30mใข้\u001b[0m\u001b[30m..\u001b[0m\u001b[30mเน็ท\u001b[0m\u001b[34m16\u001b[0m\u001b[34mจิก\u001b[0m\u001b[34m..\u001b[0m\u001b[1m\u001b[34mโทร\u001b[0m\u001b[1m\u001b[34m650\u001b[0m\u001b[1m\u001b[34mนาที\u001b[0m\u001b[1m\u001b[34m..\u001b[0m\u001b[1m\u001b[34mเดือน\u001b[0m\u001b[1m\u001b[34mล่ะ\u001b[0m\u001b[34m550\u001b[0m\u001b[34m..\u001b[0m\u001b[34mผม\u001b[0m\u001b[34mจะ\u001b[0m\u001b[34mซื้อ\u001b[0m\u001b[34mได้\u001b[0m\u001b[30mไหม\u001b[0m\u001b[30mราคา\u001b[0m\u001b[30mนี้\u001b[0m\u001b[30mอ่ะ\u001b[0m\u001b[30m...\u001b[0m, 0.42 Ans: 0.75 X\n",
      "\u001b[30mก็\u001b[0m\u001b[30mไช้\u001b[0m\u001b[30mมา\u001b[0m\u001b[1m\u001b[34mนาน\u001b[0m\u001b[1m\u001b[34mจะ\u001b[0m\u001b[1m\u001b[34mมี\u001b[0m\u001b[1m\u001b[34mปัน\u001b[0m\u001b[1m\u001b[34mหา\u001b[0m\u001b[1m\u001b[34mบ้าง\u001b[0m\u001b[1m\u001b[34mก็\u001b[0m\u001b[34mเล็กน้อย\u001b[0m\u001b[34mคะ\u001b[0m\u001b[1m\u001b[34mแต่\u001b[0m\u001b[1m\u001b[34mก็\u001b[0m\u001b[34mไม่\u001b[0m\u001b[34mคิด\u001b[0m\u001b[30mจะ\u001b[0m\u001b[30mย้าย\u001b[0m\u001b[31mค่าย\u001b[0m\u001b[30mไป\u001b[0m\u001b[30mไหน\u001b[0m\u001b[30mละ\u001b[0m\u001b[34m.\u001b[0m\u001b[1m\u001b[34mเพราะ\u001b[0m\u001b[34mเชื่อ\u001b[0m\u001b[34mขึ้น\u001b[0m\u001b[30mอยู่\u001b[0m\u001b[31mกับ\u001b[0m\u001b[31mความ\u001b[0m\u001b[30mพอใจ\u001b[0m, 0.50 Ans: 1.00 X\n",
      "\u001b[30mเรา\u001b[0m\u001b[1m\u001b[34mรัก\u001b[0m\u001b[1m\u001b[34m \u001b[0m\u001b[1m\u001b[34mdtac\u001b[0m, 0.96 Ans: 0.75 ✓\n",
      "\u001b[30mค่า\u001b[0m\u001b[30mสมัคร\u001b[0m\u001b[34mคิด\u001b[0m\u001b[30mเพิ่ม\u001b[0m\u001b[30mไหม\u001b[0m, 0.56 Ans: 0.75 X\n",
      "Acc: 0.50\n",
      "............................................................................................................................................................\n",
      "Epoch -  18\n",
      "Avg Accuracy (training set): 0.91\n",
      "Accuracy (test set): 0.69\n",
      "====================================\n",
      "Show test result\n",
      "\u001b[30mประเทศ\u001b[0m\u001b[31mพม่ารหัรเลข\u001b[0m\u001b[31mอะไร\u001b[0m, 0.26 Ans: 0.50 X\n",
      "\u001b[30mอย่า\u001b[0m\u001b[30mดีใจ\u001b[0m\u001b[30mไป\u001b[0m\u001b[30m \u001b[0m\u001b[31mมัน\u001b[0m\u001b[31mคือ\u001b[0m\u001b[30mราคา\u001b[0m\u001b[30mผ่อน\u001b[0m\u001b[30mต่อ\u001b[0m\u001b[30mเดือน\u001b[0m\u001b[30mเจ้า\u001b[0m\u001b[30mค่ะ\u001b[0m, 0.48 Ans: 0.50 ✓\n",
      "\u001b[30mอยาก\u001b[0m\u001b[30m \u001b[0m\u001b[30mดู\u001b[0m\u001b[30m \u001b[0m\u001b[30mมาก\u001b[0m\u001b[30m \u001b[0m\u001b[30mVijai\u001b[0m\u001b[30m \u001b[0m\u001b[30mPongpeerayanant\u001b[0m\u001b[31m \u001b[0m\u001b[30m#dtacreward\u001b[0m, 0.54 Ans: 0.75 X\n",
      "\u001b[31mเน็ต\u001b[0m\u001b[1m\u001b[31mกาก\u001b[0m\u001b[1m\u001b[31mมาก\u001b[0m, 0.17 Ans: 0.25 ✓\n",
      "\u001b[31mหลอก\u001b[0m\u001b[31mให้\u001b[0m\u001b[31mสมัคร\u001b[0m\u001b[31mแต่\u001b[0m\u001b[31mหา\u001b[0m\u001b[31mสัญญาน\u001b[0m\u001b[1m\u001b[31mไม่\u001b[0m\u001b[1m\u001b[31mมี\u001b[0m\u001b[31mเลย\u001b[0m\u001b[31mอ่ะ\u001b[0m\u001b[31m..\u001b[0m, 0.21 Ans: 0.25 ✓\n",
      "\u001b[31mตอน\u001b[0m\u001b[31mนี้\u001b[0m\u001b[31mกลับ\u001b[0m\u001b[31mมา\u001b[0m\u001b[31mใช่\u001b[0m\u001b[30mได้\u001b[0m\u001b[30mตาม\u001b[0m\u001b[31mปกติ\u001b[0m, 0.37 Ans: 1.00 X\n",
      "\u001b[30mจะ\u001b[0m\u001b[31mย้าย\u001b[0m\u001b[31mเหมือน\u001b[0m\u001b[31mกัน\u001b[0m\u001b[31m \u001b[0m\u001b[31mโปร\u001b[0m\u001b[31m \u001b[0m\u001b[31mais\u001b[0m\u001b[31m \u001b[0m\u001b[31mห่วย\u001b[0m\u001b[31mกว่า\u001b[0m\u001b[31mเจ้าอื่น\u001b[0m, 0.34 Ans: 0.00 ✓\n",
      "\u001b[30mติด\u001b[0m\u001b[31mโปรหรอ\u001b[0m\u001b[30mเปล่า\u001b[0m\u001b[30mค่ะ\u001b[0m, 0.57 Ans: 0.50 ✓\n",
      "\u001b[31mโม้\u001b[0m\u001b[1m\u001b[31mมาก\u001b[0m\u001b[1m\u001b[31mๆ\u001b[0m\u001b[1m\u001b[31mๆ\u001b[0m\u001b[1m\u001b[31m \u001b[0m\u001b[1m\u001b[31m \u001b[0m\u001b[1m\u001b[31m0877340777\u001b[0m\u001b[1m\u001b[31m \u001b[0m\u001b[1m\u001b[31m \u001b[0m\u001b[1m\u001b[31mดีเเท\u001b[0m\u001b[1m\u001b[31mคน่ะ\u001b[0m\u001b[1m\u001b[31m \u001b[0m\u001b[1m\u001b[31mโม้\u001b[0m\u001b[1m\u001b[31mมาก\u001b[0m\u001b[1m\u001b[31mๆ\u001b[0m, 0.15 Ans: 0.50 X\n",
      "\u001b[30mปรับ\u001b[0m\u001b[31mสัณญาณ\u001b[0m\u001b[31mไม่\u001b[0m\u001b[31mให้\u001b[0m\u001b[31mหล่ม\u001b[0m\u001b[31mก่อน\u001b[0m\u001b[1m\u001b[31mดี\u001b[0m\u001b[1m\u001b[31mใหม\u001b[0m\u001b[31mค่ะ\u001b[0m\u001b[31m \u001b[0m\u001b[31mขนาด\u001b[0m\u001b[31mบ้าน\u001b[0m\u001b[31mอยู่\u001b[0m\u001b[31mใน\u001b[0m\u001b[31mตัวเมือง\u001b[0m\u001b[31m \u001b[0m\u001b[31mใกล้\u001b[0m\u001b[31mกับ\u001b[0m\u001b[31mเสา\u001b[0m\u001b[31mส่ง\u001b[0m\u001b[31mสัณญาณ\u001b[0m\u001b[31mยัง\u001b[0m\u001b[31mหล่ม\u001b[0m\u001b[31mอยู่\u001b[0m\u001b[31mบ่อย\u001b[0m\u001b[31mๆ\u001b[0m\u001b[31m \u001b[0m\u001b[31mเน็ต\u001b[0m\u001b[31mนี้\u001b[0m\u001b[31mหมุน\u001b[0m\u001b[31mแทบ\u001b[0m\u001b[1m\u001b[31mอ๊วก\u001b[0m\u001b[31mเลย\u001b[0m\u001b[1m\u001b[31mคร้าาาา\u001b[0m, 0.19 Ans: 0.25 ✓\n",
      "Acc: 0.60\n",
      "............................................................................................................................................................\n",
      "Epoch -  19\n",
      "Avg Accuracy (training set): 0.91\n"
     ]
    },
    {
     "name": "stdout",
     "output_type": "stream",
     "text": [
      "Accuracy (test set): 0.69\n",
      "====================================\n",
      "Show test result\n",
      "\u001b[30mรู้สึก\u001b[0m\u001b[30mยัง\u001b[0m\u001b[31mแพง\u001b[0m\u001b[31mกว่า\u001b[0m\u001b[31mอยู่ดี\u001b[0m\u001b[31m \u001b[0m\u001b[31mช่วย\u001b[0m\u001b[31mแนะนำ\u001b[0m\u001b[30mวิธี\u001b[0m\u001b[30mย้าย\u001b[0m\u001b[30mค่าย\u001b[0m\u001b[30mหน่อย\u001b[0m\u001b[30mครับ\u001b[0m, 0.46 Ans: 0.12 X\n",
      "\u001b[30mI6\u001b[0m\u001b[34mค่ะ\u001b[0m\u001b[34m \u001b[0m\u001b[34mมี\u001b[0m\u001b[34mโปรอะไร\u001b[0m\u001b[34mบ้าง\u001b[0m, 0.74 Ans: 0.75 ✓\n",
      "\u001b[30mกล่อง\u001b[0m\u001b[34mฟรี\u001b[0m\u001b[34m \u001b[0m\u001b[1m\u001b[34mแล้ว\u001b[0m\u001b[1m\u001b[34mค่า\u001b[0m\u001b[1m\u001b[34mจาน\u001b[0m\u001b[34mเท่า\u001b[0m\u001b[34mไร\u001b[0m\u001b[1m\u001b[34mครับ\u001b[0m\u001b[1m\u001b[34m \u001b[0m\u001b[1m\u001b[34mผม\u001b[0m\u001b[1m\u001b[34mเปิด\u001b[0m\u001b[1m\u001b[34mเบอร์\u001b[0m\u001b[1m\u001b[34mใหม่\u001b[0m\u001b[1m\u001b[34m \u001b[0m\u001b[34mตอบ\u001b[0m\u001b[34mมา\u001b[0m\u001b[34mครับ\u001b[0m, 0.69 Ans: 0.50 X\n",
      "\u001b[31mเน็ต\u001b[0m\u001b[31mก็\u001b[0m\u001b[31mเน่า\u001b[0m\u001b[1m\u001b[31mทุก\u001b[0m\u001b[31mวัน\u001b[0m\u001b[31m \u001b[0m\u001b[31m(\u001b[0m\u001b[31mส่วน\u001b[0m\u001b[30mตัว\u001b[0m\u001b[31mผม\u001b[0m\u001b[31mเอง\u001b[0m\u001b[31mใช้\u001b[0m\u001b[31mดี\u001b[0m\u001b[31mเทด\u001b[0m\u001b[31mอยู่\u001b[0m, 0.29 Ans: 0.00 ✓\n",
      "\u001b[30mA\u001b[0m\u001b[30m37\u001b[0m\u001b[30m \u001b[0m\u001b[30mต้อง\u001b[0m\u001b[34mย้าย\u001b[0m\u001b[30mค่าย\u001b[0m\u001b[30m/\u001b[0m\u001b[30mเปิด\u001b[0m\u001b[34mเบอร์\u001b[0m\u001b[1m\u001b[34mใหม่\u001b[0m\u001b[1m\u001b[34mค่ะ\u001b[0m\u001b[1m\u001b[34m \u001b[0m\u001b[1m\u001b[34mที่\u001b[0m\u001b[1m\u001b[34mต้อง\u001b[0m\u001b[1m\u001b[34mชำระ\u001b[0m\u001b[34mแค่\u001b[0m\u001b[34m1\u001b[0m\u001b[1m\u001b[34m,\u001b[0m\u001b[34m605\u001b[0m\u001b[34mบาท\u001b[0m, 0.63 Ans: 0.75 X\n",
      "\u001b[30mเนตบ้าน\u001b[0m\u001b[30m \u001b[0m\u001b[30mจะ\u001b[0m\u001b[31mหลุด\u001b[0m\u001b[31mไป\u001b[0m\u001b[31mไหน\u001b[0m\u001b[31mนนน\u001b[0m\u001b[31m \u001b[0m\u001b[1m\u001b[31mไม่\u001b[0m\u001b[31mหลุด\u001b[0m\u001b[31mก็\u001b[0m\u001b[1m\u001b[31mช้า\u001b[0m\u001b[31m \u001b[0m\u001b[31mจะ\u001b[0m\u001b[31mทำไร\u001b[0m\u001b[1m\u001b[31mก็\u001b[0m\u001b[31mไม่\u001b[0m\u001b[1m\u001b[31mได้\u001b[0m\u001b[31mทำ\u001b[0m\u001b[31mเซ่ง\u001b[0m\u001b[1m\u001b[31mว่ะ\u001b[0m\u001b[1m\u001b[31m \u001b[0m\u001b[1m\u001b[31mเงิน\u001b[0m\u001b[1m\u001b[31mค่า\u001b[0m\u001b[1m\u001b[31mเน็ต\u001b[0m\u001b[1m\u001b[31mก็\u001b[0m\u001b[1m\u001b[31mจ่าย\u001b[0m\u001b[1m\u001b[31mทุก\u001b[0m\u001b[1m\u001b[31mเดือน\u001b[0m\u001b[1m\u001b[31mไม่\u001b[0m\u001b[1m\u001b[31mเคย\u001b[0m\u001b[1m\u001b[31mขาด\u001b[0m\u001b[1m\u001b[31m \u001b[0m\u001b[31mเป้น\u001b[0m\u001b[31mตั้ง\u001b[0m\u001b[31mเเต่\u001b[0m\u001b[31mบ่าย\u001b[0m\u001b[31mจน\u001b[0m\u001b[31mตอน\u001b[0m\u001b[31mนี้\u001b[0m\u001b[31mไม่\u001b[0m\u001b[31mหลุด\u001b[0m\u001b[31mละเเต่\u001b[0m\u001b[31m \u001b[0m\u001b[31mช้า\u001b[0m\u001b[31mมาก\u001b[0m\u001b[31mๆ\u001b[0m\u001b[31mๆ\u001b[0m\u001b[31mๆ\u001b[0m\u001b[31mๆ\u001b[0m\u001b[31mๆ\u001b[0m\u001b[31mๆ\u001b[0m\u001b[31mๆ\u001b[0m\u001b[31mๆๆๆๆๆๆๆ\u001b[0m\u001b[31mๆ\u001b[0m\u001b[31m \u001b[0m\u001b[31mจ่าย\u001b[0m\u001b[31mไป\u001b[0m\u001b[31mราคา\u001b[0m\u001b[31mเต็ม\u001b[0m\u001b[31mเล่น\u001b[0m\u001b[31mไม่\u001b[0m\u001b[31mคุ้ม\u001b[0m\u001b[31mอ่ะ\u001b[0m\u001b[31m \u001b[0m\u001b[1m\u001b[31mเซง\u001b[0m\u001b[1m\u001b[31mๆ\u001b[0m, 0.19 Ans: 0.25 ✓\n",
      "\u001b[30mผม\u001b[0m\u001b[30mจะ\u001b[0m\u001b[30mเอา\u001b[0m\u001b[30mซิม\u001b[0m\u001b[30mไป\u001b[0m\u001b[30mอัพ\u001b[0m\u001b[30mเป็น\u001b[0m\u001b[30m4G\u001b[0m\u001b[30mที่\u001b[0m\u001b[31mศูนย์\u001b[0m\u001b[30mดี\u001b[0m\u001b[30mแทคมัน\u001b[0m\u001b[30mเสีย\u001b[0m\u001b[31mค่า\u001b[0m\u001b[31mอะไร\u001b[0m\u001b[31mไหม\u001b[0m\u001b[31mครับ\u001b[0m, 0.41 Ans: 0.75 X\n",
      "\u001b[30mวัน\u001b[0m\u001b[30mนี้\u001b[0m\u001b[31mน่า\u001b[0m\u001b[31mให้\u001b[0m\u001b[31mใช้\u001b[0m\u001b[31mเนต\u001b[0m\u001b[31mฟรี\u001b[0m\u001b[30mนะ\u001b[0m\u001b[34mครับ\u001b[0m\u001b[1m\u001b[34m \u001b[0m\u001b[1m\u001b[34mอยาก\u001b[0m\u001b[34mดู\u001b[0m\u001b[34mถ่ายทอด\u001b[0m\u001b[34mขบวน\u001b[0m\u001b[1m\u001b[34mพระศพ\u001b[0m, 0.82 Ans: 0.75 ✓\n",
      "\u001b[30mมี\u001b[0m\u001b[34mขาย\u001b[0m\u001b[34mเหรอ\u001b[0m\u001b[34m \u001b[0m\u001b[34mอยาก\u001b[0m\u001b[34mได้\u001b[0m\u001b[34mค่ะ\u001b[0m, 0.71 Ans: 0.75 ✓\n",
      "\u001b[30mรย้าย\u001b[0m\u001b[31mค่าย\u001b[0m\u001b[31mเหอะ\u001b[0m\u001b[31m \u001b[0m\u001b[31mนโยบาย\u001b[0m\u001b[1m\u001b[31mติงต๋อง\u001b[0m\u001b[1m\u001b[31mต้อง\u001b[0m\u001b[1m\u001b[31mให้\u001b[0m\u001b[1m\u001b[31mบัตร\u001b[0m\u001b[31mตัว\u001b[0m\u001b[30mจิง\u001b[0m\u001b[30m \u001b[0m\u001b[30mGoodbye\u001b[0m\u001b[30m \u001b[0m\u001b[30mTRUE\u001b[0m\u001b[30m \u001b[0m\u001b[31mMove\u001b[0m\u001b[30mH\u001b[0m\u001b[30m \u001b[0m\u001b[30m#GBT\u001b[0m\u001b[30mMH\u001b[0m, 0.40 Ans: 0.25 ✓\n",
      "Acc: 0.60\n",
      "............................................................................................................................................................\n",
      "Epoch -  20\n",
      "Avg Accuracy (training set): 0.92\n",
      "Accuracy (test set): 0.69\n",
      "====================================\n",
      "Show test result\n",
      "\u001b[30mสามารถ\u001b[0m\u001b[34mกด\u001b[0m\u001b[34m \u001b[0m\u001b[1m\u001b[34mทาง\u001b[0m\u001b[34mลัด\u001b[0m\u001b[34mได้\u001b[0m\u001b[34mมัย\u001b[0m\u001b[34mค่ะ\u001b[0m, 0.77 Ans: 0.50 X\n",
      "\u001b[30mเมื่อ\u001b[0m\u001b[30mวาน\u001b[0m\u001b[31mก็\u001b[0m\u001b[31mยัง\u001b[0m\u001b[31mห่วย\u001b[0m\u001b[31m...\u001b[0m\u001b[31mเด๋วพรุ่ง\u001b[0m\u001b[31mนี้\u001b[0m\u001b[31mจะ\u001b[0m\u001b[31mขอ\u001b[0m\u001b[31mลา\u001b[0m\u001b[31m \u001b[0m\u001b[31mย้าย\u001b[0m\u001b[31mค่าย\u001b[0m\u001b[31mแล้ว\u001b[0m\u001b[1m\u001b[31mครับ\u001b[0m\u001b[31m...\n",
      "\n",
      "\u001b[0m\u001b[31mเมื่อ\u001b[0m\u001b[1m\u001b[31mวาน\u001b[0m\u001b[1m\u001b[31mก็\u001b[0m\u001b[31mที่\u001b[0m\u001b[31mรังสิต\u001b[0m\u001b[31m \u001b[0m\u001b[31mผม\u001b[0m\u001b[31mใช้\u001b[0m\u001b[31mทำ\u001b[0m\u001b[31mงาน\u001b[0m\u001b[1m\u001b[31mไม่\u001b[0m\u001b[1m\u001b[31mได้\u001b[0m\u001b[31mเลย\u001b[0m\u001b[1m\u001b[31m \u001b[0m\u001b[1m\u001b[31mต้อง\u001b[0m\u001b[31mยืม\u001b[0m\u001b[31mของ\u001b[0m\u001b[31mเพื่อน\u001b[0m\u001b[31mที่\u001b[0m\u001b[31mเป็น\u001b[0m\u001b[31m \u001b[0m\u001b[31mAis\u001b[0m\u001b[31m \u001b[0m\u001b[1m\u001b[31mมา\u001b[0m\u001b[31mทำ\u001b[0m\u001b[1m\u001b[31mงาน\u001b[0m\u001b[1m\u001b[31m \u001b[0m\u001b[1m\u001b[31mผม\u001b[0m\u001b[1m\u001b[31mจ่าย\u001b[0m\u001b[1m\u001b[31mเดือน\u001b[0m\u001b[1m\u001b[31mละ\u001b[0m\u001b[1m\u001b[31m \u001b[0m\u001b[31m2\u001b[0m\u001b[1m\u001b[31m,\u001b[0m\u001b[1m\u001b[31m000\u001b[0m\u001b[1m\u001b[31m \u001b[0m\u001b[1m\u001b[31mทุก\u001b[0m\u001b[1m\u001b[31mเดือน\u001b[0m\u001b[1m\u001b[31m \u001b[0m\u001b[1m\u001b[31mผิด\u001b[0m\u001b[1m\u001b[31mหวัง\u001b[0m\u001b[1m\u001b[31mครับ\u001b[0m, 0.08 Ans: 0.25 ✓\n",
      "\u001b[1m\u001b[34mลื่น\u001b[0m\u001b[34mตรง\u001b[0m\u001b[31mไหน\u001b[0m\u001b[31mค่ะ\u001b[0m\u001b[31m \u001b[0m\u001b[1m\u001b[31mกาก\u001b[0m\u001b[1m\u001b[31mมาก\u001b[0m\u001b[1m\u001b[31mตอน\u001b[0m\u001b[31mนี้\u001b[0m\u001b[31m \u001b[0m\u001b[31mแถบ\u001b[0m\u001b[31mสัญญาณ\u001b[0m\u001b[1m\u001b[31m \u001b[0m\u001b[1m\u001b[31m4\u001b[0m\u001b[31mG\u001b[0m\u001b[31m \u001b[0m\u001b[31mไม่\u001b[0m\u001b[31mเคย\u001b[0m\u001b[31mขึ้น\u001b[0m\u001b[31mเต็ม\u001b[0m\u001b[1m\u001b[31mสัก\u001b[0m\u001b[31mวัน\u001b[0m\u001b[31mเดียว\u001b[0m\u001b[1m\u001b[31m \u001b[0m\u001b[31m😠😠\u001b[0m, 0.24 Ans: 0.25 ✓\n",
      "\u001b[30mแบ็ต\u001b[0m\u001b[31mหมด\u001b[0m\u001b[31mเร็ว\u001b[0m\u001b[31mมาก\u001b[0m\u001b[30mๆ\u001b[0m\u001b[30mๆ\u001b[0m\u001b[30mๆ\u001b[0m, 0.84 Ans: 0.25 X\n",
      "\u001b[30mด้วย\u001b[0m\u001b[30mความ\u001b[0m\u001b[30mยินดี\u001b[0m\u001b[30mครับ\u001b[0m\u001b[30mที\u001b[0m\u001b[31mจะ\u001b[0m\u001b[31mรวม\u001b[0m\u001b[31mงาน\u001b[0m, 0.42 Ans: 0.75 X\n",
      "\u001b[30mวัน\u001b[0m\u001b[34mนี้\u001b[0m\u001b[34mสัญญาน\u001b[0m\u001b[34mมี\u001b[0m\u001b[30mปัญหา\u001b[0m\u001b[30mป่ะ\u001b[0m\u001b[30mครับ\u001b[0m\u001b[30m \u001b[0m\u001b[30mทำไม\u001b[0m\u001b[30mเน็ต\u001b[0m\u001b[31mช้าจัง\u001b[0m\u001b[31m \u001b[0m\u001b[31mใช้\u001b[0m\u001b[31mโปร\u001b[0m\u001b[31m \u001b[0m\u001b[31m512\u001b[0m\u001b[31m \u001b[0m\u001b[31mไม่\u001b[0m\u001b[31mลดสปีด\u001b[0m\u001b[31mวัน\u001b[0m\u001b[31mล้ะ\u001b[0m\u001b[31m \u001b[0m\u001b[31m22\u001b[0m\u001b[31m \u001b[0m\u001b[31mบาท\u001b[0m\u001b[30mอ้ะ\u001b[0m\u001b[30mครับ\u001b[0m\u001b[30m \u001b[0m\u001b[31mช้า\u001b[0m\u001b[31mมาก\u001b[0m\u001b[31mๆ\u001b[0m\u001b[31mๆ\u001b[0m\u001b[31m \u001b[0m\u001b[31m\n",
      "\u001b[0m\u001b[31m#\u001b[0m\u001b[31mใคร\u001b[0m\u001b[31mเป็น\u001b[0m\u001b[31mบ้าง\u001b[0m, 0.34 Ans: 0.25 ✓\n",
      "\u001b[30mขอ\u001b[0m\u001b[30mถาม\u001b[0m\u001b[30m.\u001b[0m\u001b[30m \u001b[0m\u001b[30mถ้า\u001b[0m\u001b[30mผม\u001b[0m\u001b[30mใช้\u001b[0m\u001b[30mais\u001b[0m\u001b[30m \u001b[0m\u001b[30mแบบ\u001b[0m\u001b[34mเติม\u001b[0m\u001b[34mเงิน\u001b[0m\u001b[34mอยาก\u001b[0m\u001b[30mได้\u001b[0m\u001b[34mเครื่อง\u001b[0m\u001b[34m \u001b[0m\u001b[1m\u001b[34mM\u001b[0m\u001b[1m\u001b[34m2\u001b[0m\u001b[1m\u001b[34m \u001b[0m\u001b[1m\u001b[34mยา้ย\u001b[0m\u001b[34mค่าย\u001b[0m\u001b[34m \u001b[0m\u001b[34m \u001b[0m\u001b[34mจะ\u001b[0m\u001b[34mได้\u001b[0m\u001b[34mไหม\u001b[0m\u001b[34m \u001b[0m\u001b[34mแล้ว\u001b[0m\u001b[34mต้อง\u001b[0m\u001b[34mเตรียม\u001b[0m\u001b[34mเงิน\u001b[0m\u001b[34mไป\u001b[0m\u001b[34mเท่า\u001b[0m\u001b[34mไหร่\u001b[0m\u001b[34m \u001b[0m\u001b[34mถึง\u001b[0m\u001b[34mได้\u001b[0m\u001b[34mมา\u001b[0m\u001b[34mใช้\u001b[0m, 0.66 Ans: 0.75 ✓\n",
      "\u001b[30mใช่\u001b[0m\u001b[30mเลย\u001b[0m\u001b[30mค่ะ\u001b[0m\u001b[34m \u001b[0m\u001b[1m\u001b[34mdtac\u001b[0m\u001b[1m\u001b[34m \u001b[0m\u001b[34mเน็ต\u001b[0m\u001b[1m\u001b[34m \u001b[0m\u001b[1m\u001b[34mประหยัด\u001b[0m\u001b[1m\u001b[34mมาก\u001b[0m\u001b[1m\u001b[34mๆ\u001b[0m\u001b[1m\u001b[34mๆ\u001b[0m\u001b[1m\u001b[34mเลย\u001b[0m\u001b[1m\u001b[34mค่ะ\u001b[0m, 0.90 Ans: 0.88 ✓\n",
      "\u001b[34mผม\u001b[0m\u001b[34mเดินทาง\u001b[0m\u001b[34mตลอด\u001b[0m\u001b[34mภาค\u001b[0m\u001b[34mเหนือ\u001b[0m\u001b[34mตอน\u001b[0m\u001b[1m\u001b[34mบน\u001b[0m\u001b[1m\u001b[34m \u001b[0m\u001b[34mส่ง\u001b[0m\u001b[30mข้อความ\u001b[0m\u001b[30m+\u001b[0m\u001b[30mรูปทาง\u001b[0m\u001b[30m \u001b[0m\u001b[30mline\u001b[0m\u001b[30m \u001b[0m\u001b[30mตลอด\u001b[0m\u001b[31m \u001b[0m\u001b[31mเอาเป็นว่า\u001b[0m\u001b[31m \u001b[0m\u001b[30mtrue\u001b[0m\u001b[30m \u001b[0m\u001b[31mส่ง\u001b[0m\u001b[31mงาน\u001b[0m\u001b[31mไว\u001b[0m\u001b[31mสุด\u001b[0m\u001b[31m \u001b[0m\u001b[31mais\u001b[0m\u001b[30m \u001b[0m\u001b[30mdtac\u001b[0m\u001b[30m \u001b[0m\u001b[34mส่ง\u001b[0m\u001b[30mข้อความ\u001b[0m\u001b[30mไป\u001b[0m\u001b[30m \u001b[0m\u001b[30mส่ง\u001b[0m\u001b[31mรูป\u001b[0m\u001b[31m \u001b[0m\u001b[31mหมุน\u001b[0m\u001b[31mติ้ว\u001b[0m\u001b[31mๆ\u001b[0m\u001b[31mๆ\u001b[0m\u001b[31mๆ\u001b[0m\u001b[31mๆ\u001b[0m\u001b[31mๆ\u001b[0m\u001b[31mๆ\u001b[0m\u001b[31mๆ\u001b[0m\u001b[31mๆ\u001b[0m\u001b[31mๆ \u001b[0m\u001b[31mอืด\u001b[0m\u001b[31mๆ\u001b[0m\u001b[31mๆ\u001b[0m\u001b[31mๆ\u001b[0m\u001b[31m \u001b[0m\u001b[31mกว่า\u001b[0m\u001b[31mจะ\u001b[0m\u001b[31mไป\u001b[0m\u001b[1m\u001b[31mแต่ละ\u001b[0m\u001b[31mรูป\u001b[0m\u001b[31m \u001b[0m\u001b[1m\u001b[31m55555\u001b[0m\u001b[1m\u001b[31m \u001b[0m\u001b[1m\u001b[31mถะถถถถถถถ\u001b[0m, 0.21 Ans: 0.50 X\n",
      "\u001b[31mกาก\u001b[0m\u001b[1m\u001b[31mกกกกกก\u001b[0m\u001b[1m\u001b[31mมาก\u001b[0m\u001b[1m\u001b[31m \u001b[0m\u001b[1m\u001b[31mDtac\u001b[0m, 0.26 Ans: 0.00 ✓\n",
      "Acc: 0.60\n",
      "............................................................................................................................................................\n",
      "Epoch -  21\n",
      "Avg Accuracy (training set): 0.92\n",
      "Accuracy (test set): 0.69\n",
      "====================================\n",
      "Show test result\n",
      "\u001b[31mสัญญาณ\u001b[0m\u001b[1m\u001b[34mชอบ\u001b[0m\u001b[1m\u001b[34mขาด\u001b[0m\u001b[1m\u001b[34mๆ\u001b[0m\u001b[34mหาย\u001b[0m\u001b[31mๆ\u001b[0m\u001b[31mตลอดๆ\u001b[0m, 0.32 Ans: 0.25 ✓\n",
      "\u001b[1m\u001b[34mราคา\u001b[0m\u001b[34mรับ\u001b[0m\u001b[34mซื้อ\u001b[0m\u001b[34mขนาด\u001b[0m\u001b[30mนี้\u001b[0m\u001b[30m \u001b[0m\u001b[30m \u001b[0m\u001b[30mรีบ\u001b[0m\u001b[31mเลย\u001b[0m\u001b[31mครับ\n",
      "\n",
      "\u001b[0m\u001b[30mรีบ\u001b[0m\u001b[31mเก็บ\u001b[0m\u001b[31mไว้\u001b[0m\u001b[31mให้\u001b[0m\u001b[31mลูก\u001b[0m\u001b[31mเล่น\u001b[0m\u001b[31mแล้ว\u001b[0m\u001b[31mกัน\u001b[0m, 0.26 Ans: 0.75 X\n",
      "\u001b[30mถ้า\u001b[0m\u001b[30mสั่ง\u001b[0m\u001b[30mเครื่อง\u001b[0m\u001b[30m \u001b[0m\u001b[30mแล้ว\u001b[0m\u001b[30mเก็บ\u001b[0m\u001b[30mเงิน\u001b[0m\u001b[30mปลาย\u001b[0m\u001b[30mทาง\u001b[0m\u001b[30m \u001b[0m\u001b[30mหาก\u001b[0m\u001b[30mเครื่อง\u001b[0m\u001b[30mมี\u001b[0m\u001b[31mปัญหา\u001b[0m\u001b[31m \u001b[0m\u001b[31mสามารถ\u001b[0m\u001b[31mส่ง\u001b[0m\u001b[31mคืน\u001b[0m\u001b[30mได้\u001b[0m\u001b[30mเลย\u001b[0m\u001b[30mไหม\u001b[0m\u001b[30mคะ\u001b[0m\u001b[30m \u001b[0m\u001b[30mแล้ว\u001b[0m\u001b[30mมี\u001b[0m\u001b[30mประกัน\u001b[0m\u001b[30mเหมือน\u001b[0m\u001b[30mซื้อ\u001b[0m\u001b[30mหน้า\u001b[0m\u001b[30mร้าน\u001b[0m\u001b[34mไหม\u001b[0m\u001b[34mคะ\u001b[0m, 0.71 Ans: 0.50 X\n",
      "\u001b[30mดู\u001b[0m\u001b[31mสิบ\u001b[0m\u001b[31mหมอ\u001b[0m\u001b[31mไม่\u001b[0m\u001b[31mเหมือน\u001b[0m\u001b[31mกัน\u001b[0m\u001b[31mสัก\u001b[0m\u001b[31mหมอ\u001b[0m\u001b[31mอะไร\u001b[0m\u001b[31mก็\u001b[0m\u001b[31mไม่\u001b[0m\u001b[31mดี\u001b[0m\u001b[31mสรุป\u001b[0m\u001b[31mต้อง\u001b[0m\u001b[31mซื้อ\u001b[0m\u001b[1m\u001b[31mเบอร์\u001b[0m\u001b[1m\u001b[31mที่\u001b[0m\u001b[31mหมอ\u001b[0m\u001b[31mดู\u001b[0m\u001b[31mใช่\u001b[0m\u001b[31mไหม\u001b[0m\u001b[31mถึง\u001b[0m\u001b[31mจะ\u001b[0m\u001b[31mดี\u001b[0m, 0.34 Ans: 0.75 X\n",
      "\u001b[30mถ้า\u001b[0m\u001b[30mจะ\u001b[0m\u001b[30mเอา\u001b[0m\u001b[30m5s\u001b[0m\u001b[30mไป\u001b[0m\u001b[30mอัพ\u001b[0m\u001b[31mเป็น\u001b[0m\u001b[30m6\u001b[0m\u001b[30mต้อง\u001b[0m\u001b[30mเพิ่ม\u001b[0m\u001b[34mเงิน\u001b[0m\u001b[1m\u001b[34mเท่า\u001b[0m\u001b[1m\u001b[34mไหร่\u001b[0m\u001b[1m\u001b[34mครับ\u001b[0m, 0.80 Ans: 0.75 ✓\n",
      "\u001b[31mห่วย\u001b[0m\u001b[31mขั้นเทพจ้า\u001b[0m\u001b[31m \u001b[0m\u001b[31mเล่น\u001b[0m\u001b[31mเฟส\u001b[0m\u001b[31mยัง\u001b[0m\u001b[31mเล่น\u001b[0m\u001b[1m\u001b[31mไม่\u001b[0m\u001b[1m\u001b[31mได้\u001b[0m\u001b[31mเลย\u001b[0m\u001b[31m \u001b[0m\u001b[1m\u001b[31mต้อง\u001b[0m\u001b[31mรอ\u001b[0m\u001b[31m \u001b[0m\u001b[31mรอ\u001b[0m\u001b[31mทั้ง\u001b[0m\u001b[31mวัน\u001b[0m\u001b[1m\u001b[31m \u001b[0m\u001b[1m\u001b[31mสังสัย\u001b[0m\u001b[1m\u001b[31mจะ\u001b[0m\u001b[1m\u001b[31mได้\u001b[0m\u001b[1m\u001b[31mย้าย\u001b[0m\u001b[1m\u001b[31mค่าย\u001b[0m\u001b[31mแล้ว\u001b[0m\u001b[1m\u001b[31mจริง\u001b[0m\u001b[1m\u001b[31mๆ\u001b[0m, 0.15 Ans: 0.25 ✓\n",
      "\u001b[1m\u001b[34mเยี่ยม\u001b[0m\u001b[1m\u001b[34mเลย\u001b[0m\u001b[1m\u001b[34mนะ\u001b[0m\u001b[1m\u001b[34mทรู\u001b[0m\u001b[1m\u001b[34mโปร\u001b[0m\u001b[1m\u001b[34m4mbนี่\u001b[0m\u001b[1m\u001b[34mแจ่ม\u001b[0m\u001b[1m\u001b[34mมาก\u001b[0m, 0.98 Ans: 1.00 ✓\n",
      "\u001b[30mใช้\u001b[0m\u001b[30mมา\u001b[0m\u001b[30mจะ\u001b[0m\u001b[34m5\u001b[0m\u001b[34mปี\u001b[0m\u001b[34mราย\u001b[0m\u001b[34mเดือน\u001b[0m\u001b[34m \u001b[0m\u001b[34mค่า\u001b[0m\u001b[34mบริการ\u001b[0m\u001b[34m \u001b[0m\u001b[34mมา\u001b[0m\u001b[31mสูง\u001b[0m\u001b[31mงงงง\u001b[0m\u001b[31mตลอด\u001b[0m\u001b[31m \u001b[0m\u001b[31mทั้งๆที่\u001b[0m\u001b[31mใช้\u001b[0m\u001b[31mโปร\u001b[0m\u001b[31m990\u001b[0m\u001b[31m฿\u001b[0m\u001b[30m \u001b[0m\u001b[30mแล้ว\u001b[0m\u001b[30m \u001b[0m\u001b[30mรอบ\u001b[0m\u001b[30mบิล\u001b[0m\u001b[30mสอง\u001b[0m\u001b[31mพัน\u001b[0m\u001b[31mกว่า\u001b[0m\u001b[30mบาท\u001b[0m\u001b[30mตลอด\u001b[0m\u001b[31mคือ\u001b[0m\u001b[30mอารายยย\u001b[0m\u001b[31m?\u001b[0m\u001b[31m?\u001b[0m\u001b[31m?\u001b[0m, 0.32 Ans: 0.25 ✓\n",
      "\u001b[30mมี\u001b[0m\u001b[30mเครื่อง\u001b[0m\u001b[30mไหน\u001b[0m\u001b[30mที่\u001b[0m\u001b[30mเปลี่ยน\u001b[0m\u001b[30mจาก\u001b[0m\u001b[30mเติม\u001b[0m\u001b[34mเงิน\u001b[0m\u001b[30mเปน\u001b[0m\u001b[30mราย\u001b[0m\u001b[34mเดื่อนละ\u001b[0m\u001b[34mรับ\u001b[0m\u001b[34mเครื่อง\u001b[0m\u001b[34mฟรี\u001b[0m\u001b[34mมัง\u001b[0m\u001b[34mครับ\u001b[0m, 0.70 Ans: 0.75 ✓\n",
      "\u001b[34mโปรนี้\u001b[0m\u001b[34mมี\u001b[0m\u001b[34m \u001b[0m\u001b[34mผ่อน\u001b[0m\u001b[34m \u001b[0m\u001b[34m10\u001b[0m\u001b[34m \u001b[0m\u001b[34mเดือน\u001b[0m\u001b[34mไหม\n",
      "ื\u001b[0m, 0.71 Ans: 0.75 ✓\n",
      "Acc: 0.70\n"
     ]
    },
    {
     "name": "stdout",
     "output_type": "stream",
     "text": [
      "............................................................................................................................................................\n",
      "Epoch -  22\n",
      "Avg Accuracy (training set): 0.92\n",
      "Accuracy (test set): 0.66\n",
      "====================================\n",
      "Show test result\n",
      "\u001b[30mไม่\u001b[0m\u001b[31mเห็น\u001b[0m\u001b[30mลื่น\u001b[0m\u001b[31mเลย\u001b[0m, 0.40 Ans: 0.25 ✓\n",
      "\u001b[30mถ้า\u001b[0m\u001b[30mจะ\u001b[0m\u001b[30mแลก\u001b[0m\u001b[34mซื้อ\u001b[0m\u001b[34m \u001b[0m\u001b[34mเจ\u001b[0m\u001b[1m\u001b[34m2\u001b[0m\u001b[34m \u001b[0m\u001b[34mต้อง\u001b[0m\u001b[34mเสีย\u001b[0m\u001b[30mเท่า\u001b[0m\u001b[34mไร\u001b[0m\u001b[34mค้ะ\u001b[0m, 0.63 Ans: 0.75 X\n",
      "\u001b[30mไป\u001b[0m\u001b[31mเปลี่ยน\u001b[0m\u001b[30mเป็น\u001b[0m\u001b[30mเติม\u001b[0m\u001b[30mเงิน\u001b[0m\u001b[30mมา\u001b[0m\u001b[30mแล้ว\u001b[0m\u001b[30mคับ\u001b[0m\u001b[30m \u001b[0m\u001b[30mซุก\u001b[0m\u001b[31mยอด\u001b[0m\u001b[31m \u001b[0m\u001b[30mจ่าย\u001b[0m\u001b[30mตาม\u001b[0m\u001b[30mแอ้พ\u001b[0m\u001b[30mแล้ว\u001b[0m\u001b[30mยัง\u001b[0m\u001b[34mมี\u001b[0m\u001b[34mยอด\u001b[0m\u001b[30mค้าง\u001b[0m\u001b[30m \u001b[0m\u001b[30mโปร\u001b[0m\u001b[30m \u001b[0m\u001b[30m299\u001b[0m\u001b[30m \u001b[0m\u001b[30mจ่าย\u001b[0m\u001b[30mจริง\u001b[0m\u001b[30m \u001b[0m\u001b[30m4\u001b[0m\u001b[30mxx\u001b[0m\u001b[30m \u001b[0m\u001b[30mคือ\u001b[0m\u001b[30mไร\u001b[0m\u001b[30mคับ\u001b[0m, 0.52 Ans: 0.25 X\n",
      "\u001b[34mแน่ใจ\u001b[0m\u001b[30mว่า\u001b[0m\u001b[30mดี\u001b[0m\u001b[30mแล้ว\u001b[0m\u001b[30mหรอ\u001b[0m\u001b[30m?\u001b[0m\u001b[31m?\u001b[0m\u001b[31m?\u001b[0m\u001b[31m \u001b[0m\u001b[31mสมัคร\u001b[0m\u001b[31mแบบ\u001b[0m\u001b[31mราย\u001b[0m\u001b[30mเดือน\u001b[0m\u001b[30m4\u001b[0m\u001b[30m \u001b[0m\u001b[30mร้อย\u001b[0m\u001b[31mกว่า\u001b[0m\u001b[31mบาท\u001b[0m\u001b[31mทท\u001b[0m\u001b[31m \u001b[0m\u001b[31mตอน\u001b[0m\u001b[31mนี้\u001b[0m\u001b[31mทำ\u001b[0m\u001b[31mเหี้ยใร\u001b[0m\u001b[31mได้\u001b[0m\u001b[31m \u001b[0m\u001b[31mนอก\u001b[0m\u001b[31mจาก\u001b[0m\u001b[31m \u001b[0m\u001b[30mตอบ\u001b[0m\u001b[30mเเชตเฟสไลน์\u001b[0m\u001b[31m \u001b[0m\u001b[31mโพสรุป\u001b[0m\u001b[31m \u001b[0m\u001b[31mดู\u001b[0m\u001b[31mอะไร\u001b[0m\u001b[31mที่\u001b[0m\u001b[31mเป็น\u001b[0m\u001b[31mวิดีโอ\u001b[0m\u001b[31mไม่\u001b[0m\u001b[31mได้\u001b[0m\u001b[31mเลย\u001b[0m\u001b[31mยย\u001b[0m\u001b[31m \u001b[0m\u001b[31mอย่า\u001b[0m\u001b[31mเสีย\u001b[0m\u001b[31mเวลา\u001b[0m\u001b[31mมา\u001b[0m\u001b[31mโฆษณา\u001b[0m\u001b[31mเลย\u001b[0m\u001b[31mจ้าาา\u001b[0m, 0.30 Ans: 0.00 ✓\n",
      "\u001b[30mเก็ย\u001b[0m\u001b[30mค่า\u001b[0m\u001b[30mบริการ\u001b[0m\u001b[30m \u001b[0m\u001b[30mซำ้แล้ว\u001b[0m\u001b[34mซำ้\u001b[0m\u001b[34mอีก\u001b[0m\u001b[30m \u001b[0m\u001b[30mโทร\u001b[0m\u001b[30mมา\u001b[0m\u001b[30mทวง\u001b[0m\u001b[31m \u001b[0m\u001b[30mก็\u001b[0m\u001b[31mแจ้ง\u001b[0m\u001b[31mให้\u001b[0m\u001b[31mทราบ\u001b[0m\u001b[30mแล้ว\u001b[0m\u001b[30mว่า\u001b[0m\u001b[30mเดือน\u001b[0m\u001b[30mที่\u001b[0m\u001b[30mแล้ว\u001b[0m\u001b[30mจ่าย\u001b[0m\u001b[30mแล้ว\u001b[0m\u001b[30mมี\u001b[0m\u001b[34mใบ\u001b[0m\u001b[34mเสร็จ\u001b[0m\u001b[34mรับ\u001b[0m\u001b[1m\u001b[34mเงิน\u001b[0m\u001b[34mด้วย\u001b[0m\u001b[30m \u001b[0m\u001b[34mยัง\u001b[0m\u001b[34mมี\u001b[0m\u001b[34mหน้า\u001b[0m\u001b[34mมา\u001b[0m\u001b[34mบอก\u001b[0m\u001b[34mว่า\u001b[0m\u001b[30mจะ\u001b[0m\u001b[30mลด\u001b[0m\u001b[30mให้\u001b[0m\u001b[30m \u001b[0m\u001b[30mไม่\u001b[0m\u001b[31mฟ้อง\u001b[0m\u001b[31m \u001b[0m\u001b[31mกสทช\u001b[0m\u001b[1m\u001b[31m \u001b[0m\u001b[31mก็\u001b[0m\u001b[31mบุญ\u001b[0m\u001b[31mหัว\u001b[0m\u001b[1m\u001b[31mแล้ว\u001b[0m\u001b[31mยัง\u001b[0m\u001b[31mมา\u001b[0m\u001b[31mระงับ\u001b[0m\u001b[31mโทร\u001b[0m\u001b[31mออก\u001b[0m\u001b[31mอีก\u001b[0m\u001b[31m \u001b[0m\u001b[31mเดียว\u001b[0m\u001b[31mว่าง\u001b[0m\u001b[31mเจอ\u001b[0m\u001b[31mกัน\u001b[0m\u001b[31mที่\u001b[0m\u001b[31m \u001b[0m\u001b[31mกสทช\u001b[0m\u001b[31m \u001b[0m\u001b[31mนะ\u001b[0m\u001b[31m \u001b[0m\u001b[31mdtac\u001b[0m\u001b[31m \u001b[0m\u001b[31mเก็บ\u001b[0m\u001b[31mบิล\u001b[0m\u001b[31mมั่ว\u001b[0m, 0.31 Ans: 0.25 ✓\n",
      "\u001b[30mเปิด\u001b[0m\u001b[30mได้\u001b[0m\u001b[30mทุก\u001b[0m\u001b[34mที่\u001b[0m\u001b[34mพอ\u001b[0m\u001b[30mปิด\u001b[0m\u001b[30mไม่\u001b[0m\u001b[31mมี\u001b[0m\u001b[31mที่\u001b[0m\u001b[31mให้\u001b[0m\u001b[31mปิด\u001b[0m\u001b[31mใช้\u001b[0m\u001b[31mมา\u001b[0m\u001b[31m7\u001b[0m\u001b[30mปี\u001b[0m\u001b[30m \u001b[0m\u001b[30mให้\u001b[0m\u001b[31mเข้า\u001b[0m\u001b[31mศูน\u001b[0m\u001b[31mใหญ่\u001b[0m\u001b[30mอย่าง\u001b[0m\u001b[30mเดียว\u001b[0m\u001b[30mโอ้ย\u001b[0m, 0.52 Ans: 0.25 X\n",
      "\u001b[30mช่วย\u001b[0m\u001b[30mตอบ\u001b[0m\u001b[30mใน\u001b[0m\u001b[31m \u001b[0m\u001b[31minbox\u001b[0m\u001b[31m \u001b[0m\u001b[31mด้วย\u001b[0m\u001b[31mครับ\u001b[0m, 0.49 Ans: 0.50 ✓\n",
      "\u001b[31mครอบคลุม\u001b[0m\u001b[31m \u001b[0m\u001b[1m\u001b[31mถุย\u001b[0m, 0.11 Ans: 0.00 ✓\n",
      "\u001b[34mแถว\u001b[0m\u001b[30mบ้าน\u001b[0m\u001b[30mผม\u001b[0m\u001b[31mมัน\u001b[0m\u001b[31mคง\u001b[0m\u001b[31mไม่\u001b[0m\u001b[31mลื่น\u001b[0m\u001b[31mครับ\u001b[0m, 0.45 Ans: 0.25 ✓\n",
      "\u001b[30mปทุมธานี\u001b[0m\u001b[31m \u001b[0m\u001b[30m \u001b[0m\u001b[34mไม่ว่า\u001b[0m\u001b[30mจะ\u001b[0m\u001b[30mเน็ต\u001b[0m\u001b[31mแรง\u001b[0m\u001b[31mแค่\u001b[0m\u001b[31mไหน\u001b[0m\u001b[31mจะ\u001b[0m\u001b[31mกี่\u001b[0m\u001b[31mบาท\u001b[0m\u001b[31mกี่\u001b[0m\u001b[31mสตางค์\u001b[0m\u001b[31m \u001b[0m\u001b[30mยัง\u001b[0m\u001b[30mไง\u001b[0m\u001b[30mก็\u001b[0m\u001b[30mขึ้น\u001b[0m\u001b[30m \u001b[0m\u001b[31mE\u001b[0m\u001b[31m \u001b[0m\u001b[31mครับ\u001b[0m\u001b[31m \u001b[0m\u001b[31mขนาด\u001b[0m\u001b[31mพื้นที่\u001b[0m\u001b[31mติด\u001b[0m\u001b[31m'\u001b[0m\u001b[1m\u001b[31mปาก\u001b[0m\u001b[1m\u001b[31mเกร็ด\u001b[0m\u001b[1m\u001b[31m'\u001b[0m\u001b[1m\u001b[31m \u001b[0m\u001b[1m\u001b[31mแท้ๆ\u001b[0m\u001b[1m\u001b[31m \u001b[0m\u001b[1m\u001b[31mเห้อ\u001b[0m, 0.05 Ans: 0.25 ✓\n",
      "Acc: 0.70\n",
      "............................................................................................................................................................\n",
      "Epoch -  23\n",
      "Avg Accuracy (training set): 0.92\n",
      "Accuracy (test set): 0.69\n",
      "====================================\n",
      "Show test result\n",
      "\u001b[30mไป\u001b[0m\u001b[30mเปลี่ยน\u001b[0m\u001b[30mเป็น\u001b[0m\u001b[30mเติม\u001b[0m\u001b[30mเงิน\u001b[0m\u001b[30mมา\u001b[0m\u001b[30mแล้ว\u001b[0m\u001b[30mคับ\u001b[0m\u001b[30m \u001b[0m\u001b[34mซุก\u001b[0m\u001b[34mยอด\u001b[0m\u001b[34m \u001b[0m\u001b[34mจ่าย\u001b[0m\u001b[34mตาม\u001b[0m\u001b[34mแอ้พ\u001b[0m\u001b[30mแล้ว\u001b[0m\u001b[30mยัง\u001b[0m\u001b[30mมี\u001b[0m\u001b[30mยอด\u001b[0m\u001b[30mค้าง\u001b[0m\u001b[30m \u001b[0m\u001b[30mโปร\u001b[0m\u001b[30m \u001b[0m\u001b[30m299\u001b[0m\u001b[30m \u001b[0m\u001b[30mจ่าย\u001b[0m\u001b[30mจริง\u001b[0m\u001b[30m \u001b[0m\u001b[30m4\u001b[0m\u001b[30mxx\u001b[0m\u001b[31m \u001b[0m\u001b[31mคือ\u001b[0m\u001b[31mไร\u001b[0m\u001b[30mคับ\u001b[0m, 0.58 Ans: 0.25 X\n",
      "\u001b[30mแน่ใจ\u001b[0m\u001b[30mว่า\u001b[0m\u001b[30mดี\u001b[0m\u001b[30mแล้ว\u001b[0m\u001b[31mหรอ\u001b[0m\u001b[31m?\u001b[0m\u001b[31m?\u001b[0m\u001b[31m?\u001b[0m\u001b[31m \u001b[0m\u001b[31mสมัคร\u001b[0m\u001b[31mแบบ\u001b[0m\u001b[31mราย\u001b[0m\u001b[30mเดือน\u001b[0m\u001b[30m4\u001b[0m\u001b[30m \u001b[0m\u001b[30mร้อย\u001b[0m\u001b[30mกว่า\u001b[0m\u001b[31mบาท\u001b[0m\u001b[31mทท\u001b[0m\u001b[31m \u001b[0m\u001b[31mตอน\u001b[0m\u001b[31mนี้\u001b[0m\u001b[31mทำ\u001b[0m\u001b[31mเหี้ยใร\u001b[0m\u001b[31mได้\u001b[0m\u001b[31m \u001b[0m\u001b[31mนอก\u001b[0m\u001b[31mจาก\u001b[0m\u001b[31m \u001b[0m\u001b[31mตอบ\u001b[0m\u001b[31mเเชตเฟสไลน์\u001b[0m\u001b[30m \u001b[0m\u001b[31mโพสรุป\u001b[0m\u001b[31m \u001b[0m\u001b[31mดู\u001b[0m\u001b[31mอะไร\u001b[0m\u001b[31mที่\u001b[0m\u001b[31mเป็น\u001b[0m\u001b[30mวิดีโอ\u001b[0m\u001b[31mไม่\u001b[0m\u001b[31mได้\u001b[0m\u001b[31mเลย\u001b[0m\u001b[31mยย\u001b[0m\u001b[31m \u001b[0m\u001b[31mอย่า\u001b[0m\u001b[31mเสีย\u001b[0m\u001b[31mเวลา\u001b[0m\u001b[31mมา\u001b[0m\u001b[31mโฆษณา\u001b[0m\u001b[31mเลย\u001b[0m\u001b[31mจ้าาา\u001b[0m, 0.24 Ans: 0.00 ✓\n",
      "\u001b[30mเก็ย\u001b[0m\u001b[30mค่า\u001b[0m\u001b[30mบริการ\u001b[0m\u001b[30m \u001b[0m\u001b[34mซำ้แล้ว\u001b[0m\u001b[34mซำ้\u001b[0m\u001b[34mอีก\u001b[0m\u001b[30m \u001b[0m\u001b[30mโทร\u001b[0m\u001b[30mมา\u001b[0m\u001b[31mทวง\u001b[0m\u001b[31m \u001b[0m\u001b[31mก็\u001b[0m\u001b[31mแจ้ง\u001b[0m\u001b[1m\u001b[31mให้\u001b[0m\u001b[31mทราบ\u001b[0m\u001b[31mแล้ว\u001b[0m\u001b[31mว่า\u001b[0m\u001b[31mเดือน\u001b[0m\u001b[31mที่\u001b[0m\u001b[31mแล้ว\u001b[0m\u001b[30mจ่าย\u001b[0m\u001b[30mแล้ว\u001b[0m\u001b[30mมี\u001b[0m\u001b[30mใบ\u001b[0m\u001b[34mเสร็จ\u001b[0m\u001b[34mรับ\u001b[0m\u001b[34mเงิน\u001b[0m\u001b[34mด้วย\u001b[0m\u001b[30m \u001b[0m\u001b[34mยัง\u001b[0m\u001b[34mมี\u001b[0m\u001b[34mหน้า\u001b[0m\u001b[34mมา\u001b[0m\u001b[1m\u001b[34mบอก\u001b[0m\u001b[34mว่า\u001b[0m\u001b[34mจะ\u001b[0m\u001b[34mลด\u001b[0m\u001b[34mให้\u001b[0m\u001b[30m \u001b[0m\u001b[30mไม่\u001b[0m\u001b[30mฟ้อง\u001b[0m\u001b[31m \u001b[0m\u001b[31mกสทช\u001b[0m\u001b[31m \u001b[0m\u001b[31mก็\u001b[0m\u001b[31mบุญ\u001b[0m\u001b[1m\u001b[31mหัว\u001b[0m\u001b[1m\u001b[31mแล้ว\u001b[0m\u001b[31mยัง\u001b[0m\u001b[31mมา\u001b[0m\u001b[31mระงับ\u001b[0m\u001b[31mโทร\u001b[0m\u001b[31mออก\u001b[0m\u001b[31mอีก\u001b[0m\u001b[31m \u001b[0m\u001b[31mเดียว\u001b[0m\u001b[31mว่าง\u001b[0m\u001b[31mเจอ\u001b[0m\u001b[31mกัน\u001b[0m\u001b[31mที่\u001b[0m\u001b[31m \u001b[0m\u001b[31mกสทช\u001b[0m\u001b[31m \u001b[0m\u001b[31mนะ\u001b[0m\u001b[31m \u001b[0m\u001b[31mdtac\u001b[0m\u001b[30m \u001b[0m\u001b[31mเก็บ\u001b[0m\u001b[31mบิล\u001b[0m\u001b[31mมั่ว\u001b[0m, 0.34 Ans: 0.25 ✓\n",
      "\u001b[30mเปิด\u001b[0m\u001b[30mได้\u001b[0m\u001b[34mทุก\u001b[0m\u001b[1m\u001b[34mที่\u001b[0m\u001b[1m\u001b[34mพอ\u001b[0m\u001b[34mปิด\u001b[0m\u001b[30mไม่\u001b[0m\u001b[30mมี\u001b[0m\u001b[31mที่\u001b[0m\u001b[30mให้\u001b[0m\u001b[30mปิด\u001b[0m\u001b[31mใช้\u001b[0m\u001b[31mมา\u001b[0m\u001b[31m7\u001b[0m\u001b[30mปี\u001b[0m\u001b[30m \u001b[0m\u001b[34mให้\u001b[0m\u001b[34mเข้า\u001b[0m\u001b[30mศูน\u001b[0m\u001b[30mใหญ่\u001b[0m\u001b[34mอย่าง\u001b[0m\u001b[34mเดียว\u001b[0m\u001b[30mโอ้ย\u001b[0m, 0.63 Ans: 0.25 X\n",
      "\u001b[30mช่วย\u001b[0m\u001b[30mตอบ\u001b[0m\u001b[30mใน\u001b[0m\u001b[30m \u001b[0m\u001b[31minbox\u001b[0m\u001b[31m \u001b[0m\u001b[30mด้วย\u001b[0m\u001b[30mครับ\u001b[0m, 0.42 Ans: 0.50 X\n",
      "\u001b[1m\u001b[31mครอบคลุม\u001b[0m\u001b[1m\u001b[31m \u001b[0m\u001b[1m\u001b[31mถุย\u001b[0m, 0.10 Ans: 0.00 ✓\n",
      "\u001b[30mแถว\u001b[0m\u001b[31mบ้าน\u001b[0m\u001b[1m\u001b[31mผม\u001b[0m\u001b[31mมัน\u001b[0m\u001b[31mคง\u001b[0m\u001b[31mไม่\u001b[0m\u001b[31mลื่น\u001b[0m\u001b[30mครับ\u001b[0m, 0.42 Ans: 0.25 ✓\n",
      "\u001b[30mปทุมธานี\u001b[0m\u001b[30m \u001b[0m\u001b[30m \u001b[0m\u001b[30mไม่ว่า\u001b[0m\u001b[34mจะ\u001b[0m\u001b[30mเน็ต\u001b[0m\u001b[30mแรง\u001b[0m\u001b[30mแค่\u001b[0m\u001b[31mไหน\u001b[0m\u001b[31mจะ\u001b[0m\u001b[31mกี่\u001b[0m\u001b[31mบาท\u001b[0m\u001b[31mกี่\u001b[0m\u001b[31mสตางค์\u001b[0m\u001b[31m \u001b[0m\u001b[31mยัง\u001b[0m\u001b[30mไง\u001b[0m\u001b[34mก็\u001b[0m\u001b[30mขึ้น\u001b[0m\u001b[30m \u001b[0m\u001b[30mE\u001b[0m\u001b[30m \u001b[0m\u001b[30mครับ\u001b[0m\u001b[30m \u001b[0m\u001b[30mขนาด\u001b[0m\u001b[30mพื้นที่\u001b[0m\u001b[30mติด\u001b[0m\u001b[31m'\u001b[0m\u001b[1m\u001b[31mปาก\u001b[0m\u001b[1m\u001b[31mเกร็ด\u001b[0m\u001b[1m\u001b[31m'\u001b[0m\u001b[1m\u001b[31m \u001b[0m\u001b[1m\u001b[31mแท้ๆ\u001b[0m\u001b[1m\u001b[31m \u001b[0m\u001b[1m\u001b[31mเห้อ\u001b[0m, 0.06 Ans: 0.25 ✓\n",
      "\u001b[30mไม่\u001b[0m\u001b[31mดี\u001b[0m\u001b[31mเลย\u001b[0m\u001b[31mค่ะ\u001b[0m\u001b[31m \u001b[0m\u001b[30mไป\u001b[0m\u001b[31mย้าย\u001b[0m\u001b[31mค่าย\u001b[0m\u001b[31mก้\u001b[0m\u001b[31mไม่\u001b[0m\u001b[31mให้\u001b[0m\u001b[31mย้าย\u001b[0m\u001b[1m\u001b[31m \u001b[0m\u001b[31mมี\u001b[0m\u001b[31mโปร\u001b[0m\u001b[30mอะไร\u001b[0m\u001b[30mๆ\u001b[0m\u001b[34mมา\u001b[0m\u001b[34mให้\u001b[0m\u001b[34m \u001b[0m\u001b[30mโทร\u001b[0m\u001b[30mไม่\u001b[0m\u001b[30mได้\u001b[0m\u001b[30m \u001b[0m\u001b[30mเล่น\u001b[0m\u001b[31mไม่\u001b[0m\u001b[31mได้\u001b[0m\u001b[31m \u001b[0m\u001b[31mมัน\u001b[0m\u001b[1m\u001b[31mหงุดหงิด\u001b[0m\u001b[1m\u001b[31mมาก\u001b[0m\u001b[1m\u001b[31m \u001b[0m\u001b[1m\u001b[31mต้อง\u001b[0m\u001b[1m\u001b[31mให้\u001b[0m\u001b[1m\u001b[31mซื้อ\u001b[0m\u001b[31mโปรเพิ่ม\u001b[0m\u001b[31mอีก\u001b[0m\u001b[31m \u001b[0m\u001b[31mงง\u001b[0m\u001b[31mค่ะ\u001b[0m\u001b[31m \u001b[0m\u001b[31mจะ\u001b[0m\u001b[31mไป\u001b[0m\u001b[31mย้าย\u001b[0m\u001b[31mอีก\u001b[0m\u001b[31mรอบ\u001b[0m\u001b[1m\u001b[31mแล้ว\u001b[0m\u001b[31mขนาด\u001b[0m\u001b[31mยุ่\u001b[0m\u001b[31mใน\u001b[0m\u001b[31mเมือง\u001b[0m\u001b[31mนะ\u001b[0m\u001b[31mค่ะ\u001b[0m, 0.38 Ans: 0.25 ✓\n",
      "\u001b[30mเน้ตกากจัง\u001b[0m, 0.57 Ans: 0.25 X\n",
      "Acc: 0.60\n",
      "............................................................................................................................................................\n",
      "Epoch -  24\n",
      "Avg Accuracy (training set): 0.92\n",
      "Accuracy (test set): 0.70\n",
      "====================================\n",
      "Show test result\n",
      "\u001b[34mP9\u001b[0m\u001b[34m \u001b[0m\u001b[34mมี\u001b[0m\u001b[1m\u001b[34mโปรมั้ย\u001b[0m\u001b[34mคะ\u001b[0m, 0.77 Ans: 0.88 ✓\n",
      "\u001b[30mจ่าย\u001b[0m\u001b[31mราย\u001b[0m\u001b[30mเดือน\u001b[0m\u001b[30mแล้ว\u001b[0m\u001b[30m \u001b[0m\u001b[31mเน็ตช้า\u001b[0m\u001b[31mยิ่ง\u001b[0m\u001b[31mกว่า\u001b[0m\u001b[31mเดิม\u001b[0m\u001b[31m \u001b[0m\u001b[31mแย่\u001b[0m\u001b[31mมาก\u001b[0m\u001b[31mเลย\u001b[0m\u001b[31m \u001b[0m\u001b[31mสงสัย\u001b[0m\u001b[31mต้อง\u001b[0m\u001b[1m\u001b[31mย้าย\u001b[0m\u001b[31mค่าย\u001b[0m\u001b[1m\u001b[31mล่ะ\u001b[0m, 0.23 Ans: 0.25 ✓\n",
      "\u001b[31mตัวเมือง\u001b[0m\u001b[34mหาด\u001b[0m\u001b[34mใหญ่\u001b[0m\u001b[34mไม่\u001b[0m\u001b[34mมี\u001b[0m\u001b[30mบริการ\u001b[0m\u001b[30m.\u001b[0m\u001b[30m \u001b[0m\u001b[30mเลย\u001b[0m\u001b[31mครับ\u001b[0m\u001b[30m.\u001b[0m\u001b[30m \u001b[0m\u001b[30m \u001b[0m\u001b[31mเน๊ต\u001b[0m\u001b[31mไม่\u001b[0m\u001b[31mต้อง\u001b[0m\u001b[1m\u001b[31mพูด\u001b[0m\u001b[1m\u001b[31mถึง\u001b[0m\u001b[31mลื่น\u001b[0m\u001b[31mหมุน\u001b[0m\u001b[31mไม่\u001b[0m\u001b[31mหยุด\u001b[0m\u001b[31mเลย\u001b[0m\u001b[31m.\u001b[0m\u001b[31m \u001b[0m\u001b[31mหมุน\u001b[0m\u001b[31mอย่าง\u001b[0m\u001b[31mเดียว\u001b[0m\u001b[31mไม่\u001b[0m\u001b[31mมา\u001b[0m, 0.28 Ans: 0.25 ✓\n",
      "\u001b[30mใช้\u001b[0m\u001b[34mdtac\u001b[0m\u001b[34m \u001b[0m\u001b[34mอยู่\u001b[0m\u001b[34mกรุงเทพ\u001b[0m\u001b[34m \u001b[0m\u001b[1m\u001b[34mเรา\u001b[0m\u001b[1m\u001b[34mนี่\u001b[0m\u001b[1m\u001b[34msilver\u001b[0m\u001b[1m\u001b[34m \u001b[0m\u001b[34mเลย\u001b[0m, 0.84 Ans: 0.50 X\n",
      "\u001b[30mผ่อนกะอัน\u001b[0m\u001b[30mไหน\u001b[0m, 0.45 Ans: 0.50 ✓\n",
      "\u001b[30mวัน\u001b[0m\u001b[30mนี้\u001b[0m\u001b[30mสมัคร\u001b[0m\u001b[30mได้\u001b[0m\u001b[34mเปล่า\u001b[0m, 0.64 Ans: 0.75 X\n",
      "\u001b[30mเน็ต\u001b[0m\u001b[31mกาก\u001b[0m\u001b[31mแถม\u001b[0m\u001b[1m\u001b[31mหลุด\u001b[0m, 0.24 Ans: 0.25 ✓\n",
      "\u001b[30mJ2\u001b[0m\u001b[30mรับ\u001b[0m\u001b[34mเครื่อง\u001b[0m\u001b[34mฟรี\u001b[0m\u001b[1m\u001b[34mทำ\u001b[0m\u001b[1m\u001b[34mยัง\u001b[0m\u001b[34mไง\u001b[0m\u001b[1m\u001b[34mค่ะ\u001b[0m, 0.73 Ans: 0.75 ✓\n",
      "\u001b[30mPlaybox\u001b[0m\u001b[30m \u001b[0m\u001b[31mกระตุก\u001b[0m\u001b[1m\u001b[31m \u001b[0m\u001b[1m\u001b[31mค้าง\u001b[0m\u001b[1m\u001b[31m \u001b[0m\u001b[1m\u001b[31mบ่อย\u001b[0m\u001b[31mไป\u001b[0m\u001b[1m\u001b[31mนะ\u001b[0m\u001b[31m \u001b[0m\u001b[31mบาง\u001b[0m\u001b[31mครั้ง\u001b[0m\u001b[31mจอมืด\u001b[0m\u001b[31m \u001b[0m\u001b[31mมี\u001b[0m\u001b[31mแต่\u001b[0m\u001b[1m\u001b[31mเสียง\u001b[0m\u001b[31m \u001b[0m\u001b[31mแก้ไข\u001b[0m\u001b[31mด้วย\u001b[0m\u001b[1m\u001b[31m \u001b[0m\u001b[31mบ่อย\u001b[0m\u001b[31mมาก\u001b[0m\u001b[31mจน\u001b[0m\u001b[31mเมีย\u001b[0m\u001b[31mบ่น\u001b[0m\u001b[31mละ\u001b[0m, 0.33 Ans: 0.25 ✓\n",
      "\u001b[30mใช้\u001b[0m\u001b[31mAis\u001b[0m\u001b[1m\u001b[31mมา\u001b[0m\u001b[30mนาน\u001b[0m\u001b[34mแล้ว\u001b[0m\u001b[34mสามารถ\u001b[0m\u001b[34mแลก\u001b[0m\u001b[34mเครื่อง\u001b[0m\u001b[34mไหน\u001b[0m\u001b[34mได้\u001b[0m\u001b[34mบ้าง\u001b[0m\u001b[34mค่ะ\u001b[0m\u001b[30mและ\u001b[0m\u001b[30mต้อง\u001b[0m\u001b[34mทำ\u001b[0m\u001b[34mยัง\u001b[0m\u001b[34mไง\u001b[0m\u001b[34mบ้าง\u001b[0m, 0.76 Ans: 0.50 X\n",
      "Acc: 0.70\n"
     ]
    },
    {
     "name": "stdout",
     "output_type": "stream",
     "text": [
      "............................................................................................................................................................\n",
      "Epoch -  25\n",
      "Avg Accuracy (training set): 0.91\n",
      "Accuracy (test set): 0.68\n",
      "====================================\n",
      "Show test result\n",
      "\u001b[31mสัญญาณ\u001b[0m\u001b[31mแย่\u001b[0m\u001b[31mมาก\u001b[0m\u001b[1m\u001b[31mค่ะ\u001b[0m\u001b[1m\u001b[31mGPS\u001b[0m\u001b[1m\u001b[31m \u001b[0m\u001b[31mมั่ว\u001b[0m\u001b[1m\u001b[31mตลอด\u001b[0m\u001b[1m\u001b[31m \u001b[0m\u001b[1m\u001b[31mหา\u001b[0m\u001b[1m\u001b[31mสัญญาณ\u001b[0m\u001b[1m\u001b[31mไม่\u001b[0m\u001b[1m\u001b[31mเจอ\u001b[0m\u001b[31mซะ\u001b[0m\u001b[1m\u001b[31mส่วน\u001b[0m\u001b[31mใหญ่\u001b[0m, 0.26 Ans: 0.25 ✓\n",
      "\u001b[30mรอ\u001b[0m\u001b[30mใจ\u001b[0m\u001b[30mจะ\u001b[0m\u001b[30mขาด\u001b[0m\u001b[30mละ\u001b[0m\u001b[30mเมื่อ\u001b[0m\u001b[30mไหร่\u001b[0m\u001b[30mจะ\u001b[0m\u001b[31mย้าย\u001b[0m\u001b[31mค่าย\u001b[0m\u001b[31mให้\u001b[0m\u001b[31mที\u001b[0m\u001b[31mวะ\u001b[0m, 0.33 Ans: 0.25 ✓\n",
      "\u001b[30mพอดี\u001b[0m\u001b[30mเพี่อน\u001b[0m\u001b[30mใช้\u001b[0m\u001b[30mเป็น\u001b[0m\u001b[30mเติม\u001b[0m\u001b[30mเงิน\u001b[0m\u001b[30mถ้า\u001b[0m\u001b[30mเปลี่ยน\u001b[0m\u001b[31mเป็น\u001b[0m\u001b[31mใช้\u001b[0m\u001b[30mราย\u001b[0m\u001b[30mเดีอน\u001b[0m\u001b[34mจะ\u001b[0m\u001b[34mมี\u001b[0m\u001b[34mส่วน\u001b[0m\u001b[30mลด\u001b[0m\u001b[30mอะไร\u001b[0m\u001b[30mบ้าง\u001b[0m\u001b[34mคะ\u001b[0m\u001b[30mใช้\u001b[0m\u001b[30m.\u001b[0m\u001b[30m \u001b[0m\u001b[30mDtac\u001b[0m\u001b[34m.\u001b[0m\u001b[34m \u001b[0m\u001b[34m \u001b[0m\u001b[34mมา\u001b[0m\u001b[1m\u001b[34m7\u001b[0m\u001b[34mปี\u001b[0m\u001b[1m\u001b[34mแล้ว\u001b[0m\u001b[1m\u001b[34mคะ\u001b[0m, 0.83 Ans: 0.75 ✓\n",
      "\u001b[34mจอง\u001b[0m\u001b[34m \u001b[0m\u001b[34mvivo\u001b[0m\u001b[34m \u001b[0m\u001b[34mv\u001b[0m\u001b[34m5\u001b[0m\u001b[1m\u001b[34m \u001b[0m\u001b[1m\u001b[34mมา\u001b[0m\u001b[34mครึ่ง\u001b[0m\u001b[34mเดือน\u001b[0m\u001b[34mแล้ว\u001b[0m\u001b[34m \u001b[0m\u001b[34mยัง\u001b[0m\u001b[34mไม่\u001b[0m\u001b[30mได้\u001b[0m\u001b[34mเครื่อง\u001b[0m\u001b[34mเลย\u001b[0m\u001b[1m\u001b[34m \u001b[0m\u001b[34mที่ี\u001b[0m\u001b[34mร้าน\u001b[0m\u001b[34mดี\u001b[0m\u001b[1m\u001b[34mแทค\u001b[0m\u001b[1m\u001b[34mบอก\u001b[0m\u001b[1m\u001b[34mว่า\u001b[0m\u001b[34m \u001b[0m\u001b[30mรอ\u001b[0m\u001b[30mทาง\u001b[0m\u001b[30mดี\u001b[0m\u001b[34mแทค\u001b[0m\u001b[34mใหญ่\u001b[0m\u001b[1m\u001b[34mส่ง\u001b[0m\u001b[1m\u001b[34mมา\u001b[0m\u001b[34m \u001b[0m\u001b[30mทำไม\u001b[0m\u001b[30mนาน\u001b[0m\u001b[30mจัง\u001b[0m, 0.69 Ans: 0.75 ✓\n",
      "\u001b[30mผม\u001b[0m\u001b[30mเป็น\u001b[0m\u001b[30mลูกค้า\u001b[0m\u001b[31m \u001b[0m\u001b[30m4\u001b[0m\u001b[31m \u001b[0m\u001b[31msmart\u001b[0m\u001b[30m \u001b[0m\u001b[30mchoice\u001b[0m\u001b[30m \u001b[0m\u001b[31mมี\u001b[0m\u001b[30mโปรซื้อ\u001b[0m\u001b[34mไอโฟน\u001b[0m\u001b[34mยัง\u001b[0m\u001b[1m\u001b[34mไง\u001b[0m\u001b[34mบ้าง\u001b[0m\u001b[34mครับ\u001b[0m, 0.69 Ans: 0.75 ✓\n",
      "\u001b[31mบ้าน\u001b[0m\u001b[31mผม\u001b[0m\u001b[31mยัง\u001b[0m\u001b[30mขึ้น\u001b[0m\u001b[30m \u001b[0m\u001b[31mE\u001b[0m\u001b[31m \u001b[0m\u001b[31mอยู่\u001b[0m\u001b[31mเลย\u001b[0m\u001b[31mคับ\n",
      "\u001b[0m\u001b[31mไหน\u001b[0m\u001b[31mบอก\u001b[0m\u001b[31mว่า\u001b[0m\u001b[31mแรง\u001b[0m\u001b[31mคับบ\u001b[0m, 0.21 Ans: 0.25 ✓\n",
      "\u001b[30mเมื่อ\u001b[0m\u001b[30mไหร่\u001b[0m\u001b[30mจะ\u001b[0m\u001b[30mพัฒนา\u001b[0m\u001b[31mให้\u001b[0m\u001b[30m4\u001b[0m\u001b[31mg\u001b[0m\u001b[31m \u001b[0m\u001b[31mครอบคลุม\u001b[0m\u001b[31mทุก\u001b[0m\u001b[31mพื้นที่\u001b[0m\u001b[31mสัก\u001b[0m\u001b[31mที\u001b[0m\u001b[31m \u001b[0m\u001b[30mเงิน\u001b[0m\u001b[30mที่\u001b[0m\u001b[31mลูกค้า\u001b[0m\u001b[30mจ่าย\u001b[0m\u001b[31mไป\u001b[0m\u001b[31mกี่\u001b[0m\u001b[31mล้าน\u001b[0m\u001b[31mบาท\u001b[0m\u001b[31mมัน\u001b[0m\u001b[31mไม่\u001b[0m\u001b[31mพอ\u001b[0m\u001b[31mที่\u001b[0m\u001b[31mจะ\u001b[0m\u001b[1m\u001b[31mพัฒนา\u001b[0m\u001b[31mเลย\u001b[0m\u001b[31mหรอ\u001b[0m\u001b[1m\u001b[31m?\u001b[0m\u001b[1m\u001b[31m?\u001b[0m\u001b[31m?\u001b[0m, 0.24 Ans: 0.00 ✓\n",
      "\u001b[30mเดี๋ยวนี้\u001b[0m\u001b[30mมี\u001b[0m\u001b[31mโปรได้\u001b[0m\u001b[30mโทรศัพท์\u001b[0m\u001b[30mฟรี\u001b[0m\u001b[30mไหม\u001b[0m\u001b[30mครับ\u001b[0m, 0.51 Ans: 0.50 ✓\n",
      "\u001b[30mเรา\u001b[0m\u001b[30mใช้\u001b[0m\u001b[30m \u001b[0m\u001b[30m449\u001b[0m\u001b[30m \u001b[0m\u001b[30mใช้\u001b[0m\u001b[30mเน็ต\u001b[0m\u001b[34mตลอด\u001b[0m\u001b[34m \u001b[0m\u001b[34mดู\u001b[0m\u001b[34mยูทูป\u001b[0m\u001b[34mทั้ง\u001b[0m\u001b[34mวัน\u001b[0m\u001b[30mทั้ง\u001b[0m\u001b[30mคืน\u001b[0m\u001b[31mก็\u001b[0m\u001b[30mยัง\u001b[0m\u001b[30mลื่น\u001b[0m\u001b[34mปื๊ด\u001b[0m\u001b[30m \u001b[0m\u001b[34mลื่น\u001b[0m\u001b[30mปื๊ด\u001b[0m\u001b[30m \u001b[0m\u001b[31mไม่\u001b[0m\u001b[31mมี\u001b[0m\u001b[31mสะดุด\u001b[0m\u001b[30mเลย\u001b[0m\u001b[30mค่ะ\u001b[0m, 0.46 Ans: 1.00 X\n",
      "\u001b[30mขอ\u001b[0m\u001b[34mให้\u001b[0m\u001b[34mรักษา\u001b[0m\u001b[34mใว้\u001b[0m\u001b[34mให้\u001b[0m\u001b[1m\u001b[34mดี\u001b[0m\u001b[1m\u001b[34mนะ\u001b[0m\u001b[34mแบบ\u001b[0m\u001b[34mนี้\u001b[0m\u001b[30mเพราะ\u001b[0m\u001b[31mไม\u001b[0m\u001b[31mมี\u001b[0m\u001b[31mไคเรียน\u001b[0m\u001b[31mแบบ\u001b[0m\u001b[31mมึง\u001b[0m\u001b[31mใด้\u001b[0m, 0.35 Ans: 0.25 ✓\n",
      "Acc: 0.90\n",
      "............................................................................................................................................................\n",
      "Epoch -  26\n",
      "Avg Accuracy (training set): 0.91\n",
      "Accuracy (test set): 0.67\n",
      "====================================\n",
      "Show test result\n",
      "\u001b[31mกาก\u001b[0m\u001b[31mกกกกกก\u001b[0m\u001b[31mมาก\u001b[0m\u001b[1m\u001b[31m \u001b[0m\u001b[1m\u001b[31mDtac\u001b[0m, 0.17 Ans: 0.00 ✓\n",
      "\u001b[30mเน็ต\u001b[0m\u001b[1m\u001b[31mล่ม\u001b[0m\u001b[1m\u001b[31mยกมือ\u001b[0m\u001b[1m\u001b[31mขึ้น\u001b[0m\u001b[1m\u001b[31m \u001b[0m\u001b[30m5555\u001b[0m\u001b[30m \u001b[0m\u001b[30mrov\u001b[0m\u001b[30m \u001b[0m\u001b[30mแรงค์\u001b[0m\u001b[30mตก\u001b[0m\u001b[30mเลย\u001b[0m, 0.45 Ans: 0.25 X\n",
      "\u001b[31mสัณญาณ\u001b[0m\u001b[31m \u001b[0m\u001b[31mเน็ตแย่\u001b[0m\u001b[31mมาก\u001b[0m\u001b[31mถึง\u001b[0m\u001b[31mแย่\u001b[0m\u001b[31mที่สุด\u001b[0m\u001b[31mครับ\u001b[0m\u001b[31m \u001b[0m\u001b[31mพัฒนา\u001b[0m\u001b[31mต่อ\u001b[0m\u001b[31mไป\u001b[0m\u001b[31mละ\u001b[0m\u001b[31mกัน\u001b[0m, 0.18 Ans: 0.25 ✓\n",
      "\u001b[34mเครื่อง\u001b[0m\u001b[34mฟรี\u001b[0m\u001b[30mราย\u001b[0m\u001b[34mเดือน\u001b[0m\u001b[34mราคา\u001b[0m\u001b[34mเบา\u001b[0m\u001b[34mมี\u001b[0m\u001b[34mไหม\u001b[0m\u001b[34mค่ะ\u001b[0m, 0.75 Ans: 0.75 ✓\n",
      "\u001b[31m#\u001b[0m\u001b[31mหน้า\u001b[0m\u001b[1m\u001b[31mด้าน\u001b[0m\u001b[31mว่ะ\u001b[0m\u001b[31mส่ง\u001b[0m\u001b[31mข้อความ\u001b[0m\u001b[31mนี้\u001b[0m\u001b[31mมา\u001b[0m\u001b[31mพูด\u001b[0m\u001b[1m\u001b[31mได้\u001b[0m\u001b[1m\u001b[31m \u001b[0m\u001b[1m\u001b[31mไง\u001b[0m\u001b[1m\u001b[31m \u001b[0m\u001b[1m\u001b[31mประหยัด\u001b[0m\u001b[31mจริง\u001b[0m\u001b[30mๆ\u001b[0m\u001b[30m \u001b[0m\u001b[31mจ่าย\u001b[0m\u001b[31mแค่\u001b[0m\u001b[31m \u001b[0m\u001b[31m15\u001b[0m\u001b[31m \u001b[0m\u001b[31mบาท\u001b[0m\u001b[31m \u001b[0m\u001b[31mเล่น\u001b[0m\u001b[31mเน็ต\u001b[0m\u001b[31mต่อเนื่อง\u001b[0m\u001b[31m \u001b[0m\u001b[31m500\u001b[0m\u001b[31mMB\u001b[0m\u001b[31m \u001b[0m\u001b[31mที่\u001b[0m\u001b[31mความ\u001b[0m\u001b[31mเร็ว\u001b[0m\u001b[31mสูง\u001b[0m\u001b[31mสุด\u001b[0m\u001b[31m \u001b[0m\u001b[31m512\u001b[0m\u001b[31mkbps\u001b[0m\u001b[31m \u001b[0m\u001b[31mจาก\u001b[0m\u001b[31mนั้น\u001b[0m\u001b[31m \u001b[0m\u001b[31m64\u001b[0m\u001b[31mkbps\u001b[0m\u001b[31m \u001b[0m\u001b[31mใช้\u001b[0m\u001b[31mได้\u001b[0m\u001b[31m \u001b[0m\u001b[31m1\u001b[0m\u001b[31m \u001b[0m\u001b[31mวัน\u001b[0m\u001b[31m \u001b[0m\u001b[30mสมัคร\u001b[0m\u001b[30mกด\u001b[0m\u001b[30m \u001b[0m\u001b[30m*\u001b[0m\u001b[34m900\u001b[0m\u001b[34m*\u001b[0m\u001b[34m8908\u001b[0m\u001b[34m#\u001b[0m\u001b[34m \u001b[0m\u001b[30mโทร\u001b[0m\u001b[30mออก\u001b[0m\u001b[31m \u001b[0m\u001b[31m \u001b[0m\u001b[31m#ประหยัด\u001b[0m\u001b[31mบ้าน\u001b[0m\u001b[31mพ่อ\u001b[0m\u001b[31mมึง\u001b[0m\u001b[31mดิ\u001b[0m, 0.20 Ans: 0.25 ✓\n",
      "\u001b[30mสมัคร\u001b[0m\u001b[30mแนต\u001b[0m\u001b[30mๆ\u001b[0m\u001b[30mหมด\u001b[0m\u001b[31mวัน\u001b[0m\u001b[31mไหน\u001b[0m\u001b[31mเวลา\u001b[0m\u001b[30mหมด\u001b[0m\u001b[31mก็\u001b[0m\u001b[31mบอก\u001b[0m\u001b[31mพอ\u001b[0m\u001b[31mเงิน\u001b[0m\u001b[31mหมด\u001b[0m\u001b[31mเตือน\u001b[0m\u001b[31mวัน\u001b[0m\u001b[31mละ\u001b[0m\u001b[31mร้อยรอบ\u001b[0m\u001b[31mจะ\u001b[0m\u001b[31mย้าย\u001b[0m\u001b[1m\u001b[31mค่าย\u001b[0m\u001b[1m\u001b[31mละ\u001b[0m, 0.21 Ans: 0.50 X\n",
      "\u001b[30mระยอง\u001b[0m\u001b[30mไม่\u001b[0m\u001b[31mมี\u001b[0m\u001b[31mสันยาน\u001b[0m\u001b[31m.\u001b[0m\u001b[31m \u001b[0m\u001b[31mดูแล\u001b[0m\u001b[31mด่วน\u001b[0m, 0.27 Ans: 0.25 ✓\n",
      "\u001b[31mที่\u001b[0m\u001b[31mโฆษณา\u001b[0m\u001b[30mไว้\u001b[0m\u001b[30m \u001b[0m\u001b[31mยิ่ง\u001b[0m\u001b[31mใช้\u001b[0m\u001b[31mยิ่ง\u001b[0m\u001b[31mดี\u001b[0m\u001b[31m \u001b[0m\u001b[31mแต่\u001b[0m\u001b[31mที่\u001b[0m\u001b[31mจริง\u001b[0m\u001b[31mแล้ว\u001b[0m\u001b[31mยิ่งใช้\u001b[0m\u001b[31mยิ่ง\u001b[0m\u001b[1m\u001b[31mเหี้ย\u001b[0m\u001b[1m\u001b[31m \u001b[0m\u001b[31m🖕🏻\u001b[0m, 0.12 Ans: 0.25 ✓\n",
      "\u001b[31mย้าย\u001b[0m\u001b[31mค่าย\u001b[0m\u001b[31mดี\u001b[0m\u001b[31mกว่า\u001b[0m\u001b[31m \u001b[0m\u001b[31mแล้ว\u001b[0m\u001b[31mก็\u001b[0m\u001b[31mไป\u001b[0m\u001b[31mซื้อ\u001b[0m\u001b[30mเครื่อง\u001b[0m\u001b[31mใช้\u001b[0m\u001b[30mเลย\u001b[0m\u001b[31m \u001b[0m\u001b[30mมี\u001b[0m\u001b[30mอีก\u001b[0m\u001b[30mเบอร์\u001b[0m\u001b[30mที่\u001b[0m\u001b[31mจะ\u001b[0m\u001b[30mย้าย\u001b[0m\u001b[31m \u001b[0m\u001b[31mและ\u001b[0m\u001b[31mได้\u001b[0m\u001b[30mทำ\u001b[0m\u001b[30mการ\u001b[0m\u001b[31mย้าย\u001b[0m\u001b[30mไป\u001b[0m\u001b[30mหล่ะ\u001b[0m\u001b[30mหนึ่ง\u001b[0m\u001b[30mเบอร์\u001b[0m\u001b[1m\u001b[34mเพราะ\u001b[0m\u001b[1m\u001b[34mเครื่อง\u001b[0m\u001b[34mที่\u001b[0m\u001b[30mแจก\u001b[0m\u001b[30mมี\u001b[0m\u001b[30mปัญหา\u001b[0m\u001b[30mบ่อย\u001b[0m\u001b[31mสงสัย\u001b[0m\u001b[31mเอา\u001b[0m\u001b[31mของ\u001b[0m\u001b[31mถูก\u001b[0m\u001b[31mๆ\u001b[0m\u001b[31mมา\u001b[0m\u001b[31mแจก\u001b[0m\u001b[31mแน่\u001b[0m, 0.33 Ans: 0.25 ✓\n",
      "\u001b[30mของ\u001b[0m\u001b[34mผม\u001b[0m\u001b[34mเน็ต\u001b[0m\u001b[30mขึ้น\u001b[0m\u001b[30mตัวE\u001b[0m\u001b[31mเห็น\u001b[0m\u001b[31mที\u001b[0m\u001b[31mต้อง\u001b[0m\u001b[1m\u001b[31mเปลี่ยน\u001b[0m\u001b[1m\u001b[31mค่าย\u001b[0m, 0.14 Ans: 0.25 ✓\n",
      "Acc: 0.80\n",
      "............................................................................................................................................................\n",
      "Epoch -  27\n",
      "Avg Accuracy (training set): 0.91\n",
      "Accuracy (test set): 0.69\n",
      "====================================\n",
      "Show test result\n",
      "\u001b[30mนี่\u001b[0m\u001b[30mคือ\u001b[0m\u001b[31mอะไร\u001b[0m\u001b[31m \u001b[0m\u001b[31mไม่\u001b[0m\u001b[31mได้\u001b[0m\u001b[31mเปิด\u001b[0m\u001b[31mเน็ต\u001b[0m\u001b[31m \u001b[0m\u001b[31mเปิด\u001b[0m\u001b[31mเครือข่าย\u001b[0m\u001b[31mมือถือ\u001b[0m\u001b[31m \u001b[0m\u001b[30mแต่\u001b[0m\u001b[31mโดน\u001b[0m\u001b[31mหัก\u001b[0m\u001b[31mเงิน\u001b[0m\u001b[31m \u001b[0m\u001b[1m\u001b[31mเสีย\u001b[0m\u001b[31mเงิน\u001b[0m\u001b[31mมา\u001b[0m\u001b[31mหลาย\u001b[0m\u001b[31mรอบ\u001b[0m\u001b[31mแล้ว\u001b[0m\u001b[31m \u001b[0m\u001b[31mขอ\u001b[0m\u001b[30mคำ\u001b[0m\u001b[31mอธิบาย\u001b[0m\u001b[30mด่วน\u001b[0m\u001b[31m \u001b[0m\u001b[31mก่อน\u001b[0m\u001b[31mที่\u001b[0m\u001b[31mอีก\u001b[0m\u001b[31mหลาย\u001b[0m\u001b[31mๆ\u001b[0m\u001b[31mเบอร์\u001b[0m\u001b[31mจะ\u001b[0m\u001b[31mเลิก\u001b[0m\u001b[31mใช้\u001b[0m, 0.31 Ans: 0.50 X\n",
      "\u001b[30mSirawich\u001b[0m\u001b[30m \u001b[0m\u001b[30mVoungchuy\u001b[0m\u001b[30mเปลี่ยน\u001b[0m\u001b[30mมา\u001b[0m\u001b[30mใช้\u001b[0m\u001b[30mโปรนี้\u001b[0m\u001b[34mกัน\u001b[0m, 0.61 Ans: 0.50 ✓\n",
      "\u001b[34mผม\u001b[0m\u001b[34mจะ\u001b[0m\u001b[34mขอ\u001b[0m\u001b[30mกรุณา\u001b[0m\u001b[30mเช็ค\u001b[0m\u001b[30mขอมูล\u001b[0m\u001b[30mการ\u001b[0m\u001b[31mโทร\u001b[0m\u001b[30mของ\u001b[0m\u001b[34mเบอร์\u001b[0m\u001b[34mตัว\u001b[0m\u001b[34mเอง\u001b[0m\u001b[34mจะ\u001b[0m\u001b[30mได้\u001b[0m\u001b[30mหรือ\u001b[0m\u001b[30mปล่าว\u001b[0m\u001b[30mครับ\u001b[0m\u001b[30m \u001b[0m\u001b[30mใน\u001b[0m\u001b[31m \u001b[0m\u001b[31min\u001b[0m\u001b[31m \u001b[0m\u001b[31mbox\u001b[0m\u001b[31m \u001b[0m\u001b[31mไม่\u001b[0m\u001b[31mมี\u001b[0m\u001b[31mใคร\u001b[0m\u001b[31mพอ\u001b[0m\u001b[31mจะ\u001b[0m\u001b[31mตอบ\u001b[0m\u001b[31mให้\u001b[0m\u001b[31mผม\u001b[0m\u001b[1m\u001b[31mได้\u001b[0m\u001b[1m\u001b[31mเลย\u001b[0m\u001b[31m \u001b[0m\u001b[31mเดี๋ยว\u001b[0m\u001b[31mผม\u001b[0m\u001b[31mย้าย\u001b[0m\u001b[31mค่าย\u001b[0m\u001b[31mหนี\u001b[0m\u001b[31mนะ\u001b[0m\u001b[31mครับ\u001b[0m, 0.31 Ans: 0.25 ✓\n",
      "\u001b[1m\u001b[34mรัก\u001b[0m\u001b[1m\u001b[34mเลย\u001b[0m\u001b[1m\u001b[34m \u001b[0m\u001b[1m\u001b[34m#DTAC4G\u001b[0m\u001b[1m\u001b[34m \u001b[0m\u001b[1m\u001b[34m❤️\u001b[0m\u001b[1m\u001b[34m❤️❤️\u001b[0m, 0.90 Ans: 1.00 ✓\n",
      "\u001b[30mใช้\u001b[0m\u001b[34mดี\u001b[0m\u001b[34mแทค\u001b[0m\u001b[34mมา\u001b[0m\u001b[1m\u001b[34mนาน\u001b[0m\u001b[1m\u001b[34m \u001b[0m\u001b[1m\u001b[34mและ\u001b[0m\u001b[1m\u001b[34mไม่\u001b[0m\u001b[1m\u001b[34mคิด\u001b[0m\u001b[1m\u001b[34mจะ\u001b[0m\u001b[34mย้าย\u001b[0m\u001b[31mค่าย\u001b[0m\u001b[31m \u001b[0m\u001b[31mแต่\u001b[0m\u001b[31mพอ\u001b[0m\u001b[30mมา\u001b[0m\u001b[30mเจอ\u001b[0m\u001b[30mเน็ต\u001b[0m\u001b[31mห่วย\u001b[0m\u001b[31mแตก\u001b[0m\u001b[31mแล้ว\u001b[0m\u001b[31m \u001b[0m\u001b[31mย้าย\u001b[0m\u001b[31mค่าย\u001b[0m\u001b[31mดี\u001b[0m\u001b[31mกว่า\u001b[0m\u001b[31m \u001b[0m\u001b[31mเสียดาย\u001b[0m\u001b[31mเงิน\u001b[0m\u001b[31mที่\u001b[0m\u001b[31mสมัคร\u001b[0m\u001b[31m \u001b[0m\u001b[31mเน็ต\u001b[0m\u001b[31mเล่น\u001b[0m\u001b[31mเห้ย\u001b[0m\u001b[31mอะไร\u001b[0m\u001b[31mไม่\u001b[0m\u001b[31mได้\u001b[0m\u001b[31mเลย\u001b[0m, 0.29 Ans: 0.25 ✓\n",
      "\u001b[31mแจก\u001b[0m\u001b[31mถึง\u001b[0m\u001b[31mสี่\u001b[0m\u001b[31mโมง\u001b[0m\u001b[31mเย็น\u001b[0m\u001b[31m \u001b[0m\u001b[31mคือ\u001b[0m\u001b[31m \u001b[0m\u001b[31mยัง\u001b[0m\u001b[31mไม่\u001b[0m\u001b[31mเลิก\u001b[0m\u001b[1m\u001b[31mงาน\u001b[0m\u001b[31mเลย\u001b[0m\u001b[31m \u001b[0m\u001b[31mกะแจก\u001b[0m\u001b[31mคน\u001b[0m\u001b[31mที่\u001b[0m\u001b[31mเค้า\u001b[0m\u001b[31mว่าง\u001b[0m\u001b[31mๆ\u001b[0m\u001b[31m \u001b[0m\u001b[31mไม่\u001b[0m\u001b[31mก็\u001b[0m\u001b[31mทำ\u001b[0m\u001b[31mงาน\u001b[0m\u001b[31mใน\u001b[0m\u001b[31mห้าง\u001b[0m\u001b[31mใช่\u001b[0m\u001b[1m\u001b[31mมะ\u001b[0m\u001b[31m \u001b[0m\u001b[31mจัด\u001b[0m\u001b[31mโปรแแบกลัว\u001b[0m\u001b[31mคน\u001b[0m\u001b[31mไป\u001b[0m\u001b[31mเอา\u001b[0m\u001b[31mของ\u001b[0m\u001b[30mแจก\u001b[0m\u001b[34mเยอะ\u001b[0m\u001b[30mอย่า\u001b[0m\u001b[30mทำ\u001b[0m\u001b[31mเลย\u001b[0m, 0.35 Ans: 0.25 ✓\n",
      "\u001b[31mแบต\u001b[0m\u001b[31mมัน\u001b[0m\u001b[31mจะ\u001b[0m\u001b[31mเสื่อม\u001b[0m\u001b[31mไว\u001b[0m\u001b[31mไหม\u001b[0m\u001b[31mครับ\u001b[0m, 0.48 Ans: 0.50 ✓\n",
      "\u001b[30mยัง\u001b[0m\u001b[34mมี\u001b[0m\u001b[34mเครื่อง\u001b[0m\u001b[30mอยู่\u001b[0m\u001b[34mมั้ย\u001b[0m\u001b[34mครับ\u001b[0m, 0.73 Ans: 0.75 ✓\n",
      "\u001b[30mนี่\u001b[0m\u001b[31mขนาด\u001b[0m\u001b[31mวาย\u001b[0m\u001b[1m\u001b[31mควาย\u001b[0m\u001b[1m\u001b[31mเลย\u001b[0m\u001b[1m\u001b[31mนะ\u001b[0m\u001b[1m\u001b[31mคับ\u001b[0m\u001b[31m \u001b[0m\u001b[31m#พัฒนา\u001b[0m\u001b[31mระบบ\u001b[0m\u001b[1m\u001b[31mสัญญาน\u001b[0m\u001b[1m\u001b[31mก่อน\u001b[0m\u001b[1m\u001b[31mดี\u001b[0m\u001b[1m\u001b[31mไหม\u001b[0m\u001b[31m...\u001b[0m\u001b[1m\u001b[31m!\u001b[0m\u001b[1m\u001b[31m!\u001b[0m\u001b[1m\u001b[31m!\u001b[0m, 0.15 Ans: 0.25 ✓\n",
      "\u001b[31mชลบุรี\u001b[0m\u001b[31mคะ\u001b[0m\u001b[31m \u001b[0m\u001b[31mสัญญาณ\u001b[0m\u001b[34mดี\u001b[0m\u001b[1m\u001b[34mมาก\u001b[0m\u001b[1m\u001b[34m \u001b[0m\u001b[34mขึ้น\u001b[0m\u001b[31mE\u001b[0m\u001b[31mขึ้น\u001b[0m\u001b[1m\u001b[31mHบาง\u001b[0m\u001b[1m\u001b[31mที\u001b[0m\u001b[1m\u001b[31mไม่\u001b[0m\u001b[1m\u001b[31mขึ้น\u001b[0m\u001b[1m\u001b[31mเลย\u001b[0m\u001b[1m\u001b[31m \u001b[0m\u001b[31mนึก\u001b[0m\u001b[1m\u001b[31mว่า\u001b[0m\u001b[31mอยู่\u001b[0m\u001b[31mบน\u001b[0m\u001b[31mดอย\u001b[0m\u001b[31m \u001b[0m\u001b[31mดี\u001b[0m\u001b[31mมาก\u001b[0m\u001b[31mๆ\u001b[0m\u001b[31mๆ\u001b[0m\u001b[31mเลื่อน\u001b[0m\u001b[30mมาก\u001b[0m\u001b[31mเสีย\u001b[0m\u001b[31mเดือน\u001b[0m\u001b[31mละ\u001b[0m\u001b[31mพัน\u001b[0m\u001b[31mกว่า\u001b[0m\u001b[31mบาท\u001b[0m\u001b[31m \u001b[0m\u001b[31mคุ้ม\u001b[0m\u001b[31mมาก\u001b[0m\u001b[31mๆ\u001b[0m\u001b[30m \u001b[0m\u001b[30mหึหึหุ\u001b[0m, 0.38 Ans: 0.00 ✓\n",
      "Acc: 0.90\n"
     ]
    },
    {
     "name": "stdout",
     "output_type": "stream",
     "text": [
      "............................................................................................................................................................\n",
      "Epoch -  28\n",
      "Avg Accuracy (training set): 0.92\n",
      "Accuracy (test set): 0.68\n",
      "====================================\n",
      "Show test result\n",
      "\u001b[30mซื้อ\u001b[0m\u001b[30mมือถือ\u001b[0m\u001b[30mพร้อม\u001b[0m\u001b[34mโปร\u001b[0m\u001b[34mไม่\u001b[0m\u001b[30mจ่าย\u001b[0m\u001b[30mค่า\u001b[0m\u001b[30mล่วงหน้า\u001b[0m\u001b[30mได้\u001b[0m\u001b[30mไหม\u001b[0m, 0.56 Ans: 0.75 X\n",
      "\u001b[31mเพิ่ง\u001b[0m\u001b[31mสมัคร\u001b[0m\u001b[30mโปรเสริม\u001b[0m\u001b[30mไป\u001b[0m\u001b[30mเมื่อ\u001b[0m\u001b[30mวาน\u001b[0m\u001b[31m \u001b[0m\u001b[31m5\u001b[0m\u001b[31mgb\u001b[0m\u001b[30m \u001b[0m\u001b[30m99\u001b[0m\u001b[30mบ\u001b[0m\u001b[31m.\u001b[0m\u001b[31m \u001b[0m\u001b[31mวัน\u001b[0m\u001b[31mนี้\u001b[0m\u001b[31mเจอ\u001b[0m\u001b[31mโปรนี้\n",
      "\u001b[0m\u001b[31mครั้ง\u001b[0m\u001b[31mก่อน\u001b[0m\u001b[31m \u001b[0m\u001b[1m\u001b[31mกำลัง\u001b[0m\u001b[31mเดิน\u001b[0m\u001b[1m\u001b[31mออก\u001b[0m\u001b[1m\u001b[31mจาก\u001b[0m\u001b[1m\u001b[31mโรง\u001b[0m\u001b[31mหนัง\u001b[0m\u001b[31mมี\u001b[0m\u001b[31mข้อความ\u001b[0m\u001b[31mส่ง\u001b[0m\u001b[31mมา\u001b[0m\u001b[31mบอก\u001b[0m\u001b[31mว่า\u001b[0m\u001b[31m\"\u001b[0m\u001b[31mท่าน\u001b[0m\u001b[31mได้\u001b[0m\u001b[31mรับ\u001b[0m\u001b[31mสิทธิ์\u001b[0m\u001b[31mซื้อ\u001b[0m\u001b[30mตั๋ว\u001b[0m\u001b[30mหนัง\u001b[0m\u001b[34mใน\u001b[0m\u001b[34mราคา\u001b[0m\u001b[34mพิเศษ\u001b[0m\u001b[30mเรื่อง\u001b[0m\u001b[30mที่\u001b[0m\u001b[30mเพิ่ง\u001b[0m\u001b[30mจะ\u001b[0m\u001b[30mดู\u001b[0m\u001b[30mจบ\u001b[0m\u001b[30mและ\u001b[0m\u001b[30mกำลัง\u001b[0m\u001b[31mเดิน\u001b[0m\u001b[31mออกมา\u001b[0m\u001b[1m\u001b[31m\"\n",
      "\n",
      "\u001b[0m\u001b[31mเจ็บใจ\u001b[0m, 0.24 Ans: 0.25 ✓\n",
      "\u001b[1m\u001b[34mDtac\u001b[0m\u001b[1m\u001b[34m \u001b[0m\u001b[30mรับประกัน\u001b[0m\u001b[31mความ\u001b[0m\u001b[31mกาก\u001b[0m\u001b[31m \u001b[0m\u001b[31mตลอด\u001b[0m\u001b[31mอายุ\u001b[0m\u001b[31mการ\u001b[0m\u001b[31mใช้\u001b[0m\u001b[31mงาน\u001b[0m, 0.29 Ans: 0.25 ✓\n",
      "\u001b[30mเลือก\u001b[0m\u001b[30mสาย\u001b[0m\u001b[30mจาก\u001b[0m\u001b[30mคน\u001b[0m\u001b[34mไกล\u001b[0m\u001b[34mๆ\u001b[0m\u001b[34m \u001b[0m\u001b[1m\u001b[34mเพราะ\u001b[0m\u001b[1m\u001b[34mแม้\u001b[0m\u001b[1m\u001b[34mจะ\u001b[0m\u001b[30mอยู่\u001b[0m\u001b[30mไกล\u001b[0m\u001b[30mกัน\u001b[0m\u001b[30mแค่\u001b[0m\u001b[30mไหน\u001b[0m\u001b[30m \u001b[0m\u001b[30mก็\u001b[0m\u001b[30mเหมือน\u001b[0m\u001b[30mอยู่\u001b[0m\u001b[30mใกล้\u001b[0m\u001b[30mกัน\u001b[0m\u001b[34mแค่\u001b[0m\u001b[34mเอื้อม\u001b[0m\u001b[34mเพราะ\u001b[0m\u001b[34mเรา\u001b[0m\u001b[30mโทร\u001b[0m\u001b[30mคุย\u001b[0m\u001b[30mกัน\u001b[0m\u001b[30mทุก\u001b[0m\u001b[31mวัน\u001b[0m\u001b[30m \u001b[0m\u001b[31mเชื่อม\u001b[0m\u001b[31mความ\u001b[0m\u001b[31mสัมพันธ์\u001b[0m\u001b[31mแนบแน่น\u001b[0m\u001b[31mด้วย\u001b[0m\u001b[31mสัญญาณ\u001b[0m\u001b[31mของ\u001b[0m\u001b[1m\u001b[31m \u001b[0m\u001b[31mAIS\u001b[0m\u001b[31m \u001b[0m\u001b[31m#AISLove\u001b[0m\u001b[31mMom\u001b[0m, 0.37 Ans: 0.50 X\n",
      "\u001b[34mช่วง\u001b[0m\u001b[34mนี่\u001b[0m\u001b[1m\u001b[34mดี\u001b[0m\u001b[1m\u001b[34mแทค\u001b[0m\u001b[1m\u001b[34mสาย\u001b[0m\u001b[34mหลุด\u001b[0m\u001b[31mบ่อย\u001b[0m\u001b[31mมาก\u001b[0m, 0.27 Ans: 0.25 ✓\n",
      "\u001b[34mห้อง\u001b[0m\u001b[30mเรา\u001b[0m\u001b[31mอยุ่\u001b[0m\u001b[31mชั้น\u001b[0m\u001b[31mแรก\u001b[0m\u001b[31mตึก\u001b[0m\u001b[31m4\u001b[0m\u001b[31mชั้ล\u001b[0m\u001b[31mสัญญาน\u001b[0m\u001b[31mขีด\u001b[0m\u001b[31mเดียว\u001b[0m\u001b[31mไม่\u001b[0m\u001b[1m\u001b[31mมี\u001b[0m\u001b[31m..\u001b[0m\u001b[31mโทที\u001b[0m\u001b[31mนึง\u001b[0m\u001b[1m\u001b[31mเล่น\u001b[0m\u001b[31mเน็ต\u001b[0m\u001b[31mที\u001b[0m\u001b[31mนึง\u001b[0m\u001b[31m..\u001b[0m\u001b[1m\u001b[31mวิ่ง\u001b[0m\u001b[1m\u001b[31mออก\u001b[0m\u001b[1m\u001b[31mนอก\u001b[0m\u001b[1m\u001b[31mตึก\u001b[0m\u001b[1m\u001b[31mค่ะ\u001b[0m\u001b[1m\u001b[31m..\u001b[0m\u001b[1m\u001b[31mยกเลิก\u001b[0m\u001b[1m\u001b[31mบริการ\u001b[0m\u001b[1m\u001b[31mไป\u001b[0m\u001b[31mละ\u001b[0m\u001b[31m..\u001b[0m\u001b[31mแล้ว\u001b[0m\u001b[31mคุณ\u001b[0m\u001b[1m\u001b[31mจะ\u001b[0m\u001b[31mรัก\u001b[0m\u001b[30mดี\u001b[0m\u001b[30mแทค\u001b[0m\u001b[34m..สโลแกน\u001b[0m\u001b[34m..\u001b[0m\u001b[34mไม่ว่า\u001b[0m\u001b[30mค่ะ\u001b[0m\u001b[30m..\u001b[0m\u001b[30mแต่\u001b[0m\u001b[31mไม่\u001b[0m\u001b[30mขอ\u001b[0m\u001b[31mใช้\u001b[0m\u001b[31mละ\u001b[0m\u001b[31mเสีย\u001b[0m\u001b[31mราย\u001b[0m\u001b[31mเดือน\u001b[0m\u001b[31mเน็ต\u001b[0m\u001b[31mไป\u001b[0m\u001b[31mป่า\u001b[0m\u001b[31mว\u001b[0m\u001b[31mววว\u001b[0m\u001b[31mเลย\u001b[0m, 0.26 Ans: 0.25 ✓\n",
      "\u001b[34mน่า\u001b[0m\u001b[1m\u001b[34mรัก\u001b[0m\u001b[1m\u001b[34mกกก\u001b[0m\u001b[1m\u001b[34m \u001b[0m\u001b[1m\u001b[34m😍😍\u001b[0m, 0.89 Ans: 0.75 ✓\n",
      "\u001b[31mสามารถ\u001b[0m\u001b[30mกด\u001b[0m\u001b[30m \u001b[0m\u001b[34mทาง\u001b[0m\u001b[34mลัด\u001b[0m\u001b[34mได้\u001b[0m\u001b[34mมัย\u001b[0m\u001b[30mค่ะ\u001b[0m, 0.63 Ans: 0.50 ✓\n",
      "\u001b[30mเมื่อ\u001b[0m\u001b[31mวาน\u001b[0m\u001b[31mก็\u001b[0m\u001b[31mยัง\u001b[0m\u001b[31mห่วย\u001b[0m\u001b[31m...\u001b[0m\u001b[31mเด๋วพรุ่ง\u001b[0m\u001b[31mนี้\u001b[0m\u001b[31mจะ\u001b[0m\u001b[1m\u001b[31mขอ\u001b[0m\u001b[31mลา\u001b[0m\u001b[1m\u001b[31m \u001b[0m\u001b[1m\u001b[31mย้าย\u001b[0m\u001b[1m\u001b[31mค่าย\u001b[0m\u001b[1m\u001b[31mแล้ว\u001b[0m\u001b[1m\u001b[31mครับ\u001b[0m\u001b[1m\u001b[31m...\n",
      "\n",
      "\u001b[0m\u001b[1m\u001b[31mเมื่อ\u001b[0m\u001b[31mวาน\u001b[0m\u001b[1m\u001b[31mก็\u001b[0m\u001b[1m\u001b[31mที่\u001b[0m\u001b[31mรังสิต\u001b[0m\u001b[31m \u001b[0m\u001b[31mผม\u001b[0m\u001b[31mใช้\u001b[0m\u001b[31mทำ\u001b[0m\u001b[31mงาน\u001b[0m\u001b[31mไม่\u001b[0m\u001b[31mได้\u001b[0m\u001b[31mเลย\u001b[0m\u001b[31m \u001b[0m\u001b[1m\u001b[31mต้อง\u001b[0m\u001b[1m\u001b[31mยืม\u001b[0m\u001b[1m\u001b[31mของ\u001b[0m\u001b[1m\u001b[31mเพื่อน\u001b[0m\u001b[31mที่\u001b[0m\u001b[1m\u001b[31mเป็น\u001b[0m\u001b[31m \u001b[0m\u001b[31mAis\u001b[0m\u001b[31m \u001b[0m\u001b[31mมา\u001b[0m\u001b[31mทำ\u001b[0m\u001b[31mงาน\u001b[0m\u001b[31m \u001b[0m\u001b[31mผม\u001b[0m\u001b[1m\u001b[31mจ่าย\u001b[0m\u001b[31mเดือน\u001b[0m\u001b[31mละ\u001b[0m\u001b[31m \u001b[0m\u001b[31m2\u001b[0m\u001b[31m,\u001b[0m\u001b[31m000\u001b[0m\u001b[31m \u001b[0m\u001b[31mทุก\u001b[0m\u001b[31mเดือน\u001b[0m\u001b[31m \u001b[0m\u001b[31mผิด\u001b[0m\u001b[31mหวัง\u001b[0m\u001b[31mครับ\u001b[0m, 0.25 Ans: 0.25 ✓\n",
      "\u001b[34mลื่น\u001b[0m\u001b[30mตรง\u001b[0m\u001b[31mไหน\u001b[0m\u001b[31mค่ะ\u001b[0m\u001b[31m \u001b[0m\u001b[31mกาก\u001b[0m\u001b[1m\u001b[31mมาก\u001b[0m\u001b[31mตอน\u001b[0m\u001b[1m\u001b[31mนี้\u001b[0m\u001b[1m\u001b[31m \u001b[0m\u001b[1m\u001b[31mแถบ\u001b[0m\u001b[1m\u001b[31mสัญญาณ\u001b[0m\u001b[31m \u001b[0m\u001b[1m\u001b[31m4\u001b[0m\u001b[31mG\u001b[0m\u001b[1m\u001b[31m \u001b[0m\u001b[31mไม่\u001b[0m\u001b[1m\u001b[31mเคย\u001b[0m\u001b[1m\u001b[31mขึ้น\u001b[0m\u001b[31mเต็ม\u001b[0m\u001b[31mสัก\u001b[0m\u001b[1m\u001b[31mวัน\u001b[0m\u001b[31mเดียว\u001b[0m\u001b[31m \u001b[0m\u001b[31m😠😠\u001b[0m, 0.19 Ans: 0.25 ✓\n",
      "Acc: 0.80\n",
      "............................................................................................................................................................\n",
      "Epoch -  29\n",
      "Avg Accuracy (training set): 0.93\n",
      "Accuracy (test set): 0.69\n",
      "====================================\n",
      "Show test result\n",
      "\u001b[31mแร้ว\u001b[0m\u001b[30mถ้า\u001b[0m\u001b[30mเรา\u001b[0m\u001b[30mย้าย\u001b[0m\u001b[30mค่าย\u001b[0m\u001b[30mได้\u001b[0m\u001b[30mเหมือน\u001b[0m\u001b[30mกัน\u001b[0m\u001b[30mไหม\u001b[0m\u001b[30mค่ะ\u001b[0m, 0.55 Ans: 0.75 X\n",
      "\u001b[34mสนใจ\u001b[0m\u001b[34mไอโฟน\u001b[0m\u001b[34m \u001b[0m\u001b[34m6\u001b[0m\u001b[34m \u001b[0m\u001b[1m\u001b[34m \u001b[0m\u001b[34ms\u001b[0m\u001b[34m \u001b[0m\u001b[34mplus\u001b[0m\u001b[34m \u001b[0m\u001b[34m \u001b[0m\u001b[34mราคา\u001b[0m\u001b[34mเท่า\u001b[0m\u001b[34mไหร่\u001b[0m\u001b[34m.\u001b[0m\u001b[34mผ่อนบัตร\u001b[0m\u001b[34mไร\u001b[0m\u001b[34mบ้าง\u001b[0m, 0.69 Ans: 0.75 ✓\n",
      "\u001b[30mสมัค\u001b[0m\u001b[34mยัง\u001b[0m\u001b[34mไง\u001b[0m\u001b[34mคับ\u001b[0m\u001b[34m \u001b[0m\u001b[34mพอ\u001b[0m\u001b[1m\u001b[34mคลิก\u001b[0m\u001b[34mเข้า\u001b[0m\u001b[34mไป\u001b[0m\u001b[34mแล้ว\u001b[0m\u001b[30mเป็น\u001b[0m\u001b[30mอีก\u001b[0m\u001b[30mเบ\u001b[0m\u001b[30mอ\u001b[0m\u001b[30mนึ่ง\u001b[0m, 0.47 Ans: 0.50 ✓\n",
      "\u001b[30mใช้\u001b[0m\u001b[31m \u001b[0m\u001b[34mDtac\u001b[0m\u001b[1m\u001b[34m \u001b[0m\u001b[1m\u001b[34mมา\u001b[0m\u001b[34m \u001b[0m\u001b[34m12\u001b[0m\u001b[34m \u001b[0m\u001b[1m\u001b[34mปี\u001b[0m\u001b[1m\u001b[34mแหละ\u001b[0m\u001b[1m\u001b[34m \u001b[0m\u001b[1m\u001b[34m \u001b[0m\u001b[1m\u001b[34mคง\u001b[0m\u001b[1m\u001b[34mถึง\u001b[0m\u001b[1m\u001b[34mเวลา\u001b[0m\u001b[1m\u001b[34mต้อง\u001b[0m\u001b[1m\u001b[34mตัดใจ\u001b[0m\u001b[34mลา\u001b[0m\u001b[30mขาด\u001b[0m\u001b[30m \u001b[0m\u001b[31mเปลี่ยน\u001b[0m\u001b[31mค้าย\u001b[0m\u001b[1m\u001b[31mหัก\u001b[0m\u001b[1m\u001b[31mซิม\u001b[0m\u001b[1m\u001b[31mทิ้ง\u001b[0m\u001b[1m\u001b[31mอย่าง\u001b[0m\u001b[1m\u001b[31mมุ่งมั่น\u001b[0m\u001b[1m\u001b[31m \u001b[0m\u001b[1m\u001b[31m \u001b[0m\u001b[1m\u001b[31mลา\u001b[0m\u001b[1m\u001b[31mขาด\u001b[0m\u001b[1m\u001b[31mลูกธัมมี่\u001b[0m\u001b[1m\u001b[31m \u001b[0m\u001b[1m\u001b[31m \u001b[0m\u001b[1m\u001b[31mThe\u001b[0m\u001b[1m\u001b[31m \u001b[0m\u001b[1m\u001b[31mend\u001b[0m, 0.17 Ans: 0.00 ✓\n",
      "\u001b[30mอ่าน\u001b[0m\u001b[31mแชท\u001b[0m\u001b[31mด้วย\u001b[0m\u001b[30mค่ะ\u001b[0m, 0.42 Ans: 0.50 X\n",
      "\u001b[34mP9\u001b[0m\u001b[1m\u001b[34m \u001b[0m\u001b[1m\u001b[34mplus\u001b[0m\u001b[34m \u001b[0m\u001b[34mจะ\u001b[0m\u001b[34mมี\u001b[0m\u001b[34mสี\u001b[0m\u001b[30mอื่น\u001b[0m\u001b[34mเข้า\u001b[0m\u001b[34mมา\u001b[0m\u001b[34mไหม\u001b[0m\u001b[30mครับ\u001b[0m, 0.71 Ans: 0.75 ✓\n",
      "\u001b[1m\u001b[34mราคา\u001b[0m\u001b[1m\u001b[34mเท่า\u001b[0m\u001b[34mไร\u001b[0m\u001b[34mนะ\u001b[0m, 0.68 Ans: 0.50 X\n",
      "\u001b[30mคือ\u001b[0m\u001b[31mตอน\u001b[0m\u001b[31mนี้\u001b[0m\u001b[31mต้องการ\u001b[0m\u001b[31m \u001b[0m\u001b[31m4\u001b[0m\u001b[30mG\u001b[0m\u001b[30m \u001b[0m\u001b[30mแบบ\u001b[0m\u001b[30mไม่\u001b[0m\u001b[30mจำกัด\u001b[0m\u001b[30mปริมาณ\u001b[0m\u001b[30m \u001b[0m\u001b[30mยัง\u001b[0m\u001b[30mมี\u001b[0m\u001b[31mอยู่\u001b[0m\u001b[30mมั้ย\u001b[0m\u001b[30mครับ\u001b[0m, 0.48 Ans: 0.75 X\n",
      "\u001b[30mอ่าน\u001b[0m\u001b[30mภาษา\u001b[0m\u001b[30mอังกิด\u001b[0m\u001b[30mไม่\u001b[0m\u001b[30mค่อย\u001b[0m\u001b[31mออก\u001b[0m\u001b[31mเเปล\u001b[0m\u001b[31mหน่อย\u001b[0m\u001b[31mจร้า\u001b[0m, 0.26 Ans: 0.50 X\n",
      "\u001b[30mเช็ก\u001b[0m\u001b[30mโปร\u001b[0m\u001b[30m \u001b[0m\u001b[34mกด\u001b[0m\u001b[34mอะไร\u001b[0m\u001b[34mครับ\u001b[0m, 0.69 Ans: 0.50 X\n",
      "Acc: 0.40\n",
      "Epoch 10 error 3.9%\n"
     ]
    }
   ],
   "source": [
    "batch_size = 32\n",
    "no_of_batches = int(len(X_train)/batch_size)\n",
    "epoch = 30\n",
    "def printSegmentColor(word,sent):\n",
    "    if(sent<0.2): return print(colored(word, 'red',attrs=['bold']),end='')\n",
    "    elif(sent<0.45): return print(colored(word, 'red'),end='')\n",
    "    elif(sent<0.65): return print(colored(word, 'grey'),end='')\n",
    "    elif(sent<0.80): return print(colored(word, 'blue'),end='')\n",
    "    elif(sent<=1): return print(colored(word, 'blue',attrs=['bold']),end='')\n",
    "\n",
    "    \n",
    "for i in range(epoch):\n",
    "    ptr = 0\n",
    "    avgAcc = 0\n",
    "    for j in range(no_of_batches):\n",
    "        #inp, out = train_input[ptr:ptr+batch_size], train_output[ptr:ptr+batch_size]\n",
    "        (batch_X,batch_Y) = generate_batch(ptr)\n",
    "        ptr+=batch_size\n",
    "        feed_dict = {data: batch_X, target: batch_Y}\n",
    "        sess.run(minimize,feed_dict)\n",
    "        predict = sess.run(prediction,feed_dict)\n",
    "        avgAcc+= cal_acc(predict,batch_Y)/no_of_batches\n",
    "        #accuracy = sess.run(acc,{data:test_X,target:test_Y})\n",
    "        #avgAcc += accuracy/no_of_batches\n",
    "        print(\".\",end='')\n",
    "        \n",
    "    print(\"\\nEpoch - \",str(i))\n",
    "    print(\"Avg Accuracy (training set): %.2f\"%avgAcc)\n",
    "    #print(\"Avg acc: {}\".format(round(avgAcc,2)))\n",
    "    selInt = random.randint(0,test_X.shape[0]-11)\n",
    "    test_pred = sess.run(prediction,{data:test_X[selInt:selInt+10],target:test_Y[selInt:selInt+10]})\n",
    "    all_test_pred = sess.run(allpredictions,{data:test_X[selInt:selInt+10],target:test_Y[selInt:selInt+10]})\n",
    "    err = sess.run(loss,{data:test_X[selInt:selInt+10],target:test_Y[selInt:selInt+10]})\n",
    "    #print(\"Loss: %f\"%err)\n",
    "    \n",
    "    validation_pred = sess.run(prediction,{data: test_X, target: test_Y})\n",
    "    acc = cal_acc(validation_pred,test_Y)\n",
    "    print(\"Accuracy (test set): %.2f\"%acc)\n",
    "    print(\"====================================\")\n",
    "    print(\"Show test result\")\n",
    "    correct = 0\n",
    "    for i in range(len(test_pred)):\n",
    "        pred = test_pred[i]\n",
    "        current_pred_seq = all_test_pred[i][-len(X_test[selInt+i]):]\n",
    "        #Prin word with color by prediction\n",
    "        for j,word in enumerate(X_test[selInt+i]):\n",
    "            word_pred = current_pred_seq[j]\n",
    "            printSegmentColor(word,word_pred)\n",
    "        print(\", %.2f Ans: %.2f\"%(pred[0],y_test[selInt+i]),end=' ')\n",
    "        if(toSent(pred[0])==toSent(y_test[selInt+i])): \n",
    "            print(\"✓\")\n",
    "            correct+=1\n",
    "        else: \n",
    "            print(\"X\")\n",
    "    print(\"Acc: %.2f\"%(correct/10))\n",
    "validation_pred = sess.run(prediction,{data: valid_X, target: valid_Y})\n",
    "incorrect = sess.run(loss,{data: valid_X, target: valid_Y})\n",
    "print('Epoch {:2d} error {:3.1f}%'.format(i + 1, 100 * incorrect))\n"
   ]
  },
  {
   "cell_type": "code",
   "execution_count": 307,
   "metadata": {},
   "outputs": [
    {
     "name": "stdout",
     "output_type": "stream",
     "text": [
      "(1, 75, 802)\n",
      "-38.2691227894\n",
      "\u001b[31mควย\u001b[0m\u001b[31mกูด่า\u001b[0m\u001b[31mมึง\u001b[0m\u001b[31mอยู่\u001b[0m\u001b[31mเนี่ยย\u001b[0m\u001b[31m \u001b[0m\u001b[31mกาก\u001b[0m\u001b[31mมาก\u001b[0m\u001b[31m \u001b[0m\u001b[31mไม่\u001b[0m\u001b[1m\u001b[31mยอม\u001b[0m\u001b[1m\u001b[31mปรับปรุง\u001b[0m\n",
      "Predict: 0.69\n"
     ]
    }
   ],
   "source": [
    "import deepcut as dc\n",
    "def print_sentence_sentiment(sentences,verbose=False):\n",
    "    comment = dc.tokenize(sentences)\n",
    "    batch_X = np.zeros([1,max_seq_len,k+2])\n",
    "\n",
    "    for j in range(max_seq_len):\n",
    "        if(max_seq_len-j>len(comment)): # Should not be word yet\n",
    "            if(verbose):print(\"PAD\",end=' ')\n",
    "            batch_X[0][j][-1] = 1\n",
    "        else: \n",
    "            if(verbose):print(comment[j-(max_seq_len-len(comment))],end=' ')\n",
    "            try:\n",
    "                batch_X[0][j] = np.concatenate((model[comment[j-(max_seq_len-len(comment))]],np.zeros([2])))\n",
    "            except Exception:\n",
    "                if(verbose):print(\"UNK\",end=' ')\n",
    "                batch_X[0][j] = np.concatenate((np.zeros([k+1]),[1]))\n",
    "\n",
    "    print(batch_X.shape)\n",
    "    print(batch_X.sum())\n",
    "    all_test_pred = sess.run(allpredictions,{data:batch_X})\n",
    "    cur_seq_pred = all_test_pred[0,-len(comment):]\n",
    "    for i,word in enumerate(comment): \n",
    "        printSegmentColor(word,cur_seq_pred[i])\n",
    "    print()\n",
    "    final_prediction = sess.run(prediction,{data:batch_X})\n",
    "    print(\"Predict: %.2f\"%final_prediction)\n",
    "\n",
    "print_sentence_sentiment(\"ควยกูด่ามึงอยู่เนี่ยย กากมาก ไม่ยอมปรับปรุง\")"
   ]
  },
  {
   "cell_type": "code",
   "execution_count": 242,
   "metadata": {},
   "outputs": [
    {
     "name": "stdout",
     "output_type": "stream",
     "text": [
      "\u001b[31mสัญญาณ\u001b[0m\u001b[30mไม่\u001b[0m\u001b[30mดี\u001b[0m\u001b[31m \u001b[0m\u001b[30mไป\u001b[0m\u001b[30mตวจ\u001b[0m\u001b[31m \u001b[0m\u001b[30mดับ\u001b[0m\u001b[30mสนิท\u001b[0m\u001b[31m \u001b[0m\u001b[31mเลย\u001b[0m\u001b[31mเลิก\u001b[0m\u001b[31mใช้\u001b[0m\u001b[1m\u001b[31mมา\u001b[0m\u001b[31mนาน\u001b[0m\u001b[31mแล้ว\u001b[0m\u001b[31m \u001b[0m\u001b[1m\u001b[31mแต่\u001b[0m\u001b[31mรัก\u001b[0m\u001b[34mอั้ม\u001b[0m\u001b[31mนะ\u001b[0m\u001b[30mคะ\u001b[0m\u001b[31m \u001b[0m\u001b[31mชอบ\u001b[0m\u001b[30mมาก\u001b[0m\u001b[34m \u001b[0m\u001b[1m\u001b[31mใช้\u001b[0m\u001b[30mดี\u001b[0m\u001b[31mแทคมา\u001b[0m\u001b[30m7\u001b[0m\u001b[31m-\u001b[0m\u001b[31m8\u001b[0m\u001b[31mปี\u001b[0m\u001b[31m \u001b[0m\u001b[30mแต่\u001b[0m\u001b[1m\u001b[31mต้อง\u001b[0m\u001b[30mเปลี่ยน\u001b[0m\u001b[31mเพราะ\u001b[0m\u001b[31mเน็ต\u001b[0m\u001b[31mไม่\u001b[0m\u001b[31mดี\u001b[0m\u001b[1m\u001b[34m \u001b[0m\n",
      "Predict: 0.65\n"
     ]
    }
   ],
   "source": [
    "print_sentence_sentiment(\"สัญญาณไม่ดี ไปตวจ ดับสนิท เลยเลิกใช้มานานแล้ว แต่รักอั้มนะคะ ชอบมาก ใช้ดีแทคมา7-8ปี แต่ต้องเปลี่ยนเพราะเน็ตไม่ดี \")"
   ]
  },
  {
   "cell_type": "code",
   "execution_count": 278,
   "metadata": {},
   "outputs": [
    {
     "name": "stdout",
     "output_type": "stream",
     "text": [
      "\u001b[30mรัก\u001b[0m\u001b[30mอั้ม\u001b[0m\u001b[30mนะ\u001b[0m\u001b[30mคะ\u001b[0m\u001b[30m \u001b[0m\u001b[30mชอบ\u001b[0m\u001b[30mมาก\u001b[0m\u001b[34m \u001b[0m\u001b[34mใช้\u001b[0m\u001b[30mดี\u001b[0m\u001b[30mทค\u001b[0m\u001b[34mมา\u001b[0m\u001b[30m7\u001b[0m\u001b[31m-\u001b[0m\u001b[30m8\u001b[0m\u001b[1m\u001b[31mปี\u001b[0m\u001b[30m \u001b[0m\u001b[31mแต่\u001b[0m\u001b[31mต้อง\u001b[0m\u001b[31mเปลี่ยน\u001b[0m\u001b[31mเพราะ\u001b[0m\u001b[34m \u001b[0m\u001b[34mเน็ต\u001b[0m\u001b[30mไม่\u001b[0m\u001b[30mดี\u001b[0m\u001b[31m \u001b[0m\u001b[30mสัญญาณ\u001b[0m\u001b[31mไม่\u001b[0m\u001b[31mดี\u001b[0m\u001b[31m \u001b[0m\u001b[30mไป\u001b[0m\u001b[30mตจว\u001b[0m\u001b[31m \u001b[0m\u001b[34mดับ\u001b[0m\u001b[30mสนิท\u001b[0m\n",
      "Predict: 0.11\n"
     ]
    }
   ],
   "source": [
    "print_sentence_sentiment(\"รักอั้มนะคะ ชอบมาก ใช้ดีทคมา7-8ปี แต่ต้องเปลี่ยนเพราะ เน็ตไม่ดี สัญญาณไม่ดี ไปตจว ดับสนิท\")"
   ]
  },
  {
   "cell_type": "code",
   "execution_count": 298,
   "metadata": {},
   "outputs": [
    {
     "name": "stdout",
     "output_type": "stream",
     "text": [
      "\u001b[30mใช้\u001b[0m\u001b[30mดีทค\u001b[0m\u001b[30mมา\u001b[0m\u001b[30m7\u001b[0m\u001b[30m-\u001b[0m\u001b[31m8\u001b[0m\u001b[30mปี\u001b[0m\u001b[30m \u001b[0m\u001b[31mแต่\u001b[0m\u001b[31mต้อง\u001b[0m\u001b[31mเปลี่ยน\u001b[0m\u001b[31mเพราะ\u001b[0m\u001b[31m \u001b[0m\u001b[31mเน็ต\u001b[0m\u001b[31mไม่\u001b[0m\u001b[31mดี\u001b[0m\u001b[1m\u001b[31m \u001b[0m\u001b[31mสัญญาณ\u001b[0m\u001b[31mไม่\u001b[0m\u001b[30mดี\u001b[0m\u001b[31m \u001b[0m\u001b[30mไป\u001b[0m\u001b[30mตจว\u001b[0m\u001b[30m \u001b[0m\u001b[1m\u001b[31mดับ\u001b[0m\u001b[30mสนิท\u001b[0m\u001b[31m \u001b[0m\u001b[31mแต่\u001b[0m\u001b[1m\u001b[31mรัก\u001b[0m\u001b[1m\u001b[31mอั้ม\u001b[0m\u001b[1m\u001b[31mนะ\u001b[0m\u001b[31mคะ\u001b[0m\u001b[30m \u001b[0m\u001b[31mชอบ\u001b[0m\u001b[1m\u001b[31mมาก\u001b[0m\n",
      "Predict: 0.09\n"
     ]
    }
   ],
   "source": [
    "print_sentence_sentiment(\"ใช้ดีทคมา7-8ปี แต่ต้องเปลี่ยนเพราะ เน็ตไม่ดี สัญญาณไม่ดี ไปตจว ดับสนิท แต่รักอั้มนะคะ ชอบมาก\")"
   ]
  },
  {
   "cell_type": "code",
   "execution_count": 266,
   "metadata": {},
   "outputs": [
    {
     "name": "stdout",
     "output_type": "stream",
     "text": [
      "\u001b[30mเครื่อง\u001b[0m\u001b[30mฟรี\u001b[0m\u001b[30mราย\u001b[0m\u001b[34mเดือน\u001b[0m\u001b[30mราคา\u001b[0m\u001b[30mเบา\u001b[0m\u001b[30mมี\u001b[0m\u001b[30mไหม\u001b[0m\u001b[31mค่ะ\u001b[0m\n",
      "Predict: 0.49\n"
     ]
    }
   ],
   "source": [
    "print_sentence_sentiment(\"เครื่องฟรีรายเดือนราคาเบามีไหมค่ะ\")"
   ]
  },
  {
   "cell_type": "code",
   "execution_count": 271,
   "metadata": {},
   "outputs": [
    {
     "name": "stdout",
     "output_type": "stream",
     "text": [
      "\u001b[30mใช้\u001b[0m\u001b[31m \u001b[0m\u001b[30mDtac\u001b[0m\u001b[31m \u001b[0m\u001b[31mมา\u001b[0m\u001b[31m \u001b[0m\u001b[31m12\u001b[0m\u001b[31m \u001b[0m\u001b[1m\u001b[31mปี\u001b[0m\u001b[31mแหละ\u001b[0m\u001b[1m\u001b[31m \u001b[0m\u001b[30mเน็ต\u001b[0m\u001b[34mไม่\u001b[0m\u001b[31mมี\u001b[0m\u001b[31mหลุด\u001b[0m\n",
      "Predict: 0.30\n"
     ]
    }
   ],
   "source": [
    "print_sentence_sentiment(\"ใช้ Dtac มา 12 ปีแหละ เน็ตไม่มีหลุด\")"
   ]
  },
  {
   "cell_type": "code",
   "execution_count": 26,
   "metadata": {},
   "outputs": [
    {
     "ename": "ValueError",
     "evalue": "At least two variables have the same name: Variable_1/Adam",
     "output_type": "error",
     "traceback": [
      "\u001b[0;31m---------------------------------------------------------------------------\u001b[0m",
      "\u001b[0;31mValueError\u001b[0m                                Traceback (most recent call last)",
      "\u001b[0;32m<ipython-input-26-fd3a72b35812>\u001b[0m in \u001b[0;36m<module>\u001b[0;34m()\u001b[0m\n\u001b[0;32m----> 1\u001b[0;31m \u001b[0msaver\u001b[0m \u001b[0;34m=\u001b[0m \u001b[0mtf\u001b[0m\u001b[0;34m.\u001b[0m\u001b[0mtrain\u001b[0m\u001b[0;34m.\u001b[0m\u001b[0mSaver\u001b[0m\u001b[0;34m(\u001b[0m\u001b[0;34m)\u001b[0m\u001b[0;34m\u001b[0m\u001b[0m\n\u001b[0m\u001b[1;32m      2\u001b[0m \u001b[0msavePath\u001b[0m \u001b[0;34m=\u001b[0m \u001b[0msaver\u001b[0m\u001b[0;34m.\u001b[0m\u001b[0msave\u001b[0m\u001b[0;34m(\u001b[0m\u001b[0msess\u001b[0m\u001b[0;34m,\u001b[0m \u001b[0;34m'../model/lstm_regression.ckpt'\u001b[0m\u001b[0;34m)\u001b[0m\u001b[0;34m\u001b[0m\u001b[0m\n\u001b[1;32m      3\u001b[0m \u001b[0mprint\u001b[0m\u001b[0;34m(\u001b[0m\u001b[0msavePath\u001b[0m\u001b[0;34m)\u001b[0m\u001b[0;34m\u001b[0m\u001b[0m\n",
      "\u001b[0;32m~/miniconda3/envs/tf/lib/python3.5/site-packages/tensorflow/python/training/saver.py\u001b[0m in \u001b[0;36m__init__\u001b[0;34m(self, var_list, reshape, sharded, max_to_keep, keep_checkpoint_every_n_hours, name, restore_sequentially, saver_def, builder, defer_build, allow_empty, write_version, pad_step_number, save_relative_paths)\u001b[0m\n\u001b[1;32m   1137\u001b[0m     \u001b[0mself\u001b[0m\u001b[0;34m.\u001b[0m\u001b[0m_pad_step_number\u001b[0m \u001b[0;34m=\u001b[0m \u001b[0mpad_step_number\u001b[0m\u001b[0;34m\u001b[0m\u001b[0m\n\u001b[1;32m   1138\u001b[0m     \u001b[0;32mif\u001b[0m \u001b[0;32mnot\u001b[0m \u001b[0mdefer_build\u001b[0m\u001b[0;34m:\u001b[0m\u001b[0;34m\u001b[0m\u001b[0m\n\u001b[0;32m-> 1139\u001b[0;31m       \u001b[0mself\u001b[0m\u001b[0;34m.\u001b[0m\u001b[0mbuild\u001b[0m\u001b[0;34m(\u001b[0m\u001b[0;34m)\u001b[0m\u001b[0;34m\u001b[0m\u001b[0m\n\u001b[0m\u001b[1;32m   1140\u001b[0m     \u001b[0;32mif\u001b[0m \u001b[0mself\u001b[0m\u001b[0;34m.\u001b[0m\u001b[0msaver_def\u001b[0m\u001b[0;34m:\u001b[0m\u001b[0;34m\u001b[0m\u001b[0m\n\u001b[1;32m   1141\u001b[0m       \u001b[0mself\u001b[0m\u001b[0;34m.\u001b[0m\u001b[0m_check_saver_def\u001b[0m\u001b[0;34m(\u001b[0m\u001b[0;34m)\u001b[0m\u001b[0;34m\u001b[0m\u001b[0m\n",
      "\u001b[0;32m~/miniconda3/envs/tf/lib/python3.5/site-packages/tensorflow/python/training/saver.py\u001b[0m in \u001b[0;36mbuild\u001b[0;34m(self)\u001b[0m\n\u001b[1;32m   1168\u001b[0m           \u001b[0mkeep_checkpoint_every_n_hours\u001b[0m\u001b[0;34m=\u001b[0m\u001b[0mself\u001b[0m\u001b[0;34m.\u001b[0m\u001b[0m_keep_checkpoint_every_n_hours\u001b[0m\u001b[0;34m,\u001b[0m\u001b[0;34m\u001b[0m\u001b[0m\n\u001b[1;32m   1169\u001b[0m           \u001b[0mname\u001b[0m\u001b[0;34m=\u001b[0m\u001b[0mself\u001b[0m\u001b[0;34m.\u001b[0m\u001b[0m_name\u001b[0m\u001b[0;34m,\u001b[0m\u001b[0;34m\u001b[0m\u001b[0m\n\u001b[0;32m-> 1170\u001b[0;31m           restore_sequentially=self._restore_sequentially)\n\u001b[0m\u001b[1;32m   1171\u001b[0m     \u001b[0;32melif\u001b[0m \u001b[0mself\u001b[0m\u001b[0;34m.\u001b[0m\u001b[0msaver_def\u001b[0m \u001b[0;32mand\u001b[0m \u001b[0mself\u001b[0m\u001b[0;34m.\u001b[0m\u001b[0m_name\u001b[0m\u001b[0;34m:\u001b[0m\u001b[0;34m\u001b[0m\u001b[0m\n\u001b[1;32m   1172\u001b[0m       \u001b[0;31m# Since self._name is used as a name_scope by builder(), we are\u001b[0m\u001b[0;34m\u001b[0m\u001b[0;34m\u001b[0m\u001b[0m\n",
      "\u001b[0;32m~/miniconda3/envs/tf/lib/python3.5/site-packages/tensorflow/python/training/saver.py\u001b[0m in \u001b[0;36mbuild\u001b[0;34m(self, names_to_saveables, reshape, sharded, max_to_keep, keep_checkpoint_every_n_hours, name, restore_sequentially, filename)\u001b[0m\n\u001b[1;32m    671\u001b[0m         \u001b[0munique\u001b[0m\u001b[0;34m.\u001b[0m\u001b[0;34m\u001b[0m\u001b[0m\n\u001b[1;32m    672\u001b[0m     \"\"\"\n\u001b[0;32m--> 673\u001b[0;31m     \u001b[0msaveables\u001b[0m \u001b[0;34m=\u001b[0m \u001b[0mself\u001b[0m\u001b[0;34m.\u001b[0m\u001b[0m_ValidateAndSliceInputs\u001b[0m\u001b[0;34m(\u001b[0m\u001b[0mnames_to_saveables\u001b[0m\u001b[0;34m)\u001b[0m\u001b[0;34m\u001b[0m\u001b[0m\n\u001b[0m\u001b[1;32m    674\u001b[0m     \u001b[0;32mif\u001b[0m \u001b[0mmax_to_keep\u001b[0m \u001b[0;32mis\u001b[0m \u001b[0;32mNone\u001b[0m\u001b[0;34m:\u001b[0m\u001b[0;34m\u001b[0m\u001b[0m\n\u001b[1;32m    675\u001b[0m       \u001b[0mmax_to_keep\u001b[0m \u001b[0;34m=\u001b[0m \u001b[0;36m0\u001b[0m\u001b[0;34m\u001b[0m\u001b[0m\n",
      "\u001b[0;32m~/miniconda3/envs/tf/lib/python3.5/site-packages/tensorflow/python/training/saver.py\u001b[0m in \u001b[0;36m_ValidateAndSliceInputs\u001b[0;34m(self, names_to_saveables)\u001b[0m\n\u001b[1;32m    555\u001b[0m     \"\"\"\n\u001b[1;32m    556\u001b[0m     \u001b[0;32mif\u001b[0m \u001b[0;32mnot\u001b[0m \u001b[0misinstance\u001b[0m\u001b[0;34m(\u001b[0m\u001b[0mnames_to_saveables\u001b[0m\u001b[0;34m,\u001b[0m \u001b[0mdict\u001b[0m\u001b[0;34m)\u001b[0m\u001b[0;34m:\u001b[0m\u001b[0;34m\u001b[0m\u001b[0m\n\u001b[0;32m--> 557\u001b[0;31m       \u001b[0mnames_to_saveables\u001b[0m \u001b[0;34m=\u001b[0m \u001b[0mBaseSaverBuilder\u001b[0m\u001b[0;34m.\u001b[0m\u001b[0mOpListToDict\u001b[0m\u001b[0;34m(\u001b[0m\u001b[0mnames_to_saveables\u001b[0m\u001b[0;34m)\u001b[0m\u001b[0;34m\u001b[0m\u001b[0m\n\u001b[0m\u001b[1;32m    558\u001b[0m \u001b[0;34m\u001b[0m\u001b[0m\n\u001b[1;32m    559\u001b[0m     \u001b[0msaveables\u001b[0m \u001b[0;34m=\u001b[0m \u001b[0;34m[\u001b[0m\u001b[0;34m]\u001b[0m\u001b[0;34m\u001b[0m\u001b[0m\n",
      "\u001b[0;32m~/miniconda3/envs/tf/lib/python3.5/site-packages/tensorflow/python/training/saver.py\u001b[0m in \u001b[0;36mOpListToDict\u001b[0;34m(op_list)\u001b[0m\n\u001b[1;32m    533\u001b[0m         \u001b[0;32mif\u001b[0m \u001b[0mname\u001b[0m \u001b[0;32min\u001b[0m \u001b[0mnames_to_saveables\u001b[0m\u001b[0;34m:\u001b[0m\u001b[0;34m\u001b[0m\u001b[0m\n\u001b[1;32m    534\u001b[0m           raise ValueError(\"At least two variables have the same name: %s\" %\n\u001b[0;32m--> 535\u001b[0;31m                            name)\n\u001b[0m\u001b[1;32m    536\u001b[0m         \u001b[0mnames_to_saveables\u001b[0m\u001b[0;34m[\u001b[0m\u001b[0mname\u001b[0m\u001b[0;34m]\u001b[0m \u001b[0;34m=\u001b[0m \u001b[0mvar\u001b[0m\u001b[0;34m\u001b[0m\u001b[0m\n\u001b[1;32m    537\u001b[0m       \u001b[0;31m# pylint: enable=protected-access\u001b[0m\u001b[0;34m\u001b[0m\u001b[0;34m\u001b[0m\u001b[0m\n",
      "\u001b[0;31mValueError\u001b[0m: At least two variables have the same name: Variable_1/Adam"
     ]
    }
   ],
   "source": [
    "saver = tf.train.Saver()\n",
    "savePath = saver.save(sess, '../model/lstm_regression.ckpt')\n",
    "print(savePath)"
   ]
  },
  {
   "cell_type": "code",
   "execution_count": 23,
   "metadata": {},
   "outputs": [
    {
     "data": {
      "text/plain": [
       "'lstm_sentiment_model_210717'"
      ]
     },
     "execution_count": 23,
     "metadata": {},
     "output_type": "execute_result"
    }
   ],
   "source": [
    "saver = tf.train.Saver()\n",
    "saver.save(sess, 'lstm_sentiment_model_210717')"
   ]
  },
  {
   "cell_type": "code",
   "execution_count": 24,
   "metadata": {},
   "outputs": [
    {
     "name": "stdout",
     "output_type": "stream",
     "text": [
      "INFO:tensorflow:Restoring parameters from ../model/lstm_regression.ckpt\n"
     ]
    }
   ],
   "source": [
    "saver = tf.train.import_meta_graph('../model/lstm_regression.ckpt.meta')\n",
    "saver.restore(sess,  '../model/lstm_regression.ckpt')\n",
    "# access a variable from the saved Graph, and so on:\n",
    "sess = sess.run(init_op)"
   ]
  },
  {
   "cell_type": "code",
   "execution_count": 25,
   "metadata": {},
   "outputs": [
    {
     "ename": "AttributeError",
     "evalue": "'NoneType' object has no attribute 'close'",
     "output_type": "error",
     "traceback": [
      "\u001b[0;31m---------------------------------------------------------------------------\u001b[0m",
      "\u001b[0;31mAttributeError\u001b[0m                            Traceback (most recent call last)",
      "\u001b[0;32m<ipython-input-25-81d663910229>\u001b[0m in \u001b[0;36m<module>\u001b[0;34m()\u001b[0m\n\u001b[0;32m----> 1\u001b[0;31m \u001b[0msess\u001b[0m\u001b[0;34m.\u001b[0m\u001b[0mclose\u001b[0m\u001b[0;34m(\u001b[0m\u001b[0;34m)\u001b[0m\u001b[0;34m\u001b[0m\u001b[0m\n\u001b[0m\u001b[1;32m      2\u001b[0m \u001b[0;31m#https://stackoverflow.com/questions/33759623/tensorflow-how-to-save-restore-a-model\u001b[0m\u001b[0;34m\u001b[0m\u001b[0;34m\u001b[0m\u001b[0m\n",
      "\u001b[0;31mAttributeError\u001b[0m: 'NoneType' object has no attribute 'close'"
     ]
    }
   ],
   "source": [
    "sess.close()\n",
    "#https://stackoverflow.com/questions/33759623/tensorflow-how-to-save-restore-a-model"
   ]
  }
 ],
 "metadata": {
  "kernelspec": {
   "display_name": "Python 3",
   "language": "python",
   "name": "python3"
  },
  "language_info": {
   "codemirror_mode": {
    "name": "ipython",
    "version": 3
   },
   "file_extension": ".py",
   "mimetype": "text/x-python",
   "name": "python",
   "nbconvert_exporter": "python",
   "pygments_lexer": "ipython3",
   "version": "3.5.3"
  }
 },
 "nbformat": 4,
 "nbformat_minor": 2
}
